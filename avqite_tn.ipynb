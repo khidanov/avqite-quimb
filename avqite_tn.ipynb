{
 "cells": [
  {
   "cell_type": "code",
   "execution_count": null,
   "id": "a900cbc6-c790-404e-9c0e-83c8b3e812f5",
   "metadata": {},
   "outputs": [],
   "source": [
    "\"\"\"\n",
    "This notebook demonstrates how to use tensor-network implementation \n",
    "of the VQITE simulation.\n",
    "The main code, relevant description, and package requirements are \n",
    "listed in avqite_quimb.py.\n",
    "\"\"\""
   ]
  },
  {
   "cell_type": "code",
   "execution_count": 20,
   "id": "c4566e4a-1628-4926-aee9-eb1b63356159",
   "metadata": {
    "tags": []
   },
   "outputs": [
    {
     "data": {
      "text/plain": [
       "<module 'avqite_quimb' from '/Users/Aleksei/avqite-quimb/avqite_quimb.py'>"
      ]
     },
     "execution_count": 20,
     "metadata": {},
     "output_type": "execute_result"
    }
   ],
   "source": [
    "import numpy as np\n",
    "import scipy\n",
    "import pickle\n",
    "import time\n",
    "from tqdm import tqdm\n",
    "from typing import (\n",
    "    List,\n",
    "    Optional,\n",
    "    Tuple,\n",
    "    Union\n",
    ")\n",
    "import random\n",
    "import importlib\n",
    "\n",
    "import quimb as qu\n",
    "import quimb.tensor as qtn\n",
    "\n",
    "import cotengra as ctg\n",
    "\n",
    "import avqite_quimb\n",
    "\n",
    "importlib.reload(avqite_quimb)"
   ]
  },
  {
   "cell_type": "code",
   "execution_count": 21,
   "id": "3b4e9217-558a-4eac-abbb-16ef0a46fd92",
   "metadata": {
    "tags": []
   },
   "outputs": [],
   "source": [
    "test_obj = avqite_quimb.Quimb_vqite(filename = \"N12g0.1\")"
   ]
  },
  {
   "cell_type": "code",
   "execution_count": 22,
   "id": "ccec568b-5985-49eb-a48f-bf355be0085d",
   "metadata": {},
   "outputs": [
    {
     "data": {
      "text/plain": [
       "{'XIIIIIIIIIII': <ContractionTree(N=31)>,\n",
       " 'IXIIIIIIIIII': <ContractionTree(N=47)>,\n",
       " 'IIXIIIIIIIII': <ContractionTree(N=49)>,\n",
       " 'IIIXIIIIIIII': <ContractionTree(N=59)>,\n",
       " 'IIIIXIIIIIII': <ContractionTree(N=45)>,\n",
       " 'IIIIIXIIIIII': <ContractionTree(N=55)>,\n",
       " 'IIIIIIXIIIII': <ContractionTree(N=27)>,\n",
       " 'IIIIIIIXIIII': <ContractionTree(N=69)>,\n",
       " 'IIIIIIIIXIII': <ContractionTree(N=65)>,\n",
       " 'IIIIIIIIIXII': <ContractionTree(N=65)>,\n",
       " 'IIIIIIIIIIXI': <ContractionTree(N=61)>,\n",
       " 'IIIIIIIIIIIX': <ContractionTree(N=51)>,\n",
       " 'ZZIIIIIIIIII': <ContractionTree(N=77)>,\n",
       " 'IZZIIIIIIIII': <ContractionTree(N=95)>,\n",
       " 'IIZZIIIIIIII': <ContractionTree(N=87)>,\n",
       " 'IIIZZIIIIIII': <ContractionTree(N=83)>,\n",
       " 'IIIIZZIIIIII': <ContractionTree(N=79)>,\n",
       " 'IIIIIZZIIIII': <ContractionTree(N=71)>,\n",
       " 'IIIIIIZZIIII': <ContractionTree(N=75)>,\n",
       " 'IIIIIIIZZIII': <ContractionTree(N=103)>,\n",
       " 'IIIIIIIIZZII': <ContractionTree(N=99)>,\n",
       " 'IIIIIIIIIZZI': <ContractionTree(N=95)>,\n",
       " 'IIIIIIIIIIZZ': <ContractionTree(N=85)>,\n",
       " 'ZIIIIIIIIIIZ': <ContractionTree(N=81)>}"
      ]
     },
     "execution_count": 22,
     "metadata": {},
     "output_type": "execute_result"
    }
   ],
   "source": [
    "#Constructs the dictionary of contraction trees for evaluating\n",
    "#the tensor corresponding to the expectation value of each Pauli\n",
    "#string in the Hamiltonian.\n",
    "#The expectation value is evaluated for the ansatz state.\n",
    "#This dictionary of contraction trees can then be reused when\n",
    "#evaluating expectation values for other values of parameters.\n",
    "\n",
    "test_obj.contruct_opt_dict(opt='greedy',simp = \"\")\n",
    "test_obj.opt_dict"
   ]
  },
  {
   "cell_type": "code",
   "execution_count": 23,
   "id": "a828be15-c54e-4054-8d4c-b0826ad28b5a",
   "metadata": {},
   "outputs": [
    {
     "data": {
      "text/plain": [
       "[0.0767197722928947,\n",
       " 0.06752324227922515,\n",
       " 0.07260916938011339,\n",
       " 0.051921375712404516,\n",
       " -0.05523980281031422,\n",
       " -0.03368793147994849,\n",
       " -0.09804358961460141,\n",
       " 0.05257431446054292,\n",
       " -0.06666256484950579,\n",
       " 0.062248563089730535,\n",
       " 0.056421191526814546,\n",
       " -0.001272373089034648,\n",
       " -0.04672753022933476,\n",
       " -0.09477781426125023,\n",
       " 0.045590082751661265,\n",
       " -0.025923648334662416,\n",
       " -0.06235548637593076,\n",
       " -0.08215596823936436,\n",
       " 0.0763034909020138,\n",
       " -0.02206696706652264,\n",
       " -0.0983981707457067]"
      ]
     },
     "execution_count": 23,
     "metadata": {},
     "output_type": "execute_result"
    }
   ],
   "source": [
    "#Initial parameter values\n",
    "\n",
    "test_obj._params"
   ]
  },
  {
   "cell_type": "markdown",
   "id": "a9f52179-44ee-45a7-8348-c704480557f0",
   "metadata": {},
   "source": [
    "### AVQITE results"
   ]
  },
  {
   "cell_type": "markdown",
   "id": "df675ff4-9877-46df-8678-32a230657f28",
   "metadata": {},
   "source": [
    "e = -12.02998224"
   ]
  },
  {
   "cell_type": "code",
   "execution_count": 28,
   "id": "3101582a-391d-4649-9c78-bb9f71f9d0d8",
   "metadata": {},
   "outputs": [
    {
     "data": {
      "text/plain": [
       "[-0.03373891838404348,\n",
       " -0.050078497033246835,\n",
       " -0.04991639034653487,\n",
       " -0.024964345407657868,\n",
       " -0.049755843269241644,\n",
       " -0.04989684794910913,\n",
       " -0.049917295159514666,\n",
       " -0.04991848825801717,\n",
       " -0.03373880318968922,\n",
       " 0.023566888103175317,\n",
       " -0.04993780407632377,\n",
       " -9.060913728609124e-06,\n",
       " -2.1727417925979092e-05,\n",
       " -2.0666081313686814e-05,\n",
       " -0.04975599567846892,\n",
       " -0.01613088640936399,\n",
       " -0.01613095926996059,\n",
       " -2.1592095145783832e-05,\n",
       " -0.07350141136452552,\n",
       " 9.920607797867385e-05,\n",
       " -0.02496434540765841]"
      ]
     },
     "execution_count": 28,
     "metadata": {},
     "output_type": "execute_result"
    }
   ],
   "source": [
    "test_obj._params_solution"
   ]
  },
  {
   "cell_type": "markdown",
   "id": "60837c3a-47ae-49d2-a5d8-886576878197",
   "metadata": {},
   "source": [
    "### Case with simplification 'CSR' and without the reuse of contraction paths"
   ]
  },
  {
   "cell_type": "code",
   "execution_count": 25,
   "id": "1f8aab06-7bd0-4843-beb1-081770799c14",
   "metadata": {
    "collapsed": true,
    "jupyter": {
     "outputs_hidden": true
    }
   },
   "outputs": [
    {
     "name": "stdout",
     "output_type": "stream",
     "text": [
      "iter:  0 , M matrix time:  4.564655065536499 , V vector time:  14.833947896957397 , Energy:  (-11.941403130398134+1.0080780343886122e-16j)\n",
      "iter:  1 , M matrix time:  0.8226380348205566 , V vector time:  11.588097095489502 , Energy:  (-11.954967560854312-3.1145896491512494e-17j)\n",
      "iter:  2 , M matrix time:  0.4042391777038574 , V vector time:  11.661854982376099 , Energy:  (-11.966463241998861-1.8189644620296193e-17j)\n",
      "iter:  3 , M matrix time:  0.3667151927947998 , V vector time:  10.702497720718384 , Energy:  (-11.976203340209443-7.692463577193607e-17j)\n",
      "iter:  4 , M matrix time:  0.3639218807220459 , V vector time:  10.822761058807373 , Energy:  (-11.984454000079543+4.636702661085399e-19j)\n",
      "iter:  5 , M matrix time:  0.381519079208374 , V vector time:  11.066232204437256 , Energy:  (-11.9914414128135+2.6931624318288085e-17j)\n",
      "iter:  6 , M matrix time:  0.5517380237579346 , V vector time:  10.840209007263184 , Energy:  (-11.99735777521475+3.455918947153827e-17j)\n",
      "iter:  7 , M matrix time:  0.3948221206665039 , V vector time:  11.279741048812866 , Energy:  (-12.002366351832821-1.9315442446302984e-17j)\n",
      "iter:  8 , M matrix time:  0.36710405349731445 , V vector time:  10.828788995742798 , Energy:  (-12.006605784485705-4.273775158393835e-17j)\n",
      "iter:  9 , M matrix time:  0.4172790050506592 , V vector time:  11.212906122207642 , Energy:  (-12.010193760499844-3.763964129394424e-17j)\n",
      "iter:  10 , M matrix time:  0.39897894859313965 , V vector time:  12.278882265090942 , Energy:  (-12.013230134313806+7.381947858575968e-18j)\n",
      "iter:  11 , M matrix time:  0.3885989189147949 , V vector time:  10.89542007446289 , Energy:  (-12.01579958586169+2.596544817150288e-18j)\n",
      "iter:  12 , M matrix time:  0.35802197456359863 , V vector time:  10.632482051849365 , Energy:  (-12.017973887850228-7.545895949003549e-18j)\n",
      "iter:  13 , M matrix time:  0.36048007011413574 , V vector time:  11.01241397857666 , Energy:  (-12.019813841882002-1.533267227054419e-17j)\n",
      "iter:  14 , M matrix time:  0.4140310287475586 , V vector time:  10.991766929626465 , Energy:  (-12.021370932177987-2.6761110336409412e-17j)\n",
      "iter:  15 , M matrix time:  0.41086697578430176 , V vector time:  12.566914081573486 , Energy:  (-12.022688736928771-1.4982792573629653e-17j)\n",
      "iter:  16 , M matrix time:  0.3930180072784424 , V vector time:  11.746003150939941 , Energy:  (-12.023804131082478-2.0454292428358708e-17j)\n",
      "iter:  17 , M matrix time:  0.5117928981781006 , V vector time:  10.672594785690308 , Energy:  (-12.02474830981522+2.7080220955777116e-17j)\n",
      "iter:  18 , M matrix time:  0.48450493812561035 , V vector time:  11.339577913284302 , Energy:  (-12.025547658222006+2.047262557079408e-17j)\n",
      "iter:  19 , M matrix time:  0.4823298454284668 , V vector time:  11.068882942199707 , Energy:  (-12.026224489488579-2.1660596143782884e-17j)\n",
      "iter:  20 , M matrix time:  0.44791722297668457 , V vector time:  11.460649967193604 , Energy:  (-12.026797670838455+6.941446232224089e-18j)\n",
      "iter:  21 , M matrix time:  0.5500719547271729 , V vector time:  11.096062898635864 , Energy:  (-12.027283153891501+3.9874965369304704e-17j)\n",
      "iter:  22 , M matrix time:  0.473862886428833 , V vector time:  10.953457832336426 , Energy:  (-12.027694423733578-3.181936048515652e-17j)\n",
      "iter:  23 , M matrix time:  0.4314310550689697 , V vector time:  10.912968873977661 , Energy:  (-12.028042878986959-9.849366715423179e-18j)\n",
      "iter:  24 , M matrix time:  0.4590339660644531 , V vector time:  10.903560876846313 , Energy:  (-12.028338153460556+5.596959921099636e-18j)\n",
      "iter:  25 , M matrix time:  0.48271608352661133 , V vector time:  12.639441967010498 , Energy:  (-12.028588388508714-3.576912565930932e-17j)\n",
      "iter:  26 , M matrix time:  0.5036017894744873 , V vector time:  12.339977979660034 , Energy:  (-12.028800463969038+1.2342171259741543e-18j)\n",
      "iter:  27 , M matrix time:  0.5916638374328613 , V vector time:  12.113903045654297 , Energy:  (-12.02898019439602+5.4226002346632634e-17j)\n",
      "iter:  28 , M matrix time:  0.5286540985107422 , V vector time:  11.49710202217102 , Energy:  (-12.02913249616551-2.660542979613736e-17j)\n",
      "iter:  29 , M matrix time:  0.4704601764678955 , V vector time:  10.543088912963867 , Energy:  (-12.029261529855411-1.797473918520877e-18j)\n",
      "iter:  30 , M matrix time:  0.47905421257019043 , V vector time:  10.82960295677185 , Energy:  (-12.029370821171016+1.2870896129018141e-17j)\n",
      "iter:  31 , M matrix time:  0.475261926651001 , V vector time:  10.56217908859253 , Energy:  (-12.029463362785076+4.364196508863336e-18j)\n",
      "iter:  32 , M matrix time:  0.4252960681915283 , V vector time:  10.48085618019104 , Energy:  (-12.029541699006295-2.626758513991223e-18j)\n",
      "iter:  33 , M matrix time:  0.440216064453125 , V vector time:  10.58650803565979 , Energy:  (-12.02960799528397+9.485478147971829e-18j)\n",
      "iter:  34 , M matrix time:  0.35698699951171875 , V vector time:  10.58460283279419 , Energy:  (-12.029664094940127+7.132739478446285e-19j)\n",
      "iter:  35 , M matrix time:  0.3607747554779053 , V vector time:  10.787732124328613 , Energy:  (-12.029711565815582-3.2726526080763735e-17j)\n",
      "iter:  36 , M matrix time:  0.358583927154541 , V vector time:  10.73051404953003 , Energy:  (-12.029751739382252-7.410853279373474e-18j)\n",
      "iter:  37 , M matrix time:  0.3585968017578125 , V vector time:  10.643247127532959 , Energy:  (-12.029785744311603-1.5809862272463698e-17j)\n",
      "iter:  38 , M matrix time:  0.36275315284729004 , V vector time:  10.782350778579712 , Energy:  (-12.029814535762457-8.806294864966966e-18j)\n",
      "iter:  39 , M matrix time:  0.36035799980163574 , V vector time:  10.914288997650146 , Energy:  (-12.029838921054285-1.5327368266935675e-17j)\n",
      "iter:  40 , M matrix time:  0.3629937171936035 , V vector time:  10.647179126739502 , Energy:  (-12.029859582058299+8.25095344202682e-18j)\n",
      "iter:  41 , M matrix time:  0.40196895599365234 , V vector time:  10.841873168945312 , Energy:  (-12.029877094537111+1.4007999342312517e-17j)\n",
      "iter:  42 , M matrix time:  0.3656430244445801 , V vector time:  10.585038900375366 , Energy:  (-12.029891944682443-6.7277699214940285e-18j)\n",
      "iter:  43 , M matrix time:  0.3578531742095947 , V vector time:  13.095703125 , Energy:  (-12.029904543144612-1.1180693611721146e-17j)\n",
      "iter:  44 , M matrix time:  0.5845990180969238 , V vector time:  13.198482990264893 , Energy:  (-12.029915236874965-3.2269137672660274e-19j)\n"
     ]
    },
    {
     "ename": "KeyboardInterrupt",
     "evalue": "",
     "output_type": "error",
     "traceback": [
      "\u001b[0;31m---------------------------------------------------------------------------\u001b[0m",
      "\u001b[0;31mKeyboardInterrupt\u001b[0m                         Traceback (most recent call last)",
      "Cell \u001b[0;32mIn[25], line 3\u001b[0m\n\u001b[1;32m      1\u001b[0m \u001b[38;5;66;03m#keyboard interupted before the convergence\u001b[39;00m\n\u001b[0;32m----> 3\u001b[0m \u001b[43mtest_obj\u001b[49m\u001b[38;5;241;43m.\u001b[39;49m\u001b[43mvqite\u001b[49m\u001b[43m(\u001b[49m\u001b[43mopt_m\u001b[49m\u001b[38;5;241;43m=\u001b[39;49m\u001b[38;5;124;43m'\u001b[39;49m\u001b[38;5;124;43mgreedy\u001b[39;49m\u001b[38;5;124;43m'\u001b[39;49m\u001b[43m,\u001b[49m\u001b[43mopt_v\u001b[49m\u001b[38;5;241;43m=\u001b[39;49m\u001b[38;5;124;43m'\u001b[39;49m\u001b[38;5;124;43mgreedy\u001b[39;49m\u001b[38;5;124;43m'\u001b[39;49m\u001b[43m,\u001b[49m\u001b[43msimp\u001b[49m\u001b[43m \u001b[49m\u001b[38;5;241;43m=\u001b[39;49m\u001b[43m \u001b[49m\u001b[38;5;124;43m'\u001b[39;49m\u001b[38;5;124;43mCSR\u001b[39;49m\u001b[38;5;124;43m'\u001b[39;49m\u001b[43m,\u001b[49m\u001b[43mbackend\u001b[49m\u001b[38;5;241;43m=\u001b[39;49m\u001b[38;5;28;43;01mNone\u001b[39;49;00m\u001b[43m)\u001b[49m\n",
      "File \u001b[0;32m~/avqite-quimb/avqite_quimb.py:323\u001b[0m, in \u001b[0;36mQuimb_vqite.vqite\u001b[0;34m(self, opt_m, opt_v, simp, backend)\u001b[0m\n\u001b[1;32m    316\u001b[0m     \u001b[38;5;28mself\u001b[39m\u001b[38;5;241m.\u001b[39mcompute_m(\n\u001b[1;32m    317\u001b[0m         opt\u001b[38;5;241m=\u001b[39mopt_m,\n\u001b[1;32m    318\u001b[0m         simp\u001b[38;5;241m=\u001b[39msimp,\n\u001b[1;32m    319\u001b[0m         backend \u001b[38;5;241m=\u001b[39m backend,\n\u001b[1;32m    320\u001b[0m         which_nonzero\u001b[38;5;241m=\u001b[39m\u001b[38;5;28mself\u001b[39m\u001b[38;5;241m.\u001b[39mwhich_nonzero\n\u001b[1;32m    321\u001b[0m     )\n\u001b[1;32m    322\u001b[0m t2 \u001b[38;5;241m=\u001b[39m time\u001b[38;5;241m.\u001b[39mtime()\n\u001b[0;32m--> 323\u001b[0m \u001b[38;5;28;43mself\u001b[39;49m\u001b[38;5;241;43m.\u001b[39;49m\u001b[43mcompute_v\u001b[49m\u001b[43m(\u001b[49m\u001b[43mopt\u001b[49m\u001b[38;5;241;43m=\u001b[39;49m\u001b[43mopt_v\u001b[49m\u001b[43m,\u001b[49m\u001b[43msimp\u001b[49m\u001b[38;5;241;43m=\u001b[39;49m\u001b[43msimp\u001b[49m\u001b[43m,\u001b[49m\u001b[43mbackend\u001b[49m\u001b[43m \u001b[49m\u001b[38;5;241;43m=\u001b[39;49m\u001b[43m \u001b[49m\u001b[43mbackend\u001b[49m\u001b[43m)\u001b[49m\n\u001b[1;32m    324\u001b[0m t3 \u001b[38;5;241m=\u001b[39m time\u001b[38;5;241m.\u001b[39mtime()\n\u001b[1;32m    325\u001b[0m dthdt \u001b[38;5;241m=\u001b[39m \u001b[38;5;28mself\u001b[39m\u001b[38;5;241m.\u001b[39mget_dthdt(delta \u001b[38;5;241m=\u001b[39m \u001b[38;5;241m1e-4\u001b[39m, m \u001b[38;5;241m=\u001b[39m \u001b[38;5;28mself\u001b[39m\u001b[38;5;241m.\u001b[39m_m, v\u001b[38;5;241m=\u001b[39m \u001b[38;5;28mself\u001b[39m\u001b[38;5;241m.\u001b[39m_v)\n",
      "File \u001b[0;32m~/avqite-quimb/avqite_quimb.py:280\u001b[0m, in \u001b[0;36mQuimb_vqite.compute_v\u001b[0;34m(self, opt, simp, backend)\u001b[0m\n\u001b[1;32m    271\u001b[0m params2 \u001b[38;5;241m=\u001b[39m \u001b[38;5;28mself\u001b[39m\u001b[38;5;241m.\u001b[39m_params\u001b[38;5;241m.\u001b[39mcopy()\n\u001b[1;32m    272\u001b[0m params2[mu] \u001b[38;5;241m=\u001b[39m params2[mu]\u001b[38;5;241m-\u001b[39mnp\u001b[38;5;241m.\u001b[39mpi\u001b[38;5;241m/\u001b[39m\u001b[38;5;241m2\u001b[39m\n\u001b[1;32m    273\u001b[0m \u001b[38;5;28mself\u001b[39m\u001b[38;5;241m.\u001b[39m_v[mu] \u001b[38;5;241m=\u001b[39m np\u001b[38;5;241m.\u001b[39mreal(\u001b[38;5;241m-\u001b[39m\u001b[38;5;241m1\u001b[39m\u001b[38;5;241m/\u001b[39m\u001b[38;5;241m2\u001b[39m\u001b[38;5;241m*\u001b[39m(\n\u001b[1;32m    274\u001b[0m     \u001b[38;5;28mself\u001b[39m\u001b[38;5;241m.\u001b[39mh_exp_val(\n\u001b[1;32m    275\u001b[0m         params \u001b[38;5;241m=\u001b[39m params1,\n\u001b[1;32m    276\u001b[0m         opt \u001b[38;5;241m=\u001b[39m opt,\n\u001b[1;32m    277\u001b[0m         simp\u001b[38;5;241m=\u001b[39msimp,\n\u001b[1;32m    278\u001b[0m         backend \u001b[38;5;241m=\u001b[39m backend\n\u001b[1;32m    279\u001b[0m     ) \u001b[38;5;241m-\u001b[39m\n\u001b[0;32m--> 280\u001b[0m     \u001b[38;5;28;43mself\u001b[39;49m\u001b[38;5;241;43m.\u001b[39;49m\u001b[43mh_exp_val\u001b[49m\u001b[43m(\u001b[49m\n\u001b[1;32m    281\u001b[0m \u001b[43m        \u001b[49m\u001b[43mparams\u001b[49m\u001b[43m \u001b[49m\u001b[38;5;241;43m=\u001b[39;49m\u001b[43m \u001b[49m\u001b[43mparams2\u001b[49m\u001b[43m,\u001b[49m\n\u001b[1;32m    282\u001b[0m \u001b[43m        \u001b[49m\u001b[43mopt\u001b[49m\u001b[43m \u001b[49m\u001b[38;5;241;43m=\u001b[39;49m\u001b[43m \u001b[49m\u001b[43mopt\u001b[49m\u001b[43m,\u001b[49m\n\u001b[1;32m    283\u001b[0m \u001b[43m        \u001b[49m\u001b[43msimp\u001b[49m\u001b[38;5;241;43m=\u001b[39;49m\u001b[43msimp\u001b[49m\u001b[43m,\u001b[49m\n\u001b[1;32m    284\u001b[0m \u001b[43m        \u001b[49m\u001b[43mbackend\u001b[49m\u001b[43m \u001b[49m\u001b[38;5;241;43m=\u001b[39;49m\u001b[43m \u001b[49m\u001b[43mbackend\u001b[49m\u001b[43m)\u001b[49m\n\u001b[1;32m    285\u001b[0m ) \u001b[38;5;241m/\u001b[39m \u001b[38;5;241m2\u001b[39m )\n",
      "File \u001b[0;32m~/avqite-quimb/avqite_quimb.py:391\u001b[0m, in \u001b[0;36mQuimb_vqite.h_exp_val\u001b[0;34m(self, params, opt, simp, backend)\u001b[0m\n\u001b[1;32m    389\u001b[0m         h_exp_vals\u001b[38;5;241m.\u001b[39mappend(exp_val)\n\u001b[1;32m    390\u001b[0m     \u001b[38;5;28;01melse\u001b[39;00m:\n\u001b[0;32m--> 391\u001b[0m         h_exp_vals\u001b[38;5;241m.\u001b[39mappend( \u001b[43mp_str_exp_eval\u001b[49m\u001b[43m(\u001b[49m\n\u001b[1;32m    392\u001b[0m \u001b[43m            \u001b[49m\u001b[43mqc\u001b[49m\u001b[38;5;241;43m=\u001b[39;49m\u001b[43mqc\u001b[49m\u001b[43m,\u001b[49m\n\u001b[1;32m    393\u001b[0m \u001b[43m            \u001b[49m\u001b[43mpauli_str\u001b[49m\u001b[38;5;241;43m=\u001b[39;49m\u001b[43mpauli_str\u001b[49m\u001b[43m,\u001b[49m\n\u001b[1;32m    394\u001b[0m \u001b[43m            \u001b[49m\u001b[43mopt\u001b[49m\u001b[43m \u001b[49m\u001b[38;5;241;43m=\u001b[39;49m\u001b[43m \u001b[49m\u001b[43mopt\u001b[49m\u001b[43m,\u001b[49m\n\u001b[1;32m    395\u001b[0m \u001b[43m            \u001b[49m\u001b[43msimp\u001b[49m\u001b[38;5;241;43m=\u001b[39;49m\u001b[43msimp\u001b[49m\u001b[43m,\u001b[49m\n\u001b[1;32m    396\u001b[0m \u001b[43m            \u001b[49m\u001b[43mbackend\u001b[49m\u001b[43m \u001b[49m\u001b[38;5;241;43m=\u001b[39;49m\u001b[43m \u001b[49m\u001b[43mbackend\u001b[49m\n\u001b[1;32m    397\u001b[0m \u001b[43m        \u001b[49m\u001b[43m)\u001b[49m )\n\u001b[1;32m    398\u001b[0m exp_value \u001b[38;5;241m=\u001b[39m \u001b[38;5;28msum\u001b[39m([h_exp_vals[i]\u001b[38;5;241m*\u001b[39m\u001b[38;5;28mself\u001b[39m\u001b[38;5;241m.\u001b[39m_H\u001b[38;5;241m.\u001b[39mcoefs[i]\n\u001b[1;32m    399\u001b[0m                             \u001b[38;5;28;01mfor\u001b[39;00m i \u001b[38;5;129;01min\u001b[39;00m \u001b[38;5;28mrange\u001b[39m(\u001b[38;5;28mlen\u001b[39m(\u001b[38;5;28mself\u001b[39m\u001b[38;5;241m.\u001b[39m_H\u001b[38;5;241m.\u001b[39mcoefs))])\n\u001b[1;32m    401\u001b[0m \u001b[38;5;28;01mreturn\u001b[39;00m exp_value\n",
      "File \u001b[0;32m~/avqite-quimb/avqite_quimb.py:777\u001b[0m, in \u001b[0;36mp_str_exp_eval\u001b[0;34m(qc, pauli_str, opt, simp, backend)\u001b[0m\n\u001b[1;32m    775\u001b[0m \u001b[38;5;28;01mfor\u001b[39;00m i \u001b[38;5;129;01min\u001b[39;00m \u001b[38;5;28mrange\u001b[39m(\u001b[38;5;241m1\u001b[39m,\u001b[38;5;28mlen\u001b[39m(where)):\n\u001b[1;32m    776\u001b[0m     operator \u001b[38;5;241m=\u001b[39m operator \u001b[38;5;241m&\u001b[39m qu\u001b[38;5;241m.\u001b[39mpauli(paulis[i])\n\u001b[0;32m--> 777\u001b[0m exp_val \u001b[38;5;241m=\u001b[39m \u001b[43mqc\u001b[49m\u001b[38;5;241;43m.\u001b[39;49m\u001b[43mlocal_expectation\u001b[49m\u001b[43m(\u001b[49m\n\u001b[1;32m    778\u001b[0m \u001b[43m    \u001b[49m\u001b[43moperator\u001b[49m\u001b[43m,\u001b[49m\n\u001b[1;32m    779\u001b[0m \u001b[43m    \u001b[49m\u001b[43mwhere\u001b[49m\u001b[43m,\u001b[49m\n\u001b[1;32m    780\u001b[0m \u001b[43m    \u001b[49m\u001b[43moptimize\u001b[49m\u001b[38;5;241;43m=\u001b[39;49m\u001b[43mopt\u001b[49m\u001b[43m,\u001b[49m\n\u001b[1;32m    781\u001b[0m \u001b[43m    \u001b[49m\u001b[43msimplify_sequence\u001b[49m\u001b[38;5;241;43m=\u001b[39;49m\u001b[43msimp\u001b[49m\u001b[43m,\u001b[49m\n\u001b[1;32m    782\u001b[0m \u001b[43m    \u001b[49m\u001b[43mbackend\u001b[49m\u001b[38;5;241;43m=\u001b[39;49m\u001b[43mbackend\u001b[49m\n\u001b[1;32m    783\u001b[0m \u001b[43m\u001b[49m\u001b[43m)\u001b[49m\n\u001b[1;32m    784\u001b[0m \u001b[38;5;28;01mreturn\u001b[39;00m exp_val\n",
      "File \u001b[0;32m~/anaconda3/envs/adaptvqite-quimb/lib/python3.11/site-packages/quimb/tensor/circuit.py:2882\u001b[0m, in \u001b[0;36mCircuit.local_expectation\u001b[0;34m(self, G, where, optimize, simplify_sequence, simplify_atol, simplify_equalize_norms, backend, dtype, rehearse)\u001b[0m\n\u001b[1;32m   2874\u001b[0m     where \u001b[38;5;241m=\u001b[39m (where,)\n\u001b[1;32m   2876\u001b[0m fs_opts \u001b[38;5;241m=\u001b[39m {\n\u001b[1;32m   2877\u001b[0m     \u001b[38;5;124m\"\u001b[39m\u001b[38;5;124mseq\u001b[39m\u001b[38;5;124m\"\u001b[39m: simplify_sequence,\n\u001b[1;32m   2878\u001b[0m     \u001b[38;5;124m\"\u001b[39m\u001b[38;5;124matol\u001b[39m\u001b[38;5;124m\"\u001b[39m: simplify_atol,\n\u001b[1;32m   2879\u001b[0m     \u001b[38;5;124m\"\u001b[39m\u001b[38;5;124mequalize_norms\u001b[39m\u001b[38;5;124m\"\u001b[39m: simplify_equalize_norms,\n\u001b[1;32m   2880\u001b[0m }\n\u001b[0;32m-> 2882\u001b[0m rho \u001b[38;5;241m=\u001b[39m \u001b[38;5;28;43mself\u001b[39;49m\u001b[38;5;241;43m.\u001b[39;49m\u001b[43mget_rdm_lightcone_simplified\u001b[49m\u001b[43m(\u001b[49m\u001b[43mwhere\u001b[49m\u001b[38;5;241;43m=\u001b[39;49m\u001b[43mwhere\u001b[49m\u001b[43m,\u001b[49m\u001b[43m \u001b[49m\u001b[38;5;241;43m*\u001b[39;49m\u001b[38;5;241;43m*\u001b[39;49m\u001b[43mfs_opts\u001b[49m\u001b[43m)\u001b[49m\n\u001b[1;32m   2883\u001b[0m k_inds \u001b[38;5;241m=\u001b[39m \u001b[38;5;28mtuple\u001b[39m(\u001b[38;5;28mself\u001b[39m\u001b[38;5;241m.\u001b[39mket_site_ind(i) \u001b[38;5;28;01mfor\u001b[39;00m i \u001b[38;5;129;01min\u001b[39;00m where)\n\u001b[1;32m   2884\u001b[0m b_inds \u001b[38;5;241m=\u001b[39m \u001b[38;5;28mtuple\u001b[39m(\u001b[38;5;28mself\u001b[39m\u001b[38;5;241m.\u001b[39mbra_site_ind(i) \u001b[38;5;28;01mfor\u001b[39;00m i \u001b[38;5;129;01min\u001b[39;00m where)\n",
      "File \u001b[0;32m~/anaconda3/envs/adaptvqite-quimb/lib/python3.11/site-packages/quimb/tensor/circuit.py:2559\u001b[0m, in \u001b[0;36mCircuit.get_rdm_lightcone_simplified\u001b[0;34m(self, where, seq, atol, equalize_norms)\u001b[0m\n\u001b[1;32m   2556\u001b[0m output_inds \u001b[38;5;241m=\u001b[39m b_inds \u001b[38;5;241m+\u001b[39m k_inds\n\u001b[1;32m   2558\u001b[0m \u001b[38;5;66;03m# # simplify the norm and cache it\u001b[39;00m\n\u001b[0;32m-> 2559\u001b[0m \u001b[43mrho_lc\u001b[49m\u001b[38;5;241;43m.\u001b[39;49m\u001b[43mfull_simplify_\u001b[49m\u001b[43m(\u001b[49m\n\u001b[1;32m   2560\u001b[0m \u001b[43m    \u001b[49m\u001b[43mseq\u001b[49m\u001b[38;5;241;43m=\u001b[39;49m\u001b[43mseq\u001b[49m\u001b[43m,\u001b[49m\n\u001b[1;32m   2561\u001b[0m \u001b[43m    \u001b[49m\u001b[43matol\u001b[49m\u001b[38;5;241;43m=\u001b[39;49m\u001b[43matol\u001b[49m\u001b[43m,\u001b[49m\n\u001b[1;32m   2562\u001b[0m \u001b[43m    \u001b[49m\u001b[43moutput_inds\u001b[49m\u001b[38;5;241;43m=\u001b[39;49m\u001b[43moutput_inds\u001b[49m\u001b[43m,\u001b[49m\n\u001b[1;32m   2563\u001b[0m \u001b[43m    \u001b[49m\u001b[43mequalize_norms\u001b[49m\u001b[38;5;241;43m=\u001b[39;49m\u001b[43mequalize_norms\u001b[49m\u001b[43m,\u001b[49m\n\u001b[1;32m   2564\u001b[0m \u001b[43m\u001b[49m\u001b[43m)\u001b[49m\n\u001b[1;32m   2565\u001b[0m \u001b[38;5;28mself\u001b[39m\u001b[38;5;241m.\u001b[39m_storage[key] \u001b[38;5;241m=\u001b[39m rho_lc\n\u001b[1;32m   2567\u001b[0m \u001b[38;5;66;03m# return a copy so we can modify it inplace\u001b[39;00m\n",
      "File \u001b[0;32m~/anaconda3/envs/adaptvqite-quimb/lib/python3.11/site-packages/quimb/tensor/tensor_core.py:10544\u001b[0m, in \u001b[0;36mTensorNetwork.full_simplify\u001b[0;34m(self, seq, output_inds, atol, equalize_norms, cache, inplace, progbar, rank_simplify_opts, loop_simplify_opts, split_simplify_opts, custom_methods, split_method)\u001b[0m\n\u001b[1;32m  10542\u001b[0m     tn\u001b[38;5;241m.\u001b[39mcolumn_reduce_(output_inds\u001b[38;5;241m=\u001b[39mix_o, atol\u001b[38;5;241m=\u001b[39matol, cache\u001b[38;5;241m=\u001b[39mcache)\n\u001b[1;32m  10543\u001b[0m \u001b[38;5;28;01melif\u001b[39;00m meth \u001b[38;5;241m==\u001b[39m \u001b[38;5;124m'\u001b[39m\u001b[38;5;124mS\u001b[39m\u001b[38;5;124m'\u001b[39m:\n\u001b[0;32m> 10544\u001b[0m     \u001b[43mtn\u001b[49m\u001b[38;5;241;43m.\u001b[39;49m\u001b[43msplit_simplify_\u001b[49m\u001b[43m(\u001b[49m\u001b[43matol\u001b[49m\u001b[38;5;241;43m=\u001b[39;49m\u001b[43matol\u001b[49m\u001b[43m,\u001b[49m\u001b[43m \u001b[49m\u001b[43mcache\u001b[49m\u001b[38;5;241;43m=\u001b[39;49m\u001b[43mcache\u001b[49m\u001b[43m,\u001b[49m\n\u001b[1;32m  10545\u001b[0m \u001b[43m                       \u001b[49m\u001b[43mequalize_norms\u001b[49m\u001b[38;5;241;43m=\u001b[39;49m\u001b[43mequalize_norms\u001b[49m\u001b[43m,\u001b[49m\n\u001b[1;32m  10546\u001b[0m \u001b[43m                       \u001b[49m\u001b[38;5;241;43m*\u001b[39;49m\u001b[38;5;241;43m*\u001b[39;49m\u001b[43msplit_simplify_opts\u001b[49m\u001b[43m)\u001b[49m\n\u001b[1;32m  10547\u001b[0m \u001b[38;5;28;01melif\u001b[39;00m meth \u001b[38;5;241m==\u001b[39m \u001b[38;5;124m'\u001b[39m\u001b[38;5;124mL\u001b[39m\u001b[38;5;124m'\u001b[39m:\n\u001b[1;32m  10548\u001b[0m     tn\u001b[38;5;241m.\u001b[39mloop_simplify_(output_inds\u001b[38;5;241m=\u001b[39mix_o, cutoff\u001b[38;5;241m=\u001b[39matol,\n\u001b[1;32m  10549\u001b[0m                       cache\u001b[38;5;241m=\u001b[39mcache,\n\u001b[1;32m  10550\u001b[0m                       equalize_norms\u001b[38;5;241m=\u001b[39mequalize_norms,\n\u001b[1;32m  10551\u001b[0m                       \u001b[38;5;241m*\u001b[39m\u001b[38;5;241m*\u001b[39mloop_simplify_opts)\n",
      "File \u001b[0;32m~/anaconda3/envs/adaptvqite-quimb/lib/python3.11/site-packages/quimb/tensor/tensor_core.py:9781\u001b[0m, in \u001b[0;36mTensorNetwork.split_simplify\u001b[0;34m(self, atol, equalize_norms, cache, inplace, **split_opts)\u001b[0m\n\u001b[1;32m   9778\u001b[0m     \u001b[38;5;28;01mcontinue\u001b[39;00m\n\u001b[1;32m   9780\u001b[0m found \u001b[38;5;241m=\u001b[39m \u001b[38;5;28;01mFalse\u001b[39;00m\n\u001b[0;32m-> 9781\u001b[0m \u001b[43m\u001b[49m\u001b[38;5;28;43;01mfor\u001b[39;49;00m\u001b[43m \u001b[49m\u001b[43mlix\u001b[49m\u001b[43m,\u001b[49m\u001b[43m \u001b[49m\u001b[43mrix\u001b[49m\u001b[43m \u001b[49m\u001b[38;5;129;43;01min\u001b[39;49;00m\u001b[43m \u001b[49m\u001b[43mgen_bipartitions\u001b[49m\u001b[43m(\u001b[49m\u001b[43mt\u001b[49m\u001b[38;5;241;43m.\u001b[39;49m\u001b[43minds\u001b[49m\u001b[43m)\u001b[49m\u001b[43m:\u001b[49m\n\u001b[1;32m   9782\u001b[0m \u001b[43m    \u001b[49m\u001b[43mtl\u001b[49m\u001b[43m,\u001b[49m\u001b[43m \u001b[49m\u001b[43mtr\u001b[49m\u001b[43m \u001b[49m\u001b[38;5;241;43m=\u001b[39;49m\u001b[43m \u001b[49m\u001b[43mt\u001b[49m\u001b[38;5;241;43m.\u001b[39;49m\u001b[43msplit\u001b[49m\u001b[43m(\u001b[49m\n\u001b[1;32m   9783\u001b[0m \u001b[43m        \u001b[49m\u001b[43mlix\u001b[49m\u001b[43m,\u001b[49m\n\u001b[1;32m   9784\u001b[0m \u001b[43m        \u001b[49m\u001b[43mright_inds\u001b[49m\u001b[38;5;241;43m=\u001b[39;49m\u001b[43mrix\u001b[49m\u001b[43m,\u001b[49m\n\u001b[0;32m   (...)\u001b[0m\n\u001b[1;32m   9787\u001b[0m \u001b[43m        \u001b[49m\u001b[38;5;241;43m*\u001b[39;49m\u001b[38;5;241;43m*\u001b[39;49m\u001b[43msplit_opts\u001b[49m\u001b[43m,\u001b[49m\n\u001b[1;32m   9788\u001b[0m \u001b[43m    \u001b[49m\u001b[43m)\u001b[49m\n\u001b[1;32m   9789\u001b[0m \u001b[43m    \u001b[49m\u001b[43mnew_size\u001b[49m\u001b[43m \u001b[49m\u001b[38;5;241;43m=\u001b[39;49m\u001b[43m \u001b[49m\u001b[38;5;28;43mmax\u001b[39;49m\u001b[43m(\u001b[49m\u001b[43mtl\u001b[49m\u001b[38;5;241;43m.\u001b[39;49m\u001b[43msize\u001b[49m\u001b[43m,\u001b[49m\u001b[43m \u001b[49m\u001b[43mtr\u001b[49m\u001b[38;5;241;43m.\u001b[39;49m\u001b[43msize\u001b[49m\u001b[43m)\u001b[49m\n",
      "File \u001b[0;32m~/anaconda3/envs/adaptvqite-quimb/lib/python3.11/site-packages/quimb/utils.py:501\u001b[0m, in \u001b[0;36mgen_bipartitions\u001b[0;34m(it)\u001b[0m\n\u001b[1;32m    499\u001b[0m l, r \u001b[38;5;241m=\u001b[39m [], []\n\u001b[1;32m    500\u001b[0m \u001b[38;5;28;01mfor\u001b[39;00m b, x \u001b[38;5;129;01min\u001b[39;00m \u001b[38;5;28mzip\u001b[39m(bitstring_repr, it):\n\u001b[0;32m--> 501\u001b[0m     (l \u001b[38;5;28;01mif\u001b[39;00m b \u001b[38;5;241m==\u001b[39m \u001b[38;5;124m\"\u001b[39m\u001b[38;5;124m0\u001b[39m\u001b[38;5;124m\"\u001b[39m \u001b[38;5;28;01melse\u001b[39;00m r)\u001b[38;5;241m.\u001b[39mappend(x)\n\u001b[1;32m    502\u001b[0m \u001b[38;5;28;01myield\u001b[39;00m l, r\n",
      "\u001b[0;31mKeyboardInterrupt\u001b[0m: "
     ]
    }
   ],
   "source": [
    "#keyboard interupted before the convergence\n",
    "\n",
    "test_obj.vqite(opt_m='greedy',opt_v='greedy',simp = 'CSR',backend=None)"
   ]
  },
  {
   "cell_type": "code",
   "execution_count": 26,
   "id": "d3beadcc-6fbb-4e88-924a-2fe6049cce28",
   "metadata": {},
   "outputs": [
    {
     "data": {
      "text/plain": [
       "(-12.029915236874965-3.2269137672660274e-19j)"
      ]
     },
     "execution_count": 26,
     "metadata": {},
     "output_type": "execute_result"
    }
   ],
   "source": [
    "test_obj._e"
   ]
  },
  {
   "cell_type": "code",
   "execution_count": 27,
   "id": "213e5730-1aab-4878-8ac6-12b3cabcdc6b",
   "metadata": {},
   "outputs": [
    {
     "data": {
      "text/plain": [
       "[-0.017826202197456436,\n",
       " -0.029360276413408874,\n",
       " -0.025207354308968533,\n",
       " 0.050257805079491985,\n",
       " -0.05000695394989475,\n",
       " -0.015734702136582585,\n",
       " -0.053989967110243675,\n",
       " -0.04760257739841478,\n",
       " -0.05210499728768787,\n",
       " 0.001346374461936197,\n",
       " -0.0473983547775671,\n",
       " -0.0001555229194651277,\n",
       " -0.034850246835444285,\n",
       " 0.0006814401547785173,\n",
       " -0.04760331272848464,\n",
       " 0.0011219818549593086,\n",
       " -0.030599135678533684,\n",
       " -0.02382022547773285,\n",
       " -0.046929527461777885,\n",
       " -0.01840966374717088,\n",
       " -0.10006174137816146]"
      ]
     },
     "execution_count": 27,
     "metadata": {},
     "output_type": "execute_result"
    }
   ],
   "source": [
    "test_obj._params"
   ]
  },
  {
   "cell_type": "markdown",
   "id": "e68f4fa0-012c-4c01-aec8-0fac40acb813",
   "metadata": {},
   "source": [
    "### Case without simplification and without the reuse of contraction paths"
   ]
  },
  {
   "cell_type": "code",
   "execution_count": 29,
   "id": "c3b1124c-7bd1-4fa3-8a68-25625c96e0ec",
   "metadata": {},
   "outputs": [
    {
     "data": {
      "text/plain": [
       "[-0.01224980318759239,\n",
       " 0.045427677427844926,\n",
       " -0.09637227231083034,\n",
       " -0.07993492547527344,\n",
       " -0.05684616057085639,\n",
       " -0.038030799199842626,\n",
       " 0.04130318127864335,\n",
       " -0.007034759077280545,\n",
       " 0.010757991639141415,\n",
       " 0.004846857647793162,\n",
       " -0.03804974210165984,\n",
       " 0.056176246420879095,\n",
       " 0.08174330839701646,\n",
       " 0.060995829383607314,\n",
       " -0.060980017587003735,\n",
       " -0.08110126516988475,\n",
       " 0.020199338242912465,\n",
       " -0.040928695261419804,\n",
       " 0.09673948466299154,\n",
       " -0.08206015445675768,\n",
       " -0.0604005705365261]"
      ]
     },
     "execution_count": 29,
     "metadata": {},
     "output_type": "execute_result"
    }
   ],
   "source": [
    "#randomize the initial parameters\n",
    "\n",
    "test_obj._params = [random.uniform(-0.1, 0.1) for i in range(len(test_obj._params_solution))]\n",
    "test_obj._params"
   ]
  },
  {
   "cell_type": "code",
   "execution_count": 30,
   "id": "c5e0c4fb-30d0-4753-a3bf-6a27001c6f49",
   "metadata": {
    "collapsed": true,
    "jupyter": {
     "outputs_hidden": true
    }
   },
   "outputs": [
    {
     "name": "stdout",
     "output_type": "stream",
     "text": [
      "iter:  0 , M matrix time:  4.025094270706177 , V vector time:  11.114246845245361 , Energy:  -11.970879879725969\n",
      "iter:  1 , M matrix time:  0.2812159061431885 , V vector time:  7.572968006134033 , Energy:  -11.979929087626658\n",
      "iter:  2 , M matrix time:  0.2737710475921631 , V vector time:  7.674231052398682 , Energy:  -11.987597214507069\n",
      "iter:  3 , M matrix time:  0.2567739486694336 , V vector time:  7.727376937866211 , Energy:  -11.994093419075224\n",
      "iter:  4 , M matrix time:  0.48529720306396484 , V vector time:  8.201535940170288 , Energy:  -11.999595601721811\n",
      "iter:  5 , M matrix time:  0.25864195823669434 , V vector time:  7.567933797836304 , Energy:  -12.004255012001224\n",
      "iter:  6 , M matrix time:  0.28742098808288574 , V vector time:  8.510320901870728 , Energy:  -12.00820016788663\n",
      "iter:  7 , M matrix time:  0.2552609443664551 , V vector time:  6.702510833740234 , Energy:  -12.011540199678592\n",
      "iter:  8 , M matrix time:  0.2660400867462158 , V vector time:  6.688395023345947 , Energy:  -12.014367708858515\n",
      "iter:  9 , M matrix time:  0.3634169101715088 , V vector time:  6.602081060409546 , Energy:  -12.016761218073336\n",
      "iter:  10 , M matrix time:  0.24557209014892578 , V vector time:  6.980024814605713 , Energy:  -12.018787273571515\n",
      "iter:  11 , M matrix time:  0.2616848945617676 , V vector time:  7.0674707889556885 , Energy:  -12.020502247916667\n",
      "iter:  12 , M matrix time:  0.2645587921142578 , V vector time:  7.190639972686768 , Energy:  -12.02195388172361\n",
      "iter:  13 , M matrix time:  0.27826619148254395 , V vector time:  7.412304878234863 , Energy:  -12.023182598143189\n",
      "iter:  14 , M matrix time:  0.3628849983215332 , V vector time:  7.500025987625122 , Energy:  -12.024222620688045\n",
      "iter:  15 , M matrix time:  0.48203420639038086 , V vector time:  8.276018857955933 , Energy:  -12.025102922120558\n",
      "iter:  16 , M matrix time:  0.264786958694458 , V vector time:  6.836507081985474 , Energy:  -12.02584802904487\n",
      "iter:  17 , M matrix time:  0.2526400089263916 , V vector time:  7.0912699699401855 , Energy:  -12.02647870369481\n",
      "iter:  18 , M matrix time:  0.3092470169067383 , V vector time:  8.764050960540771 , Energy:  -12.027012521423885\n",
      "iter:  19 , M matrix time:  0.39461493492126465 , V vector time:  9.325580835342407 , Energy:  -12.027464359719511\n",
      "iter:  20 , M matrix time:  0.2605562210083008 , V vector time:  8.534940719604492 , Energy:  -12.027846812220368\n",
      "iter:  21 , M matrix time:  0.37509822845458984 , V vector time:  10.29764699935913 , Energy:  -12.028170539197752\n",
      "iter:  22 , M matrix time:  0.266326904296875 , V vector time:  7.674232006072998 , Energy:  -12.02844456423365\n",
      "iter:  23 , M matrix time:  0.34714484214782715 , V vector time:  7.638324975967407 , Energy:  -12.028676525352818\n",
      "iter:  24 , M matrix time:  0.32842588424682617 , V vector time:  9.31359314918518 , Energy:  -12.028872887607221\n",
      "iter:  25 , M matrix time:  0.2509129047393799 , V vector time:  7.827970027923584 , Energy:  -12.02903912303941\n",
      "iter:  26 , M matrix time:  0.3971579074859619 , V vector time:  7.375335931777954 , Energy:  -12.02917986304048\n",
      "iter:  27 , M matrix time:  0.2670328617095947 , V vector time:  7.0344250202178955 , Energy:  -12.02929902734505\n",
      "iter:  28 , M matrix time:  0.25458788871765137 , V vector time:  7.1998610496521 , Energy:  -12.029399933251145\n",
      "iter:  29 , M matrix time:  0.26863574981689453 , V vector time:  6.92882513999939 , Energy:  -12.029485388099028\n",
      "iter:  30 , M matrix time:  0.24917101860046387 , V vector time:  7.435810089111328 , Energy:  -12.029557767575398\n",
      "iter:  31 , M matrix time:  0.24852299690246582 , V vector time:  6.863952875137329 , Energy:  -12.029619082014229\n",
      "iter:  32 , M matrix time:  0.3322029113769531 , V vector time:  7.565136194229126 , Energy:  -12.02967103253177\n",
      "iter:  33 , M matrix time:  0.2500617504119873 , V vector time:  7.718379020690918 , Energy:  -12.0297150585519\n",
      "iter:  34 , M matrix time:  0.29598093032836914 , V vector time:  10.98795223236084 , Energy:  -12.029752378039134\n",
      "iter:  35 , M matrix time:  0.2532467842102051 , V vector time:  6.995898246765137 , Energy:  -12.029784021555855\n",
      "iter:  36 , M matrix time:  0.24923968315124512 , V vector time:  7.786764144897461 , Energy:  -12.029810861089265\n",
      "iter:  37 , M matrix time:  0.3454320430755615 , V vector time:  9.543367862701416 , Energy:  -12.029833634449314\n",
      "iter:  38 , M matrix time:  0.33365797996520996 , V vector time:  7.617553949356079 , Energy:  -12.029852965916657\n",
      "iter:  39 , M matrix time:  0.25271081924438477 , V vector time:  10.437212228775024 , Energy:  -12.029869383715743\n",
      "iter:  40 , M matrix time:  0.28016185760498047 , V vector time:  7.102878093719482 , Energy:  -12.029883334800248\n",
      "iter:  41 , M matrix time:  0.26154208183288574 , V vector time:  7.011233806610107 , Energy:  -12.029895197363677\n",
      "iter:  42 , M matrix time:  0.33256006240844727 , V vector time:  7.035827159881592 , Energy:  -12.029905291424706\n",
      "iter:  43 , M matrix time:  0.25451231002807617 , V vector time:  6.966639041900635 , Energy:  -12.029913887783014\n",
      "iter:  44 , M matrix time:  0.2597520351409912 , V vector time:  7.629240036010742 , Energy:  -12.029921215596518\n",
      "iter:  45 , M matrix time:  0.27988696098327637 , V vector time:  6.89503812789917 , Energy:  -12.029927468791865\n",
      "iter:  46 , M matrix time:  0.2669229507446289 , V vector time:  6.934275150299072 , Energy:  -12.029932811487893\n",
      "iter:  47 , M matrix time:  0.3613560199737549 , V vector time:  6.759968042373657 , Energy:  -12.02993738258386\n",
      "iter:  48 , M matrix time:  0.2549922466278076 , V vector time:  6.968200922012329 , Energy:  -12.029941299641225\n",
      "iter:  49 , M matrix time:  0.26682424545288086 , V vector time:  7.090848922729492 , Energy:  -12.029944662167612\n",
      "iter:  50 , M matrix time:  0.25623202323913574 , V vector time:  6.817360162734985 , Energy:  -12.029947554395065\n",
      "iter:  51 , M matrix time:  0.2593059539794922 , V vector time:  7.024914979934692 , Energy:  -12.029950047630559\n",
      "iter:  52 , M matrix time:  0.4328336715698242 , V vector time:  6.890299081802368 , Energy:  -12.02995220224452\n",
      "iter:  53 , M matrix time:  0.2491159439086914 , V vector time:  6.78130578994751 , Energy:  -12.029954069353263\n",
      "iter:  54 , M matrix time:  0.26715898513793945 , V vector time:  6.807615041732788 , Energy:  -12.02995569224229\n"
     ]
    },
    {
     "ename": "KeyboardInterrupt",
     "evalue": "",
     "output_type": "error",
     "traceback": [
      "\u001b[0;31m---------------------------------------------------------------------------\u001b[0m",
      "\u001b[0;31mKeyboardInterrupt\u001b[0m                         Traceback (most recent call last)",
      "Cell \u001b[0;32mIn[30], line 3\u001b[0m\n\u001b[1;32m      1\u001b[0m \u001b[38;5;66;03m#keyboard interupted before the convergence\u001b[39;00m\n\u001b[0;32m----> 3\u001b[0m \u001b[43mtest_obj\u001b[49m\u001b[38;5;241;43m.\u001b[39;49m\u001b[43mvqite\u001b[49m\u001b[43m(\u001b[49m\u001b[43mopt_m\u001b[49m\u001b[38;5;241;43m=\u001b[39;49m\u001b[38;5;124;43m'\u001b[39;49m\u001b[38;5;124;43mgreedy\u001b[39;49m\u001b[38;5;124;43m'\u001b[39;49m\u001b[43m,\u001b[49m\u001b[43mopt_v\u001b[49m\u001b[38;5;241;43m=\u001b[39;49m\u001b[38;5;124;43m'\u001b[39;49m\u001b[38;5;124;43mgreedy\u001b[39;49m\u001b[38;5;124;43m'\u001b[39;49m\u001b[43m,\u001b[49m\u001b[43msimp\u001b[49m\u001b[43m \u001b[49m\u001b[38;5;241;43m=\u001b[39;49m\u001b[43m \u001b[49m\u001b[38;5;124;43m'\u001b[39;49m\u001b[38;5;124;43m'\u001b[39;49m\u001b[43m,\u001b[49m\u001b[43mbackend\u001b[49m\u001b[38;5;241;43m=\u001b[39;49m\u001b[38;5;28;43;01mNone\u001b[39;49;00m\u001b[43m)\u001b[49m\n",
      "File \u001b[0;32m~/avqite-quimb/avqite_quimb.py:323\u001b[0m, in \u001b[0;36mQuimb_vqite.vqite\u001b[0;34m(self, opt_m, opt_v, simp, backend)\u001b[0m\n\u001b[1;32m    316\u001b[0m     \u001b[38;5;28mself\u001b[39m\u001b[38;5;241m.\u001b[39mcompute_m(\n\u001b[1;32m    317\u001b[0m         opt\u001b[38;5;241m=\u001b[39mopt_m,\n\u001b[1;32m    318\u001b[0m         simp\u001b[38;5;241m=\u001b[39msimp,\n\u001b[1;32m    319\u001b[0m         backend \u001b[38;5;241m=\u001b[39m backend,\n\u001b[1;32m    320\u001b[0m         which_nonzero\u001b[38;5;241m=\u001b[39m\u001b[38;5;28mself\u001b[39m\u001b[38;5;241m.\u001b[39mwhich_nonzero\n\u001b[1;32m    321\u001b[0m     )\n\u001b[1;32m    322\u001b[0m t2 \u001b[38;5;241m=\u001b[39m time\u001b[38;5;241m.\u001b[39mtime()\n\u001b[0;32m--> 323\u001b[0m \u001b[38;5;28;43mself\u001b[39;49m\u001b[38;5;241;43m.\u001b[39;49m\u001b[43mcompute_v\u001b[49m\u001b[43m(\u001b[49m\u001b[43mopt\u001b[49m\u001b[38;5;241;43m=\u001b[39;49m\u001b[43mopt_v\u001b[49m\u001b[43m,\u001b[49m\u001b[43msimp\u001b[49m\u001b[38;5;241;43m=\u001b[39;49m\u001b[43msimp\u001b[49m\u001b[43m,\u001b[49m\u001b[43mbackend\u001b[49m\u001b[43m \u001b[49m\u001b[38;5;241;43m=\u001b[39;49m\u001b[43m \u001b[49m\u001b[43mbackend\u001b[49m\u001b[43m)\u001b[49m\n\u001b[1;32m    324\u001b[0m t3 \u001b[38;5;241m=\u001b[39m time\u001b[38;5;241m.\u001b[39mtime()\n\u001b[1;32m    325\u001b[0m dthdt \u001b[38;5;241m=\u001b[39m \u001b[38;5;28mself\u001b[39m\u001b[38;5;241m.\u001b[39mget_dthdt(delta \u001b[38;5;241m=\u001b[39m \u001b[38;5;241m1e-4\u001b[39m, m \u001b[38;5;241m=\u001b[39m \u001b[38;5;28mself\u001b[39m\u001b[38;5;241m.\u001b[39m_m, v\u001b[38;5;241m=\u001b[39m \u001b[38;5;28mself\u001b[39m\u001b[38;5;241m.\u001b[39m_v)\n",
      "File \u001b[0;32m~/avqite-quimb/avqite_quimb.py:280\u001b[0m, in \u001b[0;36mQuimb_vqite.compute_v\u001b[0;34m(self, opt, simp, backend)\u001b[0m\n\u001b[1;32m    271\u001b[0m params2 \u001b[38;5;241m=\u001b[39m \u001b[38;5;28mself\u001b[39m\u001b[38;5;241m.\u001b[39m_params\u001b[38;5;241m.\u001b[39mcopy()\n\u001b[1;32m    272\u001b[0m params2[mu] \u001b[38;5;241m=\u001b[39m params2[mu]\u001b[38;5;241m-\u001b[39mnp\u001b[38;5;241m.\u001b[39mpi\u001b[38;5;241m/\u001b[39m\u001b[38;5;241m2\u001b[39m\n\u001b[1;32m    273\u001b[0m \u001b[38;5;28mself\u001b[39m\u001b[38;5;241m.\u001b[39m_v[mu] \u001b[38;5;241m=\u001b[39m np\u001b[38;5;241m.\u001b[39mreal(\u001b[38;5;241m-\u001b[39m\u001b[38;5;241m1\u001b[39m\u001b[38;5;241m/\u001b[39m\u001b[38;5;241m2\u001b[39m\u001b[38;5;241m*\u001b[39m(\n\u001b[1;32m    274\u001b[0m     \u001b[38;5;28mself\u001b[39m\u001b[38;5;241m.\u001b[39mh_exp_val(\n\u001b[1;32m    275\u001b[0m         params \u001b[38;5;241m=\u001b[39m params1,\n\u001b[1;32m    276\u001b[0m         opt \u001b[38;5;241m=\u001b[39m opt,\n\u001b[1;32m    277\u001b[0m         simp\u001b[38;5;241m=\u001b[39msimp,\n\u001b[1;32m    278\u001b[0m         backend \u001b[38;5;241m=\u001b[39m backend\n\u001b[1;32m    279\u001b[0m     ) \u001b[38;5;241m-\u001b[39m\n\u001b[0;32m--> 280\u001b[0m     \u001b[38;5;28;43mself\u001b[39;49m\u001b[38;5;241;43m.\u001b[39;49m\u001b[43mh_exp_val\u001b[49m\u001b[43m(\u001b[49m\n\u001b[1;32m    281\u001b[0m \u001b[43m        \u001b[49m\u001b[43mparams\u001b[49m\u001b[43m \u001b[49m\u001b[38;5;241;43m=\u001b[39;49m\u001b[43m \u001b[49m\u001b[43mparams2\u001b[49m\u001b[43m,\u001b[49m\n\u001b[1;32m    282\u001b[0m \u001b[43m        \u001b[49m\u001b[43mopt\u001b[49m\u001b[43m \u001b[49m\u001b[38;5;241;43m=\u001b[39;49m\u001b[43m \u001b[49m\u001b[43mopt\u001b[49m\u001b[43m,\u001b[49m\n\u001b[1;32m    283\u001b[0m \u001b[43m        \u001b[49m\u001b[43msimp\u001b[49m\u001b[38;5;241;43m=\u001b[39;49m\u001b[43msimp\u001b[49m\u001b[43m,\u001b[49m\n\u001b[1;32m    284\u001b[0m \u001b[43m        \u001b[49m\u001b[43mbackend\u001b[49m\u001b[43m \u001b[49m\u001b[38;5;241;43m=\u001b[39;49m\u001b[43m \u001b[49m\u001b[43mbackend\u001b[49m\u001b[43m)\u001b[49m\n\u001b[1;32m    285\u001b[0m ) \u001b[38;5;241m/\u001b[39m \u001b[38;5;241m2\u001b[39m )\n",
      "File \u001b[0;32m~/avqite-quimb/avqite_quimb.py:391\u001b[0m, in \u001b[0;36mQuimb_vqite.h_exp_val\u001b[0;34m(self, params, opt, simp, backend)\u001b[0m\n\u001b[1;32m    389\u001b[0m         h_exp_vals\u001b[38;5;241m.\u001b[39mappend(exp_val)\n\u001b[1;32m    390\u001b[0m     \u001b[38;5;28;01melse\u001b[39;00m:\n\u001b[0;32m--> 391\u001b[0m         h_exp_vals\u001b[38;5;241m.\u001b[39mappend( \u001b[43mp_str_exp_eval\u001b[49m\u001b[43m(\u001b[49m\n\u001b[1;32m    392\u001b[0m \u001b[43m            \u001b[49m\u001b[43mqc\u001b[49m\u001b[38;5;241;43m=\u001b[39;49m\u001b[43mqc\u001b[49m\u001b[43m,\u001b[49m\n\u001b[1;32m    393\u001b[0m \u001b[43m            \u001b[49m\u001b[43mpauli_str\u001b[49m\u001b[38;5;241;43m=\u001b[39;49m\u001b[43mpauli_str\u001b[49m\u001b[43m,\u001b[49m\n\u001b[1;32m    394\u001b[0m \u001b[43m            \u001b[49m\u001b[43mopt\u001b[49m\u001b[43m \u001b[49m\u001b[38;5;241;43m=\u001b[39;49m\u001b[43m \u001b[49m\u001b[43mopt\u001b[49m\u001b[43m,\u001b[49m\n\u001b[1;32m    395\u001b[0m \u001b[43m            \u001b[49m\u001b[43msimp\u001b[49m\u001b[38;5;241;43m=\u001b[39;49m\u001b[43msimp\u001b[49m\u001b[43m,\u001b[49m\n\u001b[1;32m    396\u001b[0m \u001b[43m            \u001b[49m\u001b[43mbackend\u001b[49m\u001b[43m \u001b[49m\u001b[38;5;241;43m=\u001b[39;49m\u001b[43m \u001b[49m\u001b[43mbackend\u001b[49m\n\u001b[1;32m    397\u001b[0m \u001b[43m        \u001b[49m\u001b[43m)\u001b[49m )\n\u001b[1;32m    398\u001b[0m exp_value \u001b[38;5;241m=\u001b[39m \u001b[38;5;28msum\u001b[39m([h_exp_vals[i]\u001b[38;5;241m*\u001b[39m\u001b[38;5;28mself\u001b[39m\u001b[38;5;241m.\u001b[39m_H\u001b[38;5;241m.\u001b[39mcoefs[i]\n\u001b[1;32m    399\u001b[0m                             \u001b[38;5;28;01mfor\u001b[39;00m i \u001b[38;5;129;01min\u001b[39;00m \u001b[38;5;28mrange\u001b[39m(\u001b[38;5;28mlen\u001b[39m(\u001b[38;5;28mself\u001b[39m\u001b[38;5;241m.\u001b[39m_H\u001b[38;5;241m.\u001b[39mcoefs))])\n\u001b[1;32m    401\u001b[0m \u001b[38;5;28;01mreturn\u001b[39;00m exp_value\n",
      "File \u001b[0;32m~/avqite-quimb/avqite_quimb.py:777\u001b[0m, in \u001b[0;36mp_str_exp_eval\u001b[0;34m(qc, pauli_str, opt, simp, backend)\u001b[0m\n\u001b[1;32m    775\u001b[0m \u001b[38;5;28;01mfor\u001b[39;00m i \u001b[38;5;129;01min\u001b[39;00m \u001b[38;5;28mrange\u001b[39m(\u001b[38;5;241m1\u001b[39m,\u001b[38;5;28mlen\u001b[39m(where)):\n\u001b[1;32m    776\u001b[0m     operator \u001b[38;5;241m=\u001b[39m operator \u001b[38;5;241m&\u001b[39m qu\u001b[38;5;241m.\u001b[39mpauli(paulis[i])\n\u001b[0;32m--> 777\u001b[0m exp_val \u001b[38;5;241m=\u001b[39m \u001b[43mqc\u001b[49m\u001b[38;5;241;43m.\u001b[39;49m\u001b[43mlocal_expectation\u001b[49m\u001b[43m(\u001b[49m\n\u001b[1;32m    778\u001b[0m \u001b[43m    \u001b[49m\u001b[43moperator\u001b[49m\u001b[43m,\u001b[49m\n\u001b[1;32m    779\u001b[0m \u001b[43m    \u001b[49m\u001b[43mwhere\u001b[49m\u001b[43m,\u001b[49m\n\u001b[1;32m    780\u001b[0m \u001b[43m    \u001b[49m\u001b[43moptimize\u001b[49m\u001b[38;5;241;43m=\u001b[39;49m\u001b[43mopt\u001b[49m\u001b[43m,\u001b[49m\n\u001b[1;32m    781\u001b[0m \u001b[43m    \u001b[49m\u001b[43msimplify_sequence\u001b[49m\u001b[38;5;241;43m=\u001b[39;49m\u001b[43msimp\u001b[49m\u001b[43m,\u001b[49m\n\u001b[1;32m    782\u001b[0m \u001b[43m    \u001b[49m\u001b[43mbackend\u001b[49m\u001b[38;5;241;43m=\u001b[39;49m\u001b[43mbackend\u001b[49m\n\u001b[1;32m    783\u001b[0m \u001b[43m\u001b[49m\u001b[43m)\u001b[49m\n\u001b[1;32m    784\u001b[0m \u001b[38;5;28;01mreturn\u001b[39;00m exp_val\n",
      "File \u001b[0;32m~/anaconda3/envs/adaptvqite-quimb/lib/python3.11/site-packages/quimb/tensor/circuit.py:2901\u001b[0m, in \u001b[0;36mCircuit.local_expectation\u001b[0;34m(self, G, where, optimize, simplify_sequence, simplify_atol, simplify_equalize_norms, backend, dtype, rehearse)\u001b[0m\n\u001b[1;32m   2898\u001b[0m rhoG \u001b[38;5;241m=\u001b[39m rho \u001b[38;5;241m|\u001b[39m TG\n\u001b[1;32m   2900\u001b[0m rhoG\u001b[38;5;241m.\u001b[39mfull_simplify_(output_inds\u001b[38;5;241m=\u001b[39moutput_inds, \u001b[38;5;241m*\u001b[39m\u001b[38;5;241m*\u001b[39mfs_opts)\n\u001b[0;32m-> 2901\u001b[0m \u001b[43mrhoG\u001b[49m\u001b[38;5;241;43m.\u001b[39;49m\u001b[43mastype_\u001b[49m\u001b[43m(\u001b[49m\u001b[43mdtype\u001b[49m\u001b[43m)\u001b[49m\n\u001b[1;32m   2903\u001b[0m \u001b[38;5;28;01mif\u001b[39;00m rehearse \u001b[38;5;241m==\u001b[39m \u001b[38;5;124m\"\u001b[39m\u001b[38;5;124mtn\u001b[39m\u001b[38;5;124m\"\u001b[39m:\n\u001b[1;32m   2904\u001b[0m     \u001b[38;5;28;01mreturn\u001b[39;00m rhoG\n",
      "File \u001b[0;32m~/anaconda3/envs/adaptvqite-quimb/lib/python3.11/site-packages/quimb/tensor/tensor_core.py:10795\u001b[0m, in \u001b[0;36mTensorNetwork.astype\u001b[0;34m(self, dtype, inplace)\u001b[0m\n\u001b[1;32m  10793\u001b[0m TN \u001b[38;5;241m=\u001b[39m \u001b[38;5;28mself\u001b[39m \u001b[38;5;28;01mif\u001b[39;00m inplace \u001b[38;5;28;01melse\u001b[39;00m \u001b[38;5;28mself\u001b[39m\u001b[38;5;241m.\u001b[39mcopy()\n\u001b[1;32m  10794\u001b[0m \u001b[38;5;28;01mfor\u001b[39;00m t \u001b[38;5;129;01min\u001b[39;00m TN:\n\u001b[0;32m> 10795\u001b[0m     \u001b[43mt\u001b[49m\u001b[38;5;241;43m.\u001b[39;49m\u001b[43mastype\u001b[49m\u001b[43m(\u001b[49m\u001b[43mdtype\u001b[49m\u001b[43m,\u001b[49m\u001b[43m \u001b[49m\u001b[43minplace\u001b[49m\u001b[38;5;241;43m=\u001b[39;49m\u001b[38;5;28;43;01mTrue\u001b[39;49;00m\u001b[43m)\u001b[49m\n\u001b[1;32m  10796\u001b[0m \u001b[38;5;28;01mreturn\u001b[39;00m TN\n",
      "File \u001b[0;32m~/anaconda3/envs/adaptvqite-quimb/lib/python3.11/site-packages/quimb/tensor/tensor_core.py:1905\u001b[0m, in \u001b[0;36mTensor.astype\u001b[0;34m(self, dtype, inplace)\u001b[0m\n\u001b[1;32m   1903\u001b[0m T \u001b[38;5;241m=\u001b[39m \u001b[38;5;28mself\u001b[39m \u001b[38;5;28;01mif\u001b[39;00m inplace \u001b[38;5;28;01melse\u001b[39;00m \u001b[38;5;28mself\u001b[39m\u001b[38;5;241m.\u001b[39mcopy()\n\u001b[1;32m   1904\u001b[0m \u001b[38;5;28;01mif\u001b[39;00m T\u001b[38;5;241m.\u001b[39mdtype \u001b[38;5;241m!=\u001b[39m dtype:\n\u001b[0;32m-> 1905\u001b[0m     \u001b[43mT\u001b[49m\u001b[38;5;241;43m.\u001b[39;49m\u001b[43mmodify\u001b[49m\u001b[43m(\u001b[49m\u001b[43mapply\u001b[49m\u001b[38;5;241;43m=\u001b[39;49m\u001b[38;5;28;43;01mlambda\u001b[39;49;00m\u001b[43m \u001b[49m\u001b[43mdata\u001b[49m\u001b[43m:\u001b[49m\u001b[43m \u001b[49m\u001b[43mastype\u001b[49m\u001b[43m(\u001b[49m\u001b[43mdata\u001b[49m\u001b[43m,\u001b[49m\u001b[43m \u001b[49m\u001b[43mdtype\u001b[49m\u001b[43m)\u001b[49m\u001b[43m)\u001b[49m\n\u001b[1;32m   1906\u001b[0m \u001b[38;5;28;01mreturn\u001b[39;00m T\n",
      "File \u001b[0;32m~/anaconda3/envs/adaptvqite-quimb/lib/python3.11/site-packages/quimb/tensor/tensor_core.py:1569\u001b[0m, in \u001b[0;36mTensor.modify\u001b[0;34m(self, **kwargs)\u001b[0m\n\u001b[1;32m   1566\u001b[0m \u001b[38;5;28;01mif\u001b[39;00m kwargs:\n\u001b[1;32m   1567\u001b[0m     \u001b[38;5;28;01mraise\u001b[39;00m \u001b[38;5;167;01mValueError\u001b[39;00m(\u001b[38;5;124mf\u001b[39m\u001b[38;5;124m\"\u001b[39m\u001b[38;5;124mOption(s) \u001b[39m\u001b[38;5;132;01m{\u001b[39;00mkwargs\u001b[38;5;132;01m}\u001b[39;00m\u001b[38;5;124m not valid.\u001b[39m\u001b[38;5;124m\"\u001b[39m)\n\u001b[0;32m-> 1569\u001b[0m \u001b[38;5;28;01mif\u001b[39;00m \u001b[38;5;28mlen\u001b[39m(\u001b[38;5;28mself\u001b[39m\u001b[38;5;241m.\u001b[39minds) \u001b[38;5;241m!=\u001b[39m ndim(\u001b[38;5;28;43mself\u001b[39;49m\u001b[38;5;241;43m.\u001b[39;49m\u001b[43mdata\u001b[49m):\n\u001b[1;32m   1570\u001b[0m     \u001b[38;5;28;01mraise\u001b[39;00m \u001b[38;5;167;01mValueError\u001b[39;00m(\n\u001b[1;32m   1571\u001b[0m         \u001b[38;5;124m\"\u001b[39m\u001b[38;5;124mMismatch between number of data dimensions and \u001b[39m\u001b[38;5;124m\"\u001b[39m\n\u001b[1;32m   1572\u001b[0m         \u001b[38;5;124m\"\u001b[39m\u001b[38;5;124mnumber of indices supplied.\u001b[39m\u001b[38;5;124m\"\u001b[39m\n\u001b[1;32m   1573\u001b[0m     )\n\u001b[1;32m   1575\u001b[0m \u001b[38;5;28;01mif\u001b[39;00m \u001b[38;5;28mself\u001b[39m\u001b[38;5;241m.\u001b[39mleft_inds \u001b[38;5;129;01mand\u001b[39;00m \u001b[38;5;28many\u001b[39m(i \u001b[38;5;129;01mnot\u001b[39;00m \u001b[38;5;129;01min\u001b[39;00m \u001b[38;5;28mself\u001b[39m\u001b[38;5;241m.\u001b[39minds \u001b[38;5;28;01mfor\u001b[39;00m i \u001b[38;5;129;01min\u001b[39;00m \u001b[38;5;28mself\u001b[39m\u001b[38;5;241m.\u001b[39mleft_inds):\n",
      "File \u001b[0;32m~/anaconda3/envs/adaptvqite-quimb/lib/python3.11/site-packages/quimb/tensor/tensor_core.py:11210\u001b[0m, in \u001b[0;36mPTensor.data\u001b[0;34m(self)\u001b[0m\n\u001b[1;32m  11208\u001b[0m \u001b[38;5;129m@property\u001b[39m\n\u001b[1;32m  11209\u001b[0m \u001b[38;5;28;01mdef\u001b[39;00m \u001b[38;5;21mdata\u001b[39m(\u001b[38;5;28mself\u001b[39m):\n\u001b[0;32m> 11210\u001b[0m     \u001b[38;5;28;01mreturn\u001b[39;00m \u001b[38;5;28;43mself\u001b[39;49m\u001b[38;5;241;43m.\u001b[39;49m\u001b[43m_data\u001b[49m\u001b[38;5;241;43m.\u001b[39;49m\u001b[43mdata\u001b[49m\n",
      "File \u001b[0;32m~/anaconda3/envs/adaptvqite-quimb/lib/python3.11/site-packages/quimb/tensor/array_ops.py:561\u001b[0m, in \u001b[0;36mPArray.data\u001b[0;34m(self)\u001b[0m\n\u001b[1;32m    558\u001b[0m \u001b[38;5;129m@property\u001b[39m\n\u001b[1;32m    559\u001b[0m \u001b[38;5;28;01mdef\u001b[39;00m \u001b[38;5;21mdata\u001b[39m(\u001b[38;5;28mself\u001b[39m):\n\u001b[1;32m    560\u001b[0m     \u001b[38;5;28;01mif\u001b[39;00m \u001b[38;5;28mself\u001b[39m\u001b[38;5;241m.\u001b[39m_data \u001b[38;5;129;01mis\u001b[39;00m \u001b[38;5;28;01mNone\u001b[39;00m:\n\u001b[0;32m--> 561\u001b[0m         \u001b[38;5;28mself\u001b[39m\u001b[38;5;241m.\u001b[39m_data \u001b[38;5;241m=\u001b[39m \u001b[38;5;28;43mself\u001b[39;49m\u001b[38;5;241;43m.\u001b[39;49m\u001b[43m_fn\u001b[49m\u001b[43m(\u001b[49m\u001b[38;5;28;43mself\u001b[39;49m\u001b[38;5;241;43m.\u001b[39;49m\u001b[43m_params\u001b[49m\u001b[43m)\u001b[49m\n\u001b[1;32m    562\u001b[0m     \u001b[38;5;28;01mreturn\u001b[39;00m \u001b[38;5;28mself\u001b[39m\u001b[38;5;241m.\u001b[39m_data\n",
      "File \u001b[0;32m~/anaconda3/envs/adaptvqite-quimb/lib/python3.11/site-packages/cytoolz/functoolz.pyx:521\u001b[0m, in \u001b[0;36mcytoolz.functoolz.Compose.__call__\u001b[0;34m()\u001b[0m\n",
      "File \u001b[0;32m~/anaconda3/envs/adaptvqite-quimb/lib/python3.11/site-packages/cytoolz/functoolz.pyx:521\u001b[0m, in \u001b[0;36mcytoolz.functoolz.Compose.__call__\u001b[0;34m()\u001b[0m\n",
      "File \u001b[0;32m~/anaconda3/envs/adaptvqite-quimb/lib/python3.11/site-packages/cytoolz/functoolz.pyx:521\u001b[0m, in \u001b[0;36mcytoolz.functoolz.Compose.__call__\u001b[0;34m()\u001b[0m\n",
      "File \u001b[0;32m~/anaconda3/envs/adaptvqite-quimb/lib/python3.11/site-packages/quimb/tensor/circuit.py:902\u001b[0m, in \u001b[0;36mrzz_param_gen\u001b[0;34m(params)\u001b[0m\n\u001b[1;32m    895\u001b[0m zero \u001b[38;5;241m=\u001b[39m do(\u001b[38;5;124m\"\u001b[39m\u001b[38;5;124mcomplex\u001b[39m\u001b[38;5;124m\"\u001b[39m, zero, zero)\n\u001b[1;32m    897\u001b[0m data \u001b[38;5;241m=\u001b[39m (\n\u001b[1;32m    898\u001b[0m     (((c00, zero), (zero, zero)), ((zero, c01), (zero, zero))),\n\u001b[1;32m    899\u001b[0m     (((zero, zero), (c10, zero)), ((zero, zero), (zero, c11))),\n\u001b[1;32m    900\u001b[0m )\n\u001b[0;32m--> 902\u001b[0m \u001b[38;5;28;01mreturn\u001b[39;00m \u001b[43mrecursive_stack\u001b[49m\u001b[43m(\u001b[49m\u001b[43mdata\u001b[49m\u001b[43m)\u001b[49m\n",
      "File \u001b[0;32m~/anaconda3/envs/adaptvqite-quimb/lib/python3.11/site-packages/quimb/tensor/circuit.py:55\u001b[0m, in \u001b[0;36mrecursive_stack\u001b[0;34m(x)\u001b[0m\n\u001b[1;32m     53\u001b[0m \u001b[38;5;28;01mif\u001b[39;00m \u001b[38;5;129;01mnot\u001b[39;00m \u001b[38;5;28misinstance\u001b[39m(x, (\u001b[38;5;28mlist\u001b[39m, \u001b[38;5;28mtuple\u001b[39m)):\n\u001b[1;32m     54\u001b[0m     \u001b[38;5;28;01mreturn\u001b[39;00m x\n\u001b[0;32m---> 55\u001b[0m \u001b[38;5;28;01mreturn\u001b[39;00m do(\u001b[38;5;124m\"\u001b[39m\u001b[38;5;124mstack\u001b[39m\u001b[38;5;124m\"\u001b[39m, \u001b[38;5;28mtuple\u001b[39m(\u001b[38;5;28mmap\u001b[39m(recursive_stack, x)))\n",
      "File \u001b[0;32m~/anaconda3/envs/adaptvqite-quimb/lib/python3.11/site-packages/quimb/tensor/circuit.py:55\u001b[0m, in \u001b[0;36mrecursive_stack\u001b[0;34m(x)\u001b[0m\n\u001b[1;32m     53\u001b[0m \u001b[38;5;28;01mif\u001b[39;00m \u001b[38;5;129;01mnot\u001b[39;00m \u001b[38;5;28misinstance\u001b[39m(x, (\u001b[38;5;28mlist\u001b[39m, \u001b[38;5;28mtuple\u001b[39m)):\n\u001b[1;32m     54\u001b[0m     \u001b[38;5;28;01mreturn\u001b[39;00m x\n\u001b[0;32m---> 55\u001b[0m \u001b[38;5;28;01mreturn\u001b[39;00m do(\u001b[38;5;124m\"\u001b[39m\u001b[38;5;124mstack\u001b[39m\u001b[38;5;124m\"\u001b[39m, \u001b[38;5;28mtuple\u001b[39m(\u001b[38;5;28mmap\u001b[39m(recursive_stack, x)))\n",
      "    \u001b[0;31m[... skipping similar frames: recursive_stack at line 55 (1 times)]\u001b[0m\n",
      "File \u001b[0;32m~/anaconda3/envs/adaptvqite-quimb/lib/python3.11/site-packages/quimb/tensor/circuit.py:55\u001b[0m, in \u001b[0;36mrecursive_stack\u001b[0;34m(x)\u001b[0m\n\u001b[1;32m     53\u001b[0m \u001b[38;5;28;01mif\u001b[39;00m \u001b[38;5;129;01mnot\u001b[39;00m \u001b[38;5;28misinstance\u001b[39m(x, (\u001b[38;5;28mlist\u001b[39m, \u001b[38;5;28mtuple\u001b[39m)):\n\u001b[1;32m     54\u001b[0m     \u001b[38;5;28;01mreturn\u001b[39;00m x\n\u001b[0;32m---> 55\u001b[0m \u001b[38;5;28;01mreturn\u001b[39;00m \u001b[43mdo\u001b[49m\u001b[43m(\u001b[49m\u001b[38;5;124;43m\"\u001b[39;49m\u001b[38;5;124;43mstack\u001b[39;49m\u001b[38;5;124;43m\"\u001b[39;49m\u001b[43m,\u001b[49m\u001b[43m \u001b[49m\u001b[38;5;28;43mtuple\u001b[39;49m\u001b[43m(\u001b[49m\u001b[38;5;28;43mmap\u001b[39;49m\u001b[43m(\u001b[49m\u001b[43mrecursive_stack\u001b[49m\u001b[43m,\u001b[49m\u001b[43m \u001b[49m\u001b[43mx\u001b[49m\u001b[43m)\u001b[49m\u001b[43m)\u001b[49m\u001b[43m)\u001b[49m\n",
      "File \u001b[0;32m~/anaconda3/envs/adaptvqite-quimb/lib/python3.11/site-packages/autoray/autoray.py:81\u001b[0m, in \u001b[0;36mdo\u001b[0;34m(fn, like, *args, **kwargs)\u001b[0m\n\u001b[1;32m     79\u001b[0m backend \u001b[38;5;241m=\u001b[39m _choose_backend(fn, args, kwargs, like\u001b[38;5;241m=\u001b[39mlike)\n\u001b[1;32m     80\u001b[0m func \u001b[38;5;241m=\u001b[39m get_lib_fn(backend, fn)\n\u001b[0;32m---> 81\u001b[0m \u001b[38;5;28;01mreturn\u001b[39;00m \u001b[43mfunc\u001b[49m\u001b[43m(\u001b[49m\u001b[38;5;241;43m*\u001b[39;49m\u001b[43margs\u001b[49m\u001b[43m,\u001b[49m\u001b[43m \u001b[49m\u001b[38;5;241;43m*\u001b[39;49m\u001b[38;5;241;43m*\u001b[39;49m\u001b[43mkwargs\u001b[49m\u001b[43m)\u001b[49m\n",
      "File \u001b[0;32m<__array_function__ internals>:200\u001b[0m, in \u001b[0;36mstack\u001b[0;34m(*args, **kwargs)\u001b[0m\n",
      "File \u001b[0;32m~/.local/lib/python3.11/site-packages/numpy/core/shape_base.py:471\u001b[0m, in \u001b[0;36mstack\u001b[0;34m(arrays, axis, out, dtype, casting)\u001b[0m\n\u001b[1;32m    469\u001b[0m sl \u001b[38;5;241m=\u001b[39m (\u001b[38;5;28mslice\u001b[39m(\u001b[38;5;28;01mNone\u001b[39;00m),) \u001b[38;5;241m*\u001b[39m axis \u001b[38;5;241m+\u001b[39m (_nx\u001b[38;5;241m.\u001b[39mnewaxis,)\n\u001b[1;32m    470\u001b[0m expanded_arrays \u001b[38;5;241m=\u001b[39m [arr[sl] \u001b[38;5;28;01mfor\u001b[39;00m arr \u001b[38;5;129;01min\u001b[39;00m arrays]\n\u001b[0;32m--> 471\u001b[0m \u001b[38;5;28;01mreturn\u001b[39;00m \u001b[43m_nx\u001b[49m\u001b[38;5;241;43m.\u001b[39;49m\u001b[43mconcatenate\u001b[49m\u001b[43m(\u001b[49m\u001b[43mexpanded_arrays\u001b[49m\u001b[43m,\u001b[49m\u001b[43m \u001b[49m\u001b[43maxis\u001b[49m\u001b[38;5;241;43m=\u001b[39;49m\u001b[43maxis\u001b[49m\u001b[43m,\u001b[49m\u001b[43m \u001b[49m\u001b[43mout\u001b[49m\u001b[38;5;241;43m=\u001b[39;49m\u001b[43mout\u001b[49m\u001b[43m,\u001b[49m\n\u001b[1;32m    472\u001b[0m \u001b[43m                       \u001b[49m\u001b[43mdtype\u001b[49m\u001b[38;5;241;43m=\u001b[39;49m\u001b[43mdtype\u001b[49m\u001b[43m,\u001b[49m\u001b[43m \u001b[49m\u001b[43mcasting\u001b[49m\u001b[38;5;241;43m=\u001b[39;49m\u001b[43mcasting\u001b[49m\u001b[43m)\u001b[49m\n",
      "File \u001b[0;32m<__array_function__ internals>:180\u001b[0m, in \u001b[0;36mconcatenate\u001b[0;34m(*args, **kwargs)\u001b[0m\n",
      "File \u001b[0;32m~/.local/lib/python3.11/site-packages/numpy/core/multiarray.py:152\u001b[0m, in \u001b[0;36mconcatenate\u001b[0;34m(arrays, axis, out, dtype, casting)\u001b[0m\n\u001b[1;32m     86\u001b[0m \u001b[38;5;250m    \u001b[39m\u001b[38;5;124;03m\"\"\"\u001b[39;00m\n\u001b[1;32m     87\u001b[0m \u001b[38;5;124;03m    empty_like(prototype, dtype=None, order='K', subok=True, shape=None)\u001b[39;00m\n\u001b[1;32m     88\u001b[0m \n\u001b[0;32m   (...)\u001b[0m\n\u001b[1;32m    147\u001b[0m \n\u001b[1;32m    148\u001b[0m \u001b[38;5;124;03m    \"\"\"\u001b[39;00m\n\u001b[1;32m    149\u001b[0m     \u001b[38;5;28;01mreturn\u001b[39;00m (prototype,)\n\u001b[0;32m--> 152\u001b[0m \u001b[38;5;129m@array_function_from_c_func_and_dispatcher\u001b[39m(_multiarray_umath\u001b[38;5;241m.\u001b[39mconcatenate)\n\u001b[1;32m    153\u001b[0m \u001b[38;5;28;01mdef\u001b[39;00m \u001b[38;5;21mconcatenate\u001b[39m(arrays, axis\u001b[38;5;241m=\u001b[39m\u001b[38;5;28;01mNone\u001b[39;00m, out\u001b[38;5;241m=\u001b[39m\u001b[38;5;28;01mNone\u001b[39;00m, \u001b[38;5;241m*\u001b[39m, dtype\u001b[38;5;241m=\u001b[39m\u001b[38;5;28;01mNone\u001b[39;00m, casting\u001b[38;5;241m=\u001b[39m\u001b[38;5;28;01mNone\u001b[39;00m):\n\u001b[1;32m    154\u001b[0m \u001b[38;5;250m    \u001b[39m\u001b[38;5;124;03m\"\"\"\u001b[39;00m\n\u001b[1;32m    155\u001b[0m \u001b[38;5;124;03m    concatenate((a1, a2, ...), axis=0, out=None, dtype=None, casting=\"same_kind\")\u001b[39;00m\n\u001b[1;32m    156\u001b[0m \n\u001b[0;32m   (...)\u001b[0m\n\u001b[1;32m    244\u001b[0m \n\u001b[1;32m    245\u001b[0m \u001b[38;5;124;03m    \"\"\"\u001b[39;00m\n\u001b[1;32m    246\u001b[0m     \u001b[38;5;28;01mif\u001b[39;00m out \u001b[38;5;129;01mis\u001b[39;00m \u001b[38;5;129;01mnot\u001b[39;00m \u001b[38;5;28;01mNone\u001b[39;00m:\n\u001b[1;32m    247\u001b[0m         \u001b[38;5;66;03m# optimize for the typical case where only arrays is provided\u001b[39;00m\n",
      "\u001b[0;31mKeyboardInterrupt\u001b[0m: "
     ]
    }
   ],
   "source": [
    "#keyboard interupted before the convergence\n",
    "\n",
    "test_obj.vqite(opt_m='greedy',opt_v='greedy',simp = '',backend=None)"
   ]
  },
  {
   "cell_type": "code",
   "execution_count": 31,
   "id": "cbc7651d-bf76-4ab5-9c2f-2d9ecccbff73",
   "metadata": {},
   "outputs": [
    {
     "data": {
      "text/plain": [
       "-12.02995569224229"
      ]
     },
     "execution_count": 31,
     "metadata": {},
     "output_type": "execute_result"
    }
   ],
   "source": [
    "test_obj._e"
   ]
  },
  {
   "cell_type": "code",
   "execution_count": 32,
   "id": "d66eec3d-0c7a-430b-b7e8-f65da09fdf41",
   "metadata": {},
   "outputs": [
    {
     "data": {
      "text/plain": [
       "[-0.051471829417030705,\n",
       " 0.008157055068986006,\n",
       " -0.0495288528505856,\n",
       " -0.0351949852112204,\n",
       " -0.049907607862966115,\n",
       " -0.04774784494866127,\n",
       " -0.04766869862661765,\n",
       " -0.04947210087147564,\n",
       " -0.01846077330009564,\n",
       " -0.029133018711819145,\n",
       " -0.04989316032620704,\n",
       " 0.0004821966508280904,\n",
       " -0.001305610681893454,\n",
       " -0.000528537580595995,\n",
       " -0.04994710582833047,\n",
       " -0.03167863984784603,\n",
       " 0.0020734209584274627,\n",
       " -0.0013749408389596154,\n",
       " -0.01937186388761233,\n",
       " -0.057960610201029834,\n",
       " -0.015660630272113615]"
      ]
     },
     "execution_count": 32,
     "metadata": {},
     "output_type": "execute_result"
    }
   ],
   "source": [
    "test_obj._params"
   ]
  },
  {
   "cell_type": "markdown",
   "id": "457f80cc-31fa-40f2-85af-0e9d32ba2d03",
   "metadata": {},
   "source": [
    "### Case without simplification and with the reuse of contraction paths"
   ]
  },
  {
   "cell_type": "code",
   "execution_count": 33,
   "id": "4fecb46b-c806-4721-a86d-29e25f35a334",
   "metadata": {},
   "outputs": [
    {
     "data": {
      "text/plain": [
       "[0.08110116085591182,\n",
       " 0.04457444798136498,\n",
       " 0.03076896470902732,\n",
       " -0.09870160325412639,\n",
       " -0.0930965409171169,\n",
       " 0.07593322141151412,\n",
       " 0.07030064102899014,\n",
       " 0.02193613100048923,\n",
       " -0.06693624587099645,\n",
       " 0.041153194481484495,\n",
       " 0.030170064840468663,\n",
       " 0.011934390486710897,\n",
       " 0.05636078016075713,\n",
       " 0.027584791475776083,\n",
       " -0.005901808014043053,\n",
       " -0.02288944366497611,\n",
       " -0.09029772839163973,\n",
       " -0.03900032220625132,\n",
       " 0.06242091292414495,\n",
       " -0.0789458807041382,\n",
       " 0.036093841280903816]"
      ]
     },
     "execution_count": 33,
     "metadata": {},
     "output_type": "execute_result"
    }
   ],
   "source": [
    "#randomize the initial parameters\n",
    "\n",
    "test_obj._params = [random.uniform(-0.1, 0.1) for i in range(len(test_obj._params_solution))]\n",
    "test_obj._params"
   ]
  },
  {
   "cell_type": "code",
   "execution_count": 34,
   "id": "6a2f3c9a-75af-4fa6-99ea-6094ebe5e2e4",
   "metadata": {
    "collapsed": true,
    "jupyter": {
     "outputs_hidden": true
    }
   },
   "outputs": [
    {
     "name": "stdout",
     "output_type": "stream",
     "text": [
      "iter:  0 , M matrix time:  3.263478994369507 , V vector time:  5.917123079299927 , Energy:  -11.9459606466125\n",
      "iter:  1 , M matrix time:  0.2835109233856201 , V vector time:  6.759024143218994 , Energy:  -11.958867384783403\n",
      "iter:  2 , M matrix time:  0.2639768123626709 , V vector time:  5.554202079772949 , Energy:  -11.969792196841745\n",
      "iter:  3 , M matrix time:  0.35890889167785645 , V vector time:  5.533358097076416 , Energy:  -11.97903914562742\n",
      "iter:  4 , M matrix time:  0.3341550827026367 , V vector time:  5.534296751022339 , Energy:  -11.98686521447299\n",
      "iter:  5 , M matrix time:  0.3079390525817871 , V vector time:  5.533736944198608 , Energy:  -11.993488211325902\n",
      "iter:  6 , M matrix time:  0.2774970531463623 , V vector time:  5.526595830917358 , Energy:  -11.99909266182059\n",
      "iter:  7 , M matrix time:  0.28064608573913574 , V vector time:  5.7980780601501465 , Energy:  -12.003834798540979\n",
      "iter:  8 , M matrix time:  0.30212998390197754 , V vector time:  5.510387182235718 , Energy:  -12.007846921963495\n",
      "iter:  9 , M matrix time:  0.2888503074645996 , V vector time:  5.515779733657837 , Energy:  -12.01124111575374\n",
      "iter:  10 , M matrix time:  0.3064877986907959 , V vector time:  5.440171957015991 , Energy:  -12.014112358054238\n",
      "iter:  11 , M matrix time:  0.3519120216369629 , V vector time:  5.4216697216033936 , Energy:  -12.016541128484285\n",
      "iter:  12 , M matrix time:  0.2921137809753418 , V vector time:  5.483659029006958 , Energy:  -12.018595605900838\n",
      "iter:  13 , M matrix time:  0.28627490997314453 , V vector time:  5.53178596496582 , Energy:  -12.02033352995718\n",
      "iter:  14 , M matrix time:  0.28208494186401367 , V vector time:  5.507033109664917 , Energy:  -12.021803781891922\n",
      "iter:  15 , M matrix time:  0.2744479179382324 , V vector time:  5.462544202804565 , Energy:  -12.023047728356966\n",
      "iter:  16 , M matrix time:  0.2823832035064697 , V vector time:  5.5059449672698975 , Energy:  -12.02410036414029\n",
      "iter:  17 , M matrix time:  0.28261828422546387 , V vector time:  5.421543836593628 , Energy:  -12.02499128374051\n",
      "iter:  18 , M matrix time:  0.3466060161590576 , V vector time:  5.422352075576782 , Energy:  -12.025745507092898\n",
      "iter:  19 , M matrix time:  0.28551292419433594 , V vector time:  5.48758602142334 , Energy:  -12.026384180936624\n",
      "iter:  20 , M matrix time:  0.2752339839935303 , V vector time:  5.644551038742065 , Energy:  -12.026925174132428\n",
      "iter:  21 , M matrix time:  0.28177881240844727 , V vector time:  5.52304220199585 , Energy:  -12.027383582554098\n",
      "iter:  22 , M matrix time:  0.27461910247802734 , V vector time:  5.489741802215576 , Energy:  -12.027772156897585\n",
      "iter:  23 , M matrix time:  0.27948999404907227 , V vector time:  6.407976865768433 , Energy:  -12.028101664819491\n",
      "iter:  24 , M matrix time:  0.40535807609558105 , V vector time:  8.702593088150024 , Energy:  -12.028381197194323\n",
      "iter:  25 , M matrix time:  0.3472151756286621 , V vector time:  5.874245882034302 , Energy:  -12.028618426944252\n",
      "iter:  26 , M matrix time:  0.2745380401611328 , V vector time:  6.005166053771973 , Energy:  -12.028819827827338\n",
      "iter:  27 , M matrix time:  0.27340078353881836 , V vector time:  7.061209201812744 , Energy:  -12.028990859727093\n",
      "iter:  28 , M matrix time:  0.2967658042907715 , V vector time:  5.804903268814087 , Energy:  -12.02913612627662\n",
      "iter:  29 , M matrix time:  0.2767519950866699 , V vector time:  5.536489963531494 , Energy:  -12.02925950990168\n",
      "iter:  30 , M matrix time:  0.2884101867675781 , V vector time:  5.506381988525391 , Energy:  -12.029364288367344\n",
      "iter:  31 , M matrix time:  0.2785611152648926 , V vector time:  5.408371925354004 , Energy:  -12.029453235544242\n",
      "iter:  32 , M matrix time:  0.34612107276916504 , V vector time:  5.400586843490601 , Energy:  -12.029528707571032\n",
      "iter:  33 , M matrix time:  0.2876410484313965 , V vector time:  5.467050075531006 , Energy:  -12.029592714473122\n",
      "iter:  34 , M matrix time:  0.2819092273712158 , V vector time:  5.526768684387207 , Energy:  -12.029646977281216\n",
      "iter:  35 , M matrix time:  0.27907299995422363 , V vector time:  5.492779731750488 , Energy:  -12.029692971888698\n",
      "iter:  36 , M matrix time:  0.37342286109924316 , V vector time:  5.549310207366943 , Energy:  -12.02973196248995\n",
      "iter:  37 , M matrix time:  0.28092479705810547 , V vector time:  5.473010301589966 , Energy:  -12.029765028262446\n",
      "iter:  38 , M matrix time:  0.2684459686279297 , V vector time:  5.400067090988159 , Energy:  -12.029793086436953\n",
      "iter:  39 , M matrix time:  0.36449480056762695 , V vector time:  5.3974363803863525 , Energy:  -12.029816913515141\n",
      "iter:  40 , M matrix time:  0.2816786766052246 , V vector time:  5.4757912158966064 , Energy:  -12.02983716506562\n",
      "iter:  41 , M matrix time:  0.27570390701293945 , V vector time:  5.460639953613281 , Energy:  -12.02985439382619\n",
      "iter:  42 , M matrix time:  0.2836627960205078 , V vector time:  5.475100040435791 , Energy:  -12.029869065746343\n",
      "iter:  43 , M matrix time:  0.28647422790527344 , V vector time:  5.599034786224365 , Energy:  -12.029881573813386\n",
      "iter:  44 , M matrix time:  0.27434706687927246 , V vector time:  5.528910160064697 , Energy:  -12.029892249743448\n",
      "iter:  45 , M matrix time:  0.2841777801513672 , V vector time:  5.41381311416626 , Energy:  -12.029901373767853\n"
     ]
    },
    {
     "ename": "KeyboardInterrupt",
     "evalue": "",
     "output_type": "error",
     "traceback": [
      "\u001b[0;31m---------------------------------------------------------------------------\u001b[0m",
      "\u001b[0;31mKeyboardInterrupt\u001b[0m                         Traceback (most recent call last)",
      "\u001b[0;32m/var/folders/09/5g19_z2j4xv5r4qsr3q7_ld00000gn/T/ipykernel_93756/4020870604.py\u001b[0m in \u001b[0;36m?\u001b[0;34m()\u001b[0m\n\u001b[1;32m      1\u001b[0m \u001b[0;31m#keyboard interupted before the convergence\u001b[0m\u001b[0;34m\u001b[0m\u001b[0;34m\u001b[0m\u001b[0m\n\u001b[1;32m      2\u001b[0m \u001b[0;34m\u001b[0m\u001b[0m\n\u001b[0;32m----> 3\u001b[0;31m \u001b[0mtest_obj\u001b[0m\u001b[0;34m.\u001b[0m\u001b[0mvqite\u001b[0m\u001b[0;34m(\u001b[0m\u001b[0mopt_m\u001b[0m\u001b[0;34m=\u001b[0m\u001b[0;34m'greedy'\u001b[0m\u001b[0;34m,\u001b[0m\u001b[0mopt_v\u001b[0m\u001b[0;34m=\u001b[0m\u001b[0mtest_obj\u001b[0m\u001b[0;34m.\u001b[0m\u001b[0mopt_dict\u001b[0m\u001b[0;34m,\u001b[0m\u001b[0msimp\u001b[0m \u001b[0;34m=\u001b[0m \u001b[0;34m''\u001b[0m\u001b[0;34m,\u001b[0m\u001b[0mbackend\u001b[0m\u001b[0;34m=\u001b[0m\u001b[0;32mNone\u001b[0m\u001b[0;34m)\u001b[0m\u001b[0;34m\u001b[0m\u001b[0;34m\u001b[0m\u001b[0m\n\u001b[0m",
      "\u001b[0;32m~/avqite-quimb/avqite_quimb.py\u001b[0m in \u001b[0;36m?\u001b[0;34m(self, opt_m, opt_v, simp, backend)\u001b[0m\n\u001b[1;32m    319\u001b[0m                     \u001b[0mbackend\u001b[0m \u001b[0;34m=\u001b[0m \u001b[0mbackend\u001b[0m\u001b[0;34m,\u001b[0m\u001b[0;34m\u001b[0m\u001b[0;34m\u001b[0m\u001b[0m\n\u001b[1;32m    320\u001b[0m                     \u001b[0mwhich_nonzero\u001b[0m\u001b[0;34m=\u001b[0m\u001b[0mself\u001b[0m\u001b[0;34m.\u001b[0m\u001b[0mwhich_nonzero\u001b[0m\u001b[0;34m\u001b[0m\u001b[0;34m\u001b[0m\u001b[0m\n\u001b[1;32m    321\u001b[0m                 )\n\u001b[1;32m    322\u001b[0m             \u001b[0mt2\u001b[0m \u001b[0;34m=\u001b[0m \u001b[0mtime\u001b[0m\u001b[0;34m.\u001b[0m\u001b[0mtime\u001b[0m\u001b[0;34m(\u001b[0m\u001b[0;34m)\u001b[0m\u001b[0;34m\u001b[0m\u001b[0;34m\u001b[0m\u001b[0m\n\u001b[0;32m--> 323\u001b[0;31m             \u001b[0mself\u001b[0m\u001b[0;34m.\u001b[0m\u001b[0mcompute_v\u001b[0m\u001b[0;34m(\u001b[0m\u001b[0mopt\u001b[0m\u001b[0;34m=\u001b[0m\u001b[0mopt_v\u001b[0m\u001b[0;34m,\u001b[0m\u001b[0msimp\u001b[0m\u001b[0;34m=\u001b[0m\u001b[0msimp\u001b[0m\u001b[0;34m,\u001b[0m\u001b[0mbackend\u001b[0m \u001b[0;34m=\u001b[0m \u001b[0mbackend\u001b[0m\u001b[0;34m)\u001b[0m\u001b[0;34m\u001b[0m\u001b[0;34m\u001b[0m\u001b[0m\n\u001b[0m\u001b[1;32m    324\u001b[0m             \u001b[0mt3\u001b[0m \u001b[0;34m=\u001b[0m \u001b[0mtime\u001b[0m\u001b[0;34m.\u001b[0m\u001b[0mtime\u001b[0m\u001b[0;34m(\u001b[0m\u001b[0;34m)\u001b[0m\u001b[0;34m\u001b[0m\u001b[0;34m\u001b[0m\u001b[0m\n\u001b[1;32m    325\u001b[0m             \u001b[0mdthdt\u001b[0m \u001b[0;34m=\u001b[0m \u001b[0mself\u001b[0m\u001b[0;34m.\u001b[0m\u001b[0mget_dthdt\u001b[0m\u001b[0;34m(\u001b[0m\u001b[0mdelta\u001b[0m \u001b[0;34m=\u001b[0m \u001b[0;36m1e-4\u001b[0m\u001b[0;34m,\u001b[0m \u001b[0mm\u001b[0m \u001b[0;34m=\u001b[0m \u001b[0mself\u001b[0m\u001b[0;34m.\u001b[0m\u001b[0m_m\u001b[0m\u001b[0;34m,\u001b[0m \u001b[0mv\u001b[0m\u001b[0;34m=\u001b[0m \u001b[0mself\u001b[0m\u001b[0;34m.\u001b[0m\u001b[0m_v\u001b[0m\u001b[0;34m)\u001b[0m\u001b[0;34m\u001b[0m\u001b[0;34m\u001b[0m\u001b[0m\n\u001b[1;32m    326\u001b[0m             \u001b[0mdt\u001b[0m \u001b[0;34m=\u001b[0m \u001b[0;36m0.02\u001b[0m\u001b[0;34m\u001b[0m\u001b[0;34m\u001b[0m\u001b[0m\n",
      "\u001b[0;32m~/avqite-quimb/avqite_quimb.py\u001b[0m in \u001b[0;36m?\u001b[0;34m(self, opt, simp, backend)\u001b[0m\n\u001b[1;32m    276\u001b[0m                     \u001b[0mopt\u001b[0m \u001b[0;34m=\u001b[0m \u001b[0mopt\u001b[0m\u001b[0;34m,\u001b[0m\u001b[0;34m\u001b[0m\u001b[0;34m\u001b[0m\u001b[0m\n\u001b[1;32m    277\u001b[0m                     \u001b[0msimp\u001b[0m\u001b[0;34m=\u001b[0m\u001b[0msimp\u001b[0m\u001b[0;34m,\u001b[0m\u001b[0;34m\u001b[0m\u001b[0;34m\u001b[0m\u001b[0m\n\u001b[1;32m    278\u001b[0m                     \u001b[0mbackend\u001b[0m \u001b[0;34m=\u001b[0m \u001b[0mbackend\u001b[0m\u001b[0;34m\u001b[0m\u001b[0;34m\u001b[0m\u001b[0m\n\u001b[1;32m    279\u001b[0m                 ) -\n\u001b[0;32m--> 280\u001b[0;31m                 self.h_exp_val(\n\u001b[0m\u001b[1;32m    281\u001b[0m                     \u001b[0mparams\u001b[0m \u001b[0;34m=\u001b[0m \u001b[0mparams2\u001b[0m\u001b[0;34m,\u001b[0m\u001b[0;34m\u001b[0m\u001b[0;34m\u001b[0m\u001b[0m\n\u001b[1;32m    282\u001b[0m                     \u001b[0mopt\u001b[0m \u001b[0;34m=\u001b[0m \u001b[0mopt\u001b[0m\u001b[0;34m,\u001b[0m\u001b[0;34m\u001b[0m\u001b[0;34m\u001b[0m\u001b[0m\n\u001b[1;32m    283\u001b[0m                     \u001b[0msimp\u001b[0m\u001b[0;34m=\u001b[0m\u001b[0msimp\u001b[0m\u001b[0;34m,\u001b[0m\u001b[0;34m\u001b[0m\u001b[0;34m\u001b[0m\u001b[0m\n",
      "\u001b[0;32m~/avqite-quimb/avqite_quimb.py\u001b[0m in \u001b[0;36m?\u001b[0;34m(self, params, opt, simp, backend)\u001b[0m\n\u001b[1;32m    378\u001b[0m \u001b[0;34m\u001b[0m\u001b[0m\n\u001b[1;32m    379\u001b[0m         \u001b[0mh_exp_vals\u001b[0m \u001b[0;34m=\u001b[0m \u001b[0;34m[\u001b[0m\u001b[0;34m]\u001b[0m\u001b[0;34m\u001b[0m\u001b[0;34m\u001b[0m\u001b[0m\n\u001b[1;32m    380\u001b[0m         \u001b[0;32mfor\u001b[0m \u001b[0mpauli_str\u001b[0m \u001b[0;32min\u001b[0m \u001b[0mself\u001b[0m\u001b[0;34m.\u001b[0m\u001b[0m_H\u001b[0m\u001b[0;34m.\u001b[0m\u001b[0mpaulis\u001b[0m\u001b[0;34m:\u001b[0m\u001b[0;34m\u001b[0m\u001b[0;34m\u001b[0m\u001b[0m\n\u001b[1;32m    381\u001b[0m             \u001b[0;32mif\u001b[0m \u001b[0mtype\u001b[0m\u001b[0;34m(\u001b[0m\u001b[0mopt\u001b[0m\u001b[0;34m)\u001b[0m \u001b[0;34m==\u001b[0m \u001b[0mdict\u001b[0m\u001b[0;34m:\u001b[0m\u001b[0;34m\u001b[0m\u001b[0;34m\u001b[0m\u001b[0m\n\u001b[0;32m--> 382\u001b[0;31m                 exp_val = p_str_exp_eval(\n\u001b[0m\u001b[1;32m    383\u001b[0m                     \u001b[0mqc\u001b[0m\u001b[0;34m=\u001b[0m\u001b[0mqc\u001b[0m\u001b[0;34m,\u001b[0m\u001b[0;34m\u001b[0m\u001b[0;34m\u001b[0m\u001b[0m\n\u001b[1;32m    384\u001b[0m                     \u001b[0mpauli_str\u001b[0m\u001b[0;34m=\u001b[0m\u001b[0mpauli_str\u001b[0m\u001b[0;34m,\u001b[0m\u001b[0;34m\u001b[0m\u001b[0;34m\u001b[0m\u001b[0m\n\u001b[1;32m    385\u001b[0m                     \u001b[0mopt\u001b[0m \u001b[0;34m=\u001b[0m \u001b[0mopt\u001b[0m\u001b[0;34m[\u001b[0m\u001b[0mpauli_str\u001b[0m\u001b[0;34m]\u001b[0m\u001b[0;34m,\u001b[0m\u001b[0;34m\u001b[0m\u001b[0;34m\u001b[0m\u001b[0m\n",
      "\u001b[0;32m~/avqite-quimb/avqite_quimb.py\u001b[0m in \u001b[0;36m?\u001b[0;34m(qc, pauli_str, opt, simp, backend)\u001b[0m\n\u001b[1;32m    773\u001b[0m     \u001b[0mpaulis\u001b[0m \u001b[0;34m=\u001b[0m \u001b[0;34m[\u001b[0m\u001b[0mp\u001b[0m \u001b[0;32mfor\u001b[0m \u001b[0mi\u001b[0m\u001b[0;34m,\u001b[0m\u001b[0mp\u001b[0m \u001b[0;32min\u001b[0m \u001b[0menumerate\u001b[0m\u001b[0;34m(\u001b[0m\u001b[0mpauli_str\u001b[0m\u001b[0;34m)\u001b[0m \u001b[0;32mif\u001b[0m \u001b[0mp\u001b[0m\u001b[0;34m!=\u001b[0m \u001b[0;34m'I'\u001b[0m\u001b[0;34m]\u001b[0m\u001b[0;34m\u001b[0m\u001b[0;34m\u001b[0m\u001b[0m\n\u001b[1;32m    774\u001b[0m     \u001b[0moperator\u001b[0m \u001b[0;34m=\u001b[0m \u001b[0mqu\u001b[0m\u001b[0;34m.\u001b[0m\u001b[0mpauli\u001b[0m\u001b[0;34m(\u001b[0m\u001b[0mpaulis\u001b[0m\u001b[0;34m[\u001b[0m\u001b[0;36m0\u001b[0m\u001b[0;34m]\u001b[0m\u001b[0;34m)\u001b[0m\u001b[0;34m\u001b[0m\u001b[0;34m\u001b[0m\u001b[0m\n\u001b[1;32m    775\u001b[0m     \u001b[0;32mfor\u001b[0m \u001b[0mi\u001b[0m \u001b[0;32min\u001b[0m \u001b[0mrange\u001b[0m\u001b[0;34m(\u001b[0m\u001b[0;36m1\u001b[0m\u001b[0;34m,\u001b[0m\u001b[0mlen\u001b[0m\u001b[0;34m(\u001b[0m\u001b[0mwhere\u001b[0m\u001b[0;34m)\u001b[0m\u001b[0;34m)\u001b[0m\u001b[0;34m:\u001b[0m\u001b[0;34m\u001b[0m\u001b[0;34m\u001b[0m\u001b[0m\n\u001b[1;32m    776\u001b[0m         \u001b[0moperator\u001b[0m \u001b[0;34m=\u001b[0m \u001b[0moperator\u001b[0m \u001b[0;34m&\u001b[0m \u001b[0mqu\u001b[0m\u001b[0;34m.\u001b[0m\u001b[0mpauli\u001b[0m\u001b[0;34m(\u001b[0m\u001b[0mpaulis\u001b[0m\u001b[0;34m[\u001b[0m\u001b[0mi\u001b[0m\u001b[0;34m]\u001b[0m\u001b[0;34m)\u001b[0m\u001b[0;34m\u001b[0m\u001b[0;34m\u001b[0m\u001b[0m\n\u001b[0;32m--> 777\u001b[0;31m     exp_val = qc.local_expectation(\n\u001b[0m\u001b[1;32m    778\u001b[0m         \u001b[0moperator\u001b[0m\u001b[0;34m,\u001b[0m\u001b[0;34m\u001b[0m\u001b[0;34m\u001b[0m\u001b[0m\n\u001b[1;32m    779\u001b[0m         \u001b[0mwhere\u001b[0m\u001b[0;34m,\u001b[0m\u001b[0;34m\u001b[0m\u001b[0;34m\u001b[0m\u001b[0m\n\u001b[1;32m    780\u001b[0m         \u001b[0moptimize\u001b[0m\u001b[0;34m=\u001b[0m\u001b[0mopt\u001b[0m\u001b[0;34m,\u001b[0m\u001b[0;34m\u001b[0m\u001b[0;34m\u001b[0m\u001b[0m\n",
      "\u001b[0;32m~/anaconda3/envs/adaptvqite-quimb/lib/python3.11/site-packages/quimb/tensor/circuit.py\u001b[0m in \u001b[0;36m?\u001b[0;34m(self, G, where, optimize, simplify_sequence, simplify_atol, simplify_equalize_norms, backend, dtype, rehearse)\u001b[0m\n\u001b[1;32m   2878\u001b[0m             \u001b[0;34m\"atol\"\u001b[0m\u001b[0;34m:\u001b[0m \u001b[0msimplify_atol\u001b[0m\u001b[0;34m,\u001b[0m\u001b[0;34m\u001b[0m\u001b[0;34m\u001b[0m\u001b[0m\n\u001b[1;32m   2879\u001b[0m             \u001b[0;34m\"equalize_norms\"\u001b[0m\u001b[0;34m:\u001b[0m \u001b[0msimplify_equalize_norms\u001b[0m\u001b[0;34m,\u001b[0m\u001b[0;34m\u001b[0m\u001b[0;34m\u001b[0m\u001b[0m\n\u001b[1;32m   2880\u001b[0m         }\n\u001b[1;32m   2881\u001b[0m \u001b[0;34m\u001b[0m\u001b[0m\n\u001b[0;32m-> 2882\u001b[0;31m         \u001b[0mrho\u001b[0m \u001b[0;34m=\u001b[0m \u001b[0mself\u001b[0m\u001b[0;34m.\u001b[0m\u001b[0mget_rdm_lightcone_simplified\u001b[0m\u001b[0;34m(\u001b[0m\u001b[0mwhere\u001b[0m\u001b[0;34m=\u001b[0m\u001b[0mwhere\u001b[0m\u001b[0;34m,\u001b[0m \u001b[0;34m**\u001b[0m\u001b[0mfs_opts\u001b[0m\u001b[0;34m)\u001b[0m\u001b[0;34m\u001b[0m\u001b[0;34m\u001b[0m\u001b[0m\n\u001b[0m\u001b[1;32m   2883\u001b[0m         \u001b[0mk_inds\u001b[0m \u001b[0;34m=\u001b[0m \u001b[0mtuple\u001b[0m\u001b[0;34m(\u001b[0m\u001b[0mself\u001b[0m\u001b[0;34m.\u001b[0m\u001b[0mket_site_ind\u001b[0m\u001b[0;34m(\u001b[0m\u001b[0mi\u001b[0m\u001b[0;34m)\u001b[0m \u001b[0;32mfor\u001b[0m \u001b[0mi\u001b[0m \u001b[0;32min\u001b[0m \u001b[0mwhere\u001b[0m\u001b[0;34m)\u001b[0m\u001b[0;34m\u001b[0m\u001b[0;34m\u001b[0m\u001b[0m\n\u001b[1;32m   2884\u001b[0m         \u001b[0mb_inds\u001b[0m \u001b[0;34m=\u001b[0m \u001b[0mtuple\u001b[0m\u001b[0;34m(\u001b[0m\u001b[0mself\u001b[0m\u001b[0;34m.\u001b[0m\u001b[0mbra_site_ind\u001b[0m\u001b[0;34m(\u001b[0m\u001b[0mi\u001b[0m\u001b[0;34m)\u001b[0m \u001b[0;32mfor\u001b[0m \u001b[0mi\u001b[0m \u001b[0;32min\u001b[0m \u001b[0mwhere\u001b[0m\u001b[0;34m)\u001b[0m\u001b[0;34m\u001b[0m\u001b[0;34m\u001b[0m\u001b[0m\n\u001b[1;32m   2885\u001b[0m \u001b[0;34m\u001b[0m\u001b[0m\n",
      "\u001b[0;32m~/anaconda3/envs/adaptvqite-quimb/lib/python3.11/site-packages/quimb/tensor/circuit.py\u001b[0m in \u001b[0;36m?\u001b[0;34m(self, where, seq, atol, equalize_norms)\u001b[0m\n\u001b[1;32m   2543\u001b[0m         \u001b[0mkey\u001b[0m \u001b[0;34m=\u001b[0m \u001b[0;34m(\u001b[0m\u001b[0;34m\"rdm_lightcone_simplified\"\u001b[0m\u001b[0;34m,\u001b[0m \u001b[0mtuple\u001b[0m\u001b[0;34m(\u001b[0m\u001b[0msorted\u001b[0m\u001b[0;34m(\u001b[0m\u001b[0mwhere\u001b[0m\u001b[0;34m)\u001b[0m\u001b[0;34m)\u001b[0m\u001b[0;34m,\u001b[0m \u001b[0mseq\u001b[0m\u001b[0;34m,\u001b[0m \u001b[0matol\u001b[0m\u001b[0;34m)\u001b[0m\u001b[0;34m\u001b[0m\u001b[0;34m\u001b[0m\u001b[0m\n\u001b[1;32m   2544\u001b[0m         \u001b[0;32mif\u001b[0m \u001b[0mkey\u001b[0m \u001b[0;32min\u001b[0m \u001b[0mself\u001b[0m\u001b[0;34m.\u001b[0m\u001b[0m_storage\u001b[0m\u001b[0;34m:\u001b[0m\u001b[0;34m\u001b[0m\u001b[0;34m\u001b[0m\u001b[0m\n\u001b[1;32m   2545\u001b[0m             \u001b[0;32mreturn\u001b[0m \u001b[0mself\u001b[0m\u001b[0;34m.\u001b[0m\u001b[0m_storage\u001b[0m\u001b[0;34m[\u001b[0m\u001b[0mkey\u001b[0m\u001b[0;34m]\u001b[0m\u001b[0;34m.\u001b[0m\u001b[0mcopy\u001b[0m\u001b[0;34m(\u001b[0m\u001b[0;34m)\u001b[0m\u001b[0;34m\u001b[0m\u001b[0;34m\u001b[0m\u001b[0m\n\u001b[1;32m   2546\u001b[0m \u001b[0;34m\u001b[0m\u001b[0m\n\u001b[0;32m-> 2547\u001b[0;31m         \u001b[0mket_lc\u001b[0m \u001b[0;34m=\u001b[0m \u001b[0mself\u001b[0m\u001b[0;34m.\u001b[0m\u001b[0mget_psi_reverse_lightcone\u001b[0m\u001b[0;34m(\u001b[0m\u001b[0mwhere\u001b[0m\u001b[0;34m)\u001b[0m\u001b[0;34m\u001b[0m\u001b[0;34m\u001b[0m\u001b[0m\n\u001b[0m\u001b[1;32m   2548\u001b[0m \u001b[0;34m\u001b[0m\u001b[0m\n\u001b[1;32m   2549\u001b[0m         \u001b[0mk_inds\u001b[0m \u001b[0;34m=\u001b[0m \u001b[0mtuple\u001b[0m\u001b[0;34m(\u001b[0m\u001b[0mmap\u001b[0m\u001b[0;34m(\u001b[0m\u001b[0mself\u001b[0m\u001b[0;34m.\u001b[0m\u001b[0mket_site_ind\u001b[0m\u001b[0;34m,\u001b[0m \u001b[0mwhere\u001b[0m\u001b[0;34m)\u001b[0m\u001b[0;34m)\u001b[0m\u001b[0;34m\u001b[0m\u001b[0;34m\u001b[0m\u001b[0m\n\u001b[1;32m   2550\u001b[0m         \u001b[0mb_inds\u001b[0m \u001b[0;34m=\u001b[0m \u001b[0mtuple\u001b[0m\u001b[0;34m(\u001b[0m\u001b[0mmap\u001b[0m\u001b[0;34m(\u001b[0m\u001b[0mself\u001b[0m\u001b[0;34m.\u001b[0m\u001b[0mbra_site_ind\u001b[0m\u001b[0;34m,\u001b[0m \u001b[0mwhere\u001b[0m\u001b[0;34m)\u001b[0m\u001b[0;34m)\u001b[0m\u001b[0;34m\u001b[0m\u001b[0;34m\u001b[0m\u001b[0m\n",
      "\u001b[0;32m~/anaconda3/envs/adaptvqite-quimb/lib/python3.11/site-packages/quimb/tensor/circuit.py\u001b[0m in \u001b[0;36m?\u001b[0;34m(self, where, keep_psi0)\u001b[0m\n\u001b[1;32m   2433\u001b[0m         \"\"\"\n\u001b[1;32m   2434\u001b[0m         \u001b[0;32mif\u001b[0m \u001b[0misinstance\u001b[0m\u001b[0;34m(\u001b[0m\u001b[0mwhere\u001b[0m\u001b[0;34m,\u001b[0m \u001b[0mnumbers\u001b[0m\u001b[0;34m.\u001b[0m\u001b[0mIntegral\u001b[0m\u001b[0;34m)\u001b[0m\u001b[0;34m:\u001b[0m\u001b[0;34m\u001b[0m\u001b[0;34m\u001b[0m\u001b[0m\n\u001b[1;32m   2435\u001b[0m             \u001b[0mwhere\u001b[0m \u001b[0;34m=\u001b[0m \u001b[0;34m(\u001b[0m\u001b[0mwhere\u001b[0m\u001b[0;34m,\u001b[0m\u001b[0;34m)\u001b[0m\u001b[0;34m\u001b[0m\u001b[0;34m\u001b[0m\u001b[0m\n\u001b[1;32m   2436\u001b[0m \u001b[0;34m\u001b[0m\u001b[0m\n\u001b[0;32m-> 2437\u001b[0;31m         \u001b[0mpsi\u001b[0m \u001b[0;34m=\u001b[0m \u001b[0mself\u001b[0m\u001b[0;34m.\u001b[0m\u001b[0mpsi\u001b[0m\u001b[0;34m\u001b[0m\u001b[0;34m\u001b[0m\u001b[0m\n\u001b[0m\u001b[1;32m   2438\u001b[0m         \u001b[0mlightcone_tags\u001b[0m \u001b[0;34m=\u001b[0m \u001b[0mself\u001b[0m\u001b[0;34m.\u001b[0m\u001b[0mget_reverse_lightcone_tags\u001b[0m\u001b[0;34m(\u001b[0m\u001b[0mwhere\u001b[0m\u001b[0;34m)\u001b[0m\u001b[0;34m\u001b[0m\u001b[0;34m\u001b[0m\u001b[0m\n\u001b[1;32m   2439\u001b[0m         \u001b[0mpsi_lc\u001b[0m \u001b[0;34m=\u001b[0m \u001b[0mpsi\u001b[0m\u001b[0;34m.\u001b[0m\u001b[0mselect_any\u001b[0m\u001b[0;34m(\u001b[0m\u001b[0mlightcone_tags\u001b[0m\u001b[0;34m)\u001b[0m\u001b[0;34m.\u001b[0m\u001b[0mview_like_\u001b[0m\u001b[0;34m(\u001b[0m\u001b[0mpsi\u001b[0m\u001b[0;34m)\u001b[0m\u001b[0;34m\u001b[0m\u001b[0;34m\u001b[0m\u001b[0m\n\u001b[1;32m   2440\u001b[0m \u001b[0;34m\u001b[0m\u001b[0m\n",
      "\u001b[0;32m~/anaconda3/envs/adaptvqite-quimb/lib/python3.11/site-packages/quimb/tensor/circuit.py\u001b[0m in \u001b[0;36m?\u001b[0;34m(self)\u001b[0m\n\u001b[1;32m   2304\u001b[0m     \u001b[0;34m@\u001b[0m\u001b[0mproperty\u001b[0m\u001b[0;34m\u001b[0m\u001b[0;34m\u001b[0m\u001b[0m\n\u001b[1;32m   2305\u001b[0m     \u001b[0;32mdef\u001b[0m \u001b[0mpsi\u001b[0m\u001b[0;34m(\u001b[0m\u001b[0mself\u001b[0m\u001b[0;34m)\u001b[0m\u001b[0;34m:\u001b[0m\u001b[0;34m\u001b[0m\u001b[0;34m\u001b[0m\u001b[0m\n\u001b[1;32m   2306\u001b[0m         \u001b[0;34m\"\"\"Tensor network representation of the wavefunction.\"\"\"\u001b[0m\u001b[0;34m\u001b[0m\u001b[0;34m\u001b[0m\u001b[0m\n\u001b[1;32m   2307\u001b[0m         \u001b[0;31m# make sure all same dtype and drop singlet dimensions\u001b[0m\u001b[0;34m\u001b[0m\u001b[0;34m\u001b[0m\u001b[0m\n\u001b[0;32m-> 2308\u001b[0;31m         \u001b[0mpsi\u001b[0m \u001b[0;34m=\u001b[0m \u001b[0mself\u001b[0m\u001b[0;34m.\u001b[0m\u001b[0m_psi\u001b[0m\u001b[0;34m.\u001b[0m\u001b[0mcopy\u001b[0m\u001b[0;34m(\u001b[0m\u001b[0;34m)\u001b[0m\u001b[0;34m\u001b[0m\u001b[0;34m\u001b[0m\u001b[0m\n\u001b[0m\u001b[1;32m   2309\u001b[0m         \u001b[0mpsi\u001b[0m\u001b[0;34m.\u001b[0m\u001b[0msqueeze_\u001b[0m\u001b[0;34m(\u001b[0m\u001b[0;34m)\u001b[0m\u001b[0;34m\u001b[0m\u001b[0;34m\u001b[0m\u001b[0m\n\u001b[1;32m   2310\u001b[0m         \u001b[0mpsi\u001b[0m\u001b[0;34m.\u001b[0m\u001b[0mastype_\u001b[0m\u001b[0;34m(\u001b[0m\u001b[0mpsi\u001b[0m\u001b[0;34m.\u001b[0m\u001b[0mdtype\u001b[0m\u001b[0;34m)\u001b[0m\u001b[0;34m\u001b[0m\u001b[0;34m\u001b[0m\u001b[0m\n\u001b[1;32m   2311\u001b[0m         \u001b[0;32mreturn\u001b[0m \u001b[0mpsi\u001b[0m\u001b[0;34m\u001b[0m\u001b[0;34m\u001b[0m\u001b[0m\n",
      "\u001b[0;32m~/anaconda3/envs/adaptvqite-quimb/lib/python3.11/site-packages/quimb/tensor/tensor_core.py\u001b[0m in \u001b[0;36m?\u001b[0;34m(self, virtual, deep)\u001b[0m\n\u001b[1;32m   3793\u001b[0m         \u001b[0meverything\u001b[0m \u001b[0mbut\u001b[0m \u001b[0mthe\u001b[0m \u001b[0mactual\u001b[0m \u001b[0mnumeric\u001b[0m \u001b[0mdata\u001b[0m \u001b[0mwill\u001b[0m \u001b[0mbe\u001b[0m \u001b[0mcopied\u001b[0m\u001b[0;34m.\u001b[0m\u001b[0;34m\u001b[0m\u001b[0;34m\u001b[0m\u001b[0m\n\u001b[1;32m   3794\u001b[0m         \"\"\"\n\u001b[1;32m   3795\u001b[0m         \u001b[0;32mif\u001b[0m \u001b[0mdeep\u001b[0m\u001b[0;34m:\u001b[0m\u001b[0;34m\u001b[0m\u001b[0;34m\u001b[0m\u001b[0m\n\u001b[1;32m   3796\u001b[0m             \u001b[0;32mreturn\u001b[0m \u001b[0mcopy\u001b[0m\u001b[0;34m.\u001b[0m\u001b[0mdeepcopy\u001b[0m\u001b[0;34m(\u001b[0m\u001b[0mself\u001b[0m\u001b[0;34m)\u001b[0m\u001b[0;34m\u001b[0m\u001b[0;34m\u001b[0m\u001b[0m\n\u001b[0;32m-> 3797\u001b[0;31m         \u001b[0;32mreturn\u001b[0m \u001b[0mself\u001b[0m\u001b[0;34m.\u001b[0m\u001b[0m__class__\u001b[0m\u001b[0;34m(\u001b[0m\u001b[0mself\u001b[0m\u001b[0;34m,\u001b[0m \u001b[0mvirtual\u001b[0m\u001b[0;34m=\u001b[0m\u001b[0mvirtual\u001b[0m\u001b[0;34m)\u001b[0m\u001b[0;34m\u001b[0m\u001b[0;34m\u001b[0m\u001b[0m\n\u001b[0m",
      "\u001b[0;32m~/anaconda3/envs/adaptvqite-quimb/lib/python3.11/site-packages/quimb/tensor/tensor_core.py\u001b[0m in \u001b[0;36m?\u001b[0;34m(self, ts, virtual, check_collisions)\u001b[0m\n\u001b[1;32m   3644\u001b[0m             \u001b[0mself\u001b[0m\u001b[0;34m.\u001b[0m\u001b[0mind_map\u001b[0m \u001b[0;34m=\u001b[0m \u001b[0mvalmap\u001b[0m\u001b[0;34m(\u001b[0m\u001b[0;32mlambda\u001b[0m \u001b[0mtids\u001b[0m\u001b[0;34m:\u001b[0m \u001b[0mtids\u001b[0m\u001b[0;34m.\u001b[0m\u001b[0mcopy\u001b[0m\u001b[0;34m(\u001b[0m\u001b[0;34m)\u001b[0m\u001b[0;34m,\u001b[0m \u001b[0mts\u001b[0m\u001b[0;34m.\u001b[0m\u001b[0mind_map\u001b[0m\u001b[0;34m)\u001b[0m\u001b[0;34m\u001b[0m\u001b[0;34m\u001b[0m\u001b[0m\n\u001b[1;32m   3645\u001b[0m             \u001b[0mself\u001b[0m\u001b[0;34m.\u001b[0m\u001b[0mtensor_map\u001b[0m \u001b[0;34m=\u001b[0m \u001b[0mdict\u001b[0m\u001b[0;34m(\u001b[0m\u001b[0;34m)\u001b[0m\u001b[0;34m\u001b[0m\u001b[0;34m\u001b[0m\u001b[0m\n\u001b[1;32m   3646\u001b[0m             \u001b[0;32mfor\u001b[0m \u001b[0mtid\u001b[0m\u001b[0;34m,\u001b[0m \u001b[0mt\u001b[0m \u001b[0;32min\u001b[0m \u001b[0mts\u001b[0m\u001b[0;34m.\u001b[0m\u001b[0mtensor_map\u001b[0m\u001b[0;34m.\u001b[0m\u001b[0mitems\u001b[0m\u001b[0;34m(\u001b[0m\u001b[0;34m)\u001b[0m\u001b[0;34m:\u001b[0m\u001b[0;34m\u001b[0m\u001b[0;34m\u001b[0m\u001b[0m\n\u001b[1;32m   3647\u001b[0m                 \u001b[0mself\u001b[0m\u001b[0;34m.\u001b[0m\u001b[0mtensor_map\u001b[0m\u001b[0;34m[\u001b[0m\u001b[0mtid\u001b[0m\u001b[0;34m]\u001b[0m \u001b[0;34m=\u001b[0m \u001b[0mt\u001b[0m \u001b[0;32mif\u001b[0m \u001b[0mvirtual\u001b[0m \u001b[0;32melse\u001b[0m \u001b[0mt\u001b[0m\u001b[0;34m.\u001b[0m\u001b[0mcopy\u001b[0m\u001b[0;34m(\u001b[0m\u001b[0;34m)\u001b[0m\u001b[0;34m\u001b[0m\u001b[0;34m\u001b[0m\u001b[0m\n\u001b[0;32m-> 3648\u001b[0;31m                 \u001b[0mself\u001b[0m\u001b[0;34m.\u001b[0m\u001b[0mtensor_map\u001b[0m\u001b[0;34m[\u001b[0m\u001b[0mtid\u001b[0m\u001b[0;34m]\u001b[0m\u001b[0;34m.\u001b[0m\u001b[0madd_owner\u001b[0m\u001b[0;34m(\u001b[0m\u001b[0mself\u001b[0m\u001b[0;34m,\u001b[0m \u001b[0mtid\u001b[0m\u001b[0;34m)\u001b[0m\u001b[0;34m\u001b[0m\u001b[0;34m\u001b[0m\u001b[0m\n\u001b[0m\u001b[1;32m   3649\u001b[0m             \u001b[0mself\u001b[0m\u001b[0;34m.\u001b[0m\u001b[0m_inner_inds\u001b[0m \u001b[0;34m=\u001b[0m \u001b[0mts\u001b[0m\u001b[0;34m.\u001b[0m\u001b[0m_inner_inds\u001b[0m\u001b[0;34m.\u001b[0m\u001b[0mcopy\u001b[0m\u001b[0;34m(\u001b[0m\u001b[0;34m)\u001b[0m\u001b[0;34m\u001b[0m\u001b[0;34m\u001b[0m\u001b[0m\n\u001b[1;32m   3650\u001b[0m             \u001b[0mself\u001b[0m\u001b[0;34m.\u001b[0m\u001b[0m_outer_inds\u001b[0m \u001b[0;34m=\u001b[0m \u001b[0mts\u001b[0m\u001b[0;34m.\u001b[0m\u001b[0m_outer_inds\u001b[0m\u001b[0;34m.\u001b[0m\u001b[0mcopy\u001b[0m\u001b[0;34m(\u001b[0m\u001b[0;34m)\u001b[0m\u001b[0;34m\u001b[0m\u001b[0;34m\u001b[0m\u001b[0m\n\u001b[1;32m   3651\u001b[0m             \u001b[0mself\u001b[0m\u001b[0;34m.\u001b[0m\u001b[0m_tid_counter\u001b[0m \u001b[0;34m=\u001b[0m \u001b[0mts\u001b[0m\u001b[0;34m.\u001b[0m\u001b[0m_tid_counter\u001b[0m\u001b[0;34m\u001b[0m\u001b[0;34m\u001b[0m\u001b[0m\n",
      "\u001b[0;32m~/anaconda3/envs/adaptvqite-quimb/lib/python3.11/site-packages/quimb/tensor/tensor_core.py\u001b[0m in \u001b[0;36m?\u001b[0;34m(self, tn, tid)\u001b[0m\n\u001b[0;32m-> 1492\u001b[0;31m     \u001b[0;32mdef\u001b[0m \u001b[0madd_owner\u001b[0m\u001b[0;34m(\u001b[0m\u001b[0mself\u001b[0m\u001b[0;34m,\u001b[0m \u001b[0mtn\u001b[0m\u001b[0;34m,\u001b[0m \u001b[0mtid\u001b[0m\u001b[0;34m)\u001b[0m\u001b[0;34m:\u001b[0m\u001b[0;34m\u001b[0m\u001b[0;34m\u001b[0m\u001b[0m\n\u001b[0m\u001b[1;32m   1493\u001b[0m         \"\"\"Add ``tn`` as owner of this Tensor - it's tag and ind maps will\n\u001b[1;32m   1494\u001b[0m         \u001b[0mbe\u001b[0m \u001b[0mupdated\u001b[0m \u001b[0mwhenever\u001b[0m \u001b[0mthis\u001b[0m \u001b[0mtensor\u001b[0m \u001b[0;32mis\u001b[0m \u001b[0mretagged\u001b[0m \u001b[0;32mor\u001b[0m \u001b[0mreindexed\u001b[0m\u001b[0;34m.\u001b[0m\u001b[0;34m\u001b[0m\u001b[0;34m\u001b[0m\u001b[0m\n\u001b[1;32m   1495\u001b[0m         \"\"\"\n",
      "\u001b[0;31mKeyboardInterrupt\u001b[0m: "
     ]
    }
   ],
   "source": [
    "#keyboard interupted before the convergence\n",
    "\n",
    "test_obj.vqite(opt_m='greedy',opt_v=test_obj.opt_dict,simp = '',backend=None)"
   ]
  },
  {
   "cell_type": "code",
   "execution_count": 35,
   "id": "0f16de6c-1be1-45fb-b0b0-031a13f18bd5",
   "metadata": {},
   "outputs": [
    {
     "data": {
      "text/plain": [
       "-12.029901373767853"
      ]
     },
     "execution_count": 35,
     "metadata": {},
     "output_type": "execute_result"
    }
   ],
   "source": [
    "test_obj._e"
   ]
  },
  {
   "cell_type": "code",
   "execution_count": 36,
   "id": "8499e65a-d0e0-4f17-8ce6-3beffdea264c",
   "metadata": {},
   "outputs": [
    {
     "data": {
      "text/plain": [
       "[-0.003193788627411708,\n",
       " 0.01583520260418678,\n",
       " -0.020757635887551668,\n",
       " -0.09264601742526374,\n",
       " -0.05079171298658073,\n",
       " -0.0019396842774154581,\n",
       " -0.04595016717669471,\n",
       " -0.048442493762900087,\n",
       " -0.06255368820764731,\n",
       " -0.010592916660924422,\n",
       " -0.048099810983786004,\n",
       " 0.0004591512638604529,\n",
       " -0.04393497495432116,\n",
       " -0.0005630347431243515,\n",
       " -0.04887048720787112,\n",
       " 0.011672678665910709,\n",
       " -0.04587297823160454,\n",
       " -0.028292594236495903,\n",
       " -0.03612819167759684,\n",
       " -0.0654342266196342,\n",
       " 0.04214942711006408]"
      ]
     },
     "execution_count": 36,
     "metadata": {},
     "output_type": "execute_result"
    }
   ],
   "source": [
    "test_obj._params"
   ]
  },
  {
   "cell_type": "code",
   "execution_count": null,
   "id": "082dd742-681a-489f-94fd-9afedd212c5a",
   "metadata": {},
   "outputs": [],
   "source": []
  }
 ],
 "metadata": {
  "kernelspec": {
   "display_name": "Python 3 (ipykernel)",
   "language": "python",
   "name": "python3"
  },
  "language_info": {
   "codemirror_mode": {
    "name": "ipython",
    "version": 3
   },
   "file_extension": ".py",
   "mimetype": "text/x-python",
   "name": "python",
   "nbconvert_exporter": "python",
   "pygments_lexer": "ipython3",
   "version": "3.11.10"
  }
 },
 "nbformat": 4,
 "nbformat_minor": 5
}
