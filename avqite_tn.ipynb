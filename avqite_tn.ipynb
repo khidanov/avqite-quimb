{
 "cells": [
  {
   "cell_type": "code",
   "execution_count": null,
   "id": "a900cbc6-c790-404e-9c0e-83c8b3e812f5",
   "metadata": {},
   "outputs": [],
   "source": [
    "\"\"\"\n",
    "This notebook demonstrates how to use tensor-network implementation \n",
    "of the VQITE simulation.\n",
    "The main code, relevant description, and package requirements are \n",
    "listed in avqite_quimb.py.\n",
    "\"\"\""
   ]
  },
  {
   "cell_type": "code",
   "execution_count": 56,
   "id": "c4566e4a-1628-4926-aee9-eb1b63356159",
   "metadata": {
    "tags": []
   },
   "outputs": [
    {
     "data": {
      "text/plain": [
       "<module 'avqite_quimb' from '/Users/Aleksei/avqite-quimb/avqite_quimb.py'>"
      ]
     },
     "execution_count": 56,
     "metadata": {},
     "output_type": "execute_result"
    }
   ],
   "source": [
    "import numpy as np\n",
    "import scipy\n",
    "import pickle\n",
    "import time\n",
    "from tqdm import tqdm\n",
    "from typing import (\n",
    "    List,\n",
    "    Optional,\n",
    "    Tuple,\n",
    "    Union\n",
    ")\n",
    "import random\n",
    "import importlib\n",
    "\n",
    "import quimb as qu\n",
    "import quimb.tensor as qtn\n",
    "\n",
    "import cotengra as ctg\n",
    "\n",
    "import avqite_quimb\n",
    "\n",
    "importlib.reload(avqite_quimb)"
   ]
  },
  {
   "cell_type": "code",
   "execution_count": 57,
   "id": "3b4e9217-558a-4eac-abbb-16ef0a46fd92",
   "metadata": {
    "tags": []
   },
   "outputs": [],
   "source": [
    "test_obj = avqite_quimb.Quimb_vqite(filename = \"N12g0.1\")"
   ]
  },
  {
   "cell_type": "code",
   "execution_count": 58,
   "id": "ccec568b-5985-49eb-a48f-bf355be0085d",
   "metadata": {},
   "outputs": [
    {
     "data": {
      "text/plain": [
       "{'XIIIIIIIIIII': <ContractionTree(N=31)>,\n",
       " 'IXIIIIIIIIII': <ContractionTree(N=47)>,\n",
       " 'IIXIIIIIIIII': <ContractionTree(N=49)>,\n",
       " 'IIIXIIIIIIII': <ContractionTree(N=59)>,\n",
       " 'IIIIXIIIIIII': <ContractionTree(N=45)>,\n",
       " 'IIIIIXIIIIII': <ContractionTree(N=55)>,\n",
       " 'IIIIIIXIIIII': <ContractionTree(N=27)>,\n",
       " 'IIIIIIIXIIII': <ContractionTree(N=69)>,\n",
       " 'IIIIIIIIXIII': <ContractionTree(N=65)>,\n",
       " 'IIIIIIIIIXII': <ContractionTree(N=65)>,\n",
       " 'IIIIIIIIIIXI': <ContractionTree(N=61)>,\n",
       " 'IIIIIIIIIIIX': <ContractionTree(N=51)>,\n",
       " 'ZZIIIIIIIIII': <ContractionTree(N=77)>,\n",
       " 'IZZIIIIIIIII': <ContractionTree(N=95)>,\n",
       " 'IIZZIIIIIIII': <ContractionTree(N=87)>,\n",
       " 'IIIZZIIIIIII': <ContractionTree(N=83)>,\n",
       " 'IIIIZZIIIIII': <ContractionTree(N=79)>,\n",
       " 'IIIIIZZIIIII': <ContractionTree(N=71)>,\n",
       " 'IIIIIIZZIIII': <ContractionTree(N=75)>,\n",
       " 'IIIIIIIZZIII': <ContractionTree(N=103)>,\n",
       " 'IIIIIIIIZZII': <ContractionTree(N=99)>,\n",
       " 'IIIIIIIIIZZI': <ContractionTree(N=95)>,\n",
       " 'IIIIIIIIIIZZ': <ContractionTree(N=85)>,\n",
       " 'ZIIIIIIIIIIZ': <ContractionTree(N=81)>}"
      ]
     },
     "execution_count": 58,
     "metadata": {},
     "output_type": "execute_result"
    }
   ],
   "source": [
    "#Constructs the dictionary of contraction trees for evaluating\n",
    "#the tensor corresponding to the expectation value of each Pauli\n",
    "#string in the Hamiltonian.\n",
    "#The expectation value is evaluated for the ansatz state.\n",
    "#This dictionary of contraction trees can then be reused when\n",
    "#evaluating expectation values for other values of parameters.\n",
    "\n",
    "test_obj.h_terms_find_contractions(opt='greedy',simp = \"\")\n",
    "test_obj.opt_dict"
   ]
  },
  {
   "cell_type": "code",
   "execution_count": 59,
   "id": "a828be15-c54e-4054-8d4c-b0826ad28b5a",
   "metadata": {},
   "outputs": [
    {
     "data": {
      "text/plain": [
       "[0.0777641782779078,\n",
       " -0.006003158272408937,\n",
       " 0.06944466730856269,\n",
       " 0.07456035569090058,\n",
       " -0.06701428366579856,\n",
       " 0.0851493295043371,\n",
       " 0.006509601764724968,\n",
       " 0.07898432584142487,\n",
       " 0.06845649587061359,\n",
       " 0.03536592341222769,\n",
       " 0.08816433263710086,\n",
       " 0.06126058038069515,\n",
       " 0.075580186784272,\n",
       " -0.005964947550909219,\n",
       " 0.05510841204338199,\n",
       " 0.008579991562440936,\n",
       " -0.08897618048507683,\n",
       " -0.0004264494004140723,\n",
       " 0.0538023338625391,\n",
       " 0.051871201202643435,\n",
       " -0.028721701382197498]"
      ]
     },
     "execution_count": 59,
     "metadata": {},
     "output_type": "execute_result"
    }
   ],
   "source": [
    "#Initial parameter values\n",
    "\n",
    "test_obj.params"
   ]
  },
  {
   "cell_type": "markdown",
   "id": "a9f52179-44ee-45a7-8348-c704480557f0",
   "metadata": {},
   "source": [
    "### AVQITE results"
   ]
  },
  {
   "cell_type": "markdown",
   "id": "df675ff4-9877-46df-8678-32a230657f28",
   "metadata": {},
   "source": [
    "e = -12.02998224"
   ]
  },
  {
   "cell_type": "code",
   "execution_count": 60,
   "id": "3101582a-391d-4649-9c78-bb9f71f9d0d8",
   "metadata": {},
   "outputs": [
    {
     "data": {
      "text/plain": [
       "[-0.03373891838404348,\n",
       " -0.050078497033246835,\n",
       " -0.04991639034653487,\n",
       " -0.024964345407657868,\n",
       " -0.049755843269241644,\n",
       " -0.04989684794910913,\n",
       " -0.049917295159514666,\n",
       " -0.04991848825801717,\n",
       " -0.03373880318968922,\n",
       " 0.023566888103175317,\n",
       " -0.04993780407632377,\n",
       " -9.060913728609124e-06,\n",
       " -2.1727417925979092e-05,\n",
       " -2.0666081313686814e-05,\n",
       " -0.04975599567846892,\n",
       " -0.01613088640936399,\n",
       " -0.01613095926996059,\n",
       " -2.1592095145783832e-05,\n",
       " -0.07350141136452552,\n",
       " 9.920607797867385e-05,\n",
       " -0.02496434540765841]"
      ]
     },
     "execution_count": 60,
     "metadata": {},
     "output_type": "execute_result"
    }
   ],
   "source": [
    "test_obj._params_solution"
   ]
  },
  {
   "cell_type": "markdown",
   "id": "60837c3a-47ae-49d2-a5d8-886576878197",
   "metadata": {},
   "source": [
    "### Case with simplification 'CSR' and without the reuse of contraction paths"
   ]
  },
  {
   "cell_type": "code",
   "execution_count": 61,
   "id": "1f8aab06-7bd0-4843-beb1-081770799c14",
   "metadata": {
    "scrolled": true
   },
   "outputs": [
    {
     "name": "stdout",
     "output_type": "stream",
     "text": [
      "iter:  0 , M matrix time:  5.297933101654053 , V vector time:  10.723056077957153 , Energy:  (-11.878495126519672+4.6340068786078e-18j)\n",
      "iter:  1 , M matrix time:  0.3612849712371826 , V vector time:  11.088310956954956 , Energy:  (-11.901645084369079+6.182183279593514e-18j)\n",
      "iter:  2 , M matrix time:  0.37224698066711426 , V vector time:  10.757404088973999 , Energy:  (-11.92128559208018+4.888967350397086e-18j)\n",
      "iter:  3 , M matrix time:  0.36080217361450195 , V vector time:  10.619808912277222 , Energy:  (-11.937940329896778-1.9505265869520726e-18j)\n",
      "iter:  4 , M matrix time:  0.3570098876953125 , V vector time:  10.768131017684937 , Energy:  (-11.952056986192739+6.021331770659831e-18j)\n",
      "iter:  5 , M matrix time:  0.36055588722229004 , V vector time:  11.651979207992554 , Energy:  (-11.964017818275071+1.0387715501267387e-17j)\n",
      "iter:  6 , M matrix time:  0.3659029006958008 , V vector time:  11.389503955841064 , Energy:  (-11.974148790021786+2.326270249579424e-17j)\n",
      "iter:  7 , M matrix time:  0.3631000518798828 , V vector time:  11.877281904220581 , Energy:  (-11.982727521932528+6.316327729009482e-18j)\n",
      "iter:  8 , M matrix time:  0.3679170608520508 , V vector time:  11.45421814918518 , Energy:  (-11.989990202752773+3.4331869749103033e-18j)\n",
      "iter:  9 , M matrix time:  0.36598706245422363 , V vector time:  10.915708065032959 , Energy:  (-11.99613758086354+8.524165711749514e-18j)\n",
      "iter:  10 , M matrix time:  0.36565589904785156 , V vector time:  12.37702488899231 , Energy:  (-12.001340141120922+2.031511016511972e-17j)\n",
      "iter:  11 , M matrix time:  0.6116039752960205 , V vector time:  11.291824102401733 , Energy:  (-12.005742564298176+7.141636883844986e-18j)\n",
      "iter:  12 , M matrix time:  0.3586559295654297 , V vector time:  10.838207006454468 , Energy:  (-12.00946755808365-4.0710763510648504e-18j)\n",
      "iter:  13 , M matrix time:  0.3567826747894287 , V vector time:  10.604515075683594 , Energy:  (-12.0126191403161-2.0808879675451518e-18j)\n",
      "iter:  14 , M matrix time:  0.3623659610748291 , V vector time:  10.74286413192749 , Energy:  (-12.015285446931232+4.7561944533053915e-18j)\n",
      "iter:  15 , M matrix time:  0.36023592948913574 , V vector time:  10.680755138397217 , Energy:  (-12.017541129134496+1.4719569682865392e-17j)\n",
      "iter:  16 , M matrix time:  0.3577730655670166 , V vector time:  10.644402027130127 , Energy:  (-12.019449396768243+6.056175755332005e-19j)\n",
      "iter:  17 , M matrix time:  0.3580441474914551 , V vector time:  10.597283840179443 , Energy:  (-12.021063757822954-5.6097576780872475e-18j)\n",
      "iter:  18 , M matrix time:  0.3595700263977051 , V vector time:  10.554642915725708 , Energy:  (-12.022429497640731-8.044932719352893e-18j)\n",
      "iter:  19 , M matrix time:  0.35917186737060547 , V vector time:  10.662362098693848 , Energy:  (-12.023584935571732-1.4694413749623777e-17j)\n",
      "iter:  20 , M matrix time:  0.35835719108581543 , V vector time:  10.675320863723755 , Energy:  (-12.024562491721259+8.706401878693024e-18j)\n",
      "iter:  21 , M matrix time:  0.36606812477111816 , V vector time:  10.644420862197876 , Energy:  (-12.025389591869269-2.26181152111659e-17j)\n",
      "iter:  22 , M matrix time:  0.3574941158294678 , V vector time:  10.560704946517944 , Energy:  (-12.026089434672823+2.521262383513828e-17j)\n",
      "iter:  23 , M matrix time:  0.3597562313079834 , V vector time:  10.655817985534668 , Energy:  (-12.026681641791646-3.4334166639503586e-19j)\n",
      "iter:  24 , M matrix time:  0.36139678955078125 , V vector time:  10.651002168655396 , Energy:  (-12.027182808571178-6.276966210871126e-18j)\n",
      "iter:  25 , M matrix time:  0.36031103134155273 , V vector time:  10.675504207611084 , Energy:  (-12.027606970323141+3.856759736178864e-18j)\n",
      "iter:  26 , M matrix time:  0.36571526527404785 , V vector time:  10.785469055175781 , Energy:  (-12.027965997013792-2.1743225847773415e-17j)\n"
     ]
    },
    {
     "ename": "KeyboardInterrupt",
     "evalue": "",
     "output_type": "error",
     "traceback": [
      "\u001b[0;31m---------------------------------------------------------------------------\u001b[0m",
      "\u001b[0;31mKeyboardInterrupt\u001b[0m                         Traceback (most recent call last)",
      "Cell \u001b[0;32mIn[61], line 3\u001b[0m\n\u001b[1;32m      1\u001b[0m \u001b[38;5;66;03m#keyboard interupted before the convergence\u001b[39;00m\n\u001b[0;32m----> 3\u001b[0m \u001b[43mtest_obj\u001b[49m\u001b[38;5;241;43m.\u001b[39;49m\u001b[43mvqite\u001b[49m\u001b[43m(\u001b[49m\u001b[43mopt_m\u001b[49m\u001b[38;5;241;43m=\u001b[39;49m\u001b[38;5;124;43m'\u001b[39;49m\u001b[38;5;124;43mgreedy\u001b[39;49m\u001b[38;5;124;43m'\u001b[39;49m\u001b[43m,\u001b[49m\u001b[43mopt_v\u001b[49m\u001b[38;5;241;43m=\u001b[39;49m\u001b[38;5;124;43m'\u001b[39;49m\u001b[38;5;124;43mgreedy\u001b[39;49m\u001b[38;5;124;43m'\u001b[39;49m\u001b[43m,\u001b[49m\u001b[43msimp\u001b[49m\u001b[43m \u001b[49m\u001b[38;5;241;43m=\u001b[39;49m\u001b[43m \u001b[49m\u001b[38;5;124;43m'\u001b[39;49m\u001b[38;5;124;43mCSR\u001b[39;49m\u001b[38;5;124;43m'\u001b[39;49m\u001b[43m,\u001b[49m\u001b[43mbackend\u001b[49m\u001b[38;5;241;43m=\u001b[39;49m\u001b[38;5;28;43;01mNone\u001b[39;49;00m\u001b[43m)\u001b[49m\n",
      "File \u001b[0;32m~/avqite-quimb/avqite_quimb.py:309\u001b[0m, in \u001b[0;36mQuimb_vqite.vqite\u001b[0;34m(self, opt_m, opt_v, simp, backend)\u001b[0m\n\u001b[1;32m    302\u001b[0m     \u001b[38;5;28mself\u001b[39m\u001b[38;5;241m.\u001b[39mcompute_m(\n\u001b[1;32m    303\u001b[0m         opt\u001b[38;5;241m=\u001b[39mopt_m,\n\u001b[1;32m    304\u001b[0m         simp\u001b[38;5;241m=\u001b[39msimp,\n\u001b[1;32m    305\u001b[0m         backend \u001b[38;5;241m=\u001b[39m backend,\n\u001b[1;32m    306\u001b[0m         which_nonzero\u001b[38;5;241m=\u001b[39m\u001b[38;5;28mself\u001b[39m\u001b[38;5;241m.\u001b[39mwhich_nonzero\n\u001b[1;32m    307\u001b[0m     )\n\u001b[1;32m    308\u001b[0m t2 \u001b[38;5;241m=\u001b[39m time\u001b[38;5;241m.\u001b[39mtime()\n\u001b[0;32m--> 309\u001b[0m \u001b[38;5;28;43mself\u001b[39;49m\u001b[38;5;241;43m.\u001b[39;49m\u001b[43mcompute_v\u001b[49m\u001b[43m(\u001b[49m\u001b[43mopt\u001b[49m\u001b[38;5;241;43m=\u001b[39;49m\u001b[43mopt_v\u001b[49m\u001b[43m,\u001b[49m\u001b[43msimp\u001b[49m\u001b[38;5;241;43m=\u001b[39;49m\u001b[43msimp\u001b[49m\u001b[43m,\u001b[49m\u001b[43mbackend\u001b[49m\u001b[43m \u001b[49m\u001b[38;5;241;43m=\u001b[39;49m\u001b[43m \u001b[49m\u001b[43mbackend\u001b[49m\u001b[43m)\u001b[49m\n\u001b[1;32m    310\u001b[0m t3 \u001b[38;5;241m=\u001b[39m time\u001b[38;5;241m.\u001b[39mtime()\n\u001b[1;32m    311\u001b[0m dthdt \u001b[38;5;241m=\u001b[39m \u001b[38;5;28mself\u001b[39m\u001b[38;5;241m.\u001b[39mget_dthdt(delta \u001b[38;5;241m=\u001b[39m \u001b[38;5;241m1e-4\u001b[39m, m \u001b[38;5;241m=\u001b[39m \u001b[38;5;28mself\u001b[39m\u001b[38;5;241m.\u001b[39m_m, v\u001b[38;5;241m=\u001b[39m \u001b[38;5;28mself\u001b[39m\u001b[38;5;241m.\u001b[39m_v)\n",
      "File \u001b[0;32m~/avqite-quimb/avqite_quimb.py:260\u001b[0m, in \u001b[0;36mQuimb_vqite.compute_v\u001b[0;34m(self, opt, simp, backend)\u001b[0m\n\u001b[1;32m    257\u001b[0m params2 \u001b[38;5;241m=\u001b[39m \u001b[38;5;28mself\u001b[39m\u001b[38;5;241m.\u001b[39mparams\u001b[38;5;241m.\u001b[39mcopy()\n\u001b[1;32m    258\u001b[0m params2[mu] \u001b[38;5;241m=\u001b[39m params2[mu]\u001b[38;5;241m-\u001b[39mnp\u001b[38;5;241m.\u001b[39mpi\u001b[38;5;241m/\u001b[39m\u001b[38;5;241m2\u001b[39m\n\u001b[1;32m    259\u001b[0m \u001b[38;5;28mself\u001b[39m\u001b[38;5;241m.\u001b[39m_v[mu] \u001b[38;5;241m=\u001b[39m np\u001b[38;5;241m.\u001b[39mreal(\u001b[38;5;241m-\u001b[39m\u001b[38;5;241m1\u001b[39m\u001b[38;5;241m/\u001b[39m\u001b[38;5;241m2\u001b[39m\u001b[38;5;241m*\u001b[39m(\n\u001b[0;32m--> 260\u001b[0m     \u001b[38;5;28;43mself\u001b[39;49m\u001b[38;5;241;43m.\u001b[39;49m\u001b[43mh_exp_val\u001b[49m\u001b[43m(\u001b[49m\n\u001b[1;32m    261\u001b[0m \u001b[43m        \u001b[49m\u001b[43mparams\u001b[49m\u001b[43m \u001b[49m\u001b[38;5;241;43m=\u001b[39;49m\u001b[43m \u001b[49m\u001b[43mparams1\u001b[49m\u001b[43m,\u001b[49m\n\u001b[1;32m    262\u001b[0m \u001b[43m        \u001b[49m\u001b[43mopt\u001b[49m\u001b[43m \u001b[49m\u001b[38;5;241;43m=\u001b[39;49m\u001b[43m \u001b[49m\u001b[43mopt\u001b[49m\u001b[43m,\u001b[49m\n\u001b[1;32m    263\u001b[0m \u001b[43m        \u001b[49m\u001b[43msimp\u001b[49m\u001b[38;5;241;43m=\u001b[39;49m\u001b[43msimp\u001b[49m\u001b[43m,\u001b[49m\n\u001b[1;32m    264\u001b[0m \u001b[43m        \u001b[49m\u001b[43mbackend\u001b[49m\u001b[43m \u001b[49m\u001b[38;5;241;43m=\u001b[39;49m\u001b[43m \u001b[49m\u001b[43mbackend\u001b[49m\n\u001b[1;32m    265\u001b[0m \u001b[43m    \u001b[49m\u001b[43m)\u001b[49m \u001b[38;5;241m-\u001b[39m\n\u001b[1;32m    266\u001b[0m     \u001b[38;5;28mself\u001b[39m\u001b[38;5;241m.\u001b[39mh_exp_val(\n\u001b[1;32m    267\u001b[0m         params \u001b[38;5;241m=\u001b[39m params2,\n\u001b[1;32m    268\u001b[0m         opt \u001b[38;5;241m=\u001b[39m opt,\n\u001b[1;32m    269\u001b[0m         simp\u001b[38;5;241m=\u001b[39msimp,\n\u001b[1;32m    270\u001b[0m         backend \u001b[38;5;241m=\u001b[39m backend)\n\u001b[1;32m    271\u001b[0m ) \u001b[38;5;241m/\u001b[39m \u001b[38;5;241m2\u001b[39m )\n",
      "File \u001b[0;32m~/avqite-quimb/avqite_quimb.py:381\u001b[0m, in \u001b[0;36mQuimb_vqite.h_exp_val\u001b[0;34m(self, params, opt, simp, backend)\u001b[0m\n\u001b[1;32m    379\u001b[0m         h_exp_vals\u001b[38;5;241m.\u001b[39mappend(exp_val)\n\u001b[1;32m    380\u001b[0m     \u001b[38;5;28;01melse\u001b[39;00m:\n\u001b[0;32m--> 381\u001b[0m         h_exp_vals\u001b[38;5;241m.\u001b[39mappend( \u001b[43mp_str_exp_eval\u001b[49m\u001b[43m(\u001b[49m\n\u001b[1;32m    382\u001b[0m \u001b[43m            \u001b[49m\u001b[43mqc\u001b[49m\u001b[38;5;241;43m=\u001b[39;49m\u001b[43mqc\u001b[49m\u001b[43m,\u001b[49m\n\u001b[1;32m    383\u001b[0m \u001b[43m            \u001b[49m\u001b[43mpauli_str\u001b[49m\u001b[38;5;241;43m=\u001b[39;49m\u001b[43mpauli_str\u001b[49m\u001b[43m,\u001b[49m\n\u001b[1;32m    384\u001b[0m \u001b[43m            \u001b[49m\u001b[43mopt\u001b[49m\u001b[43m \u001b[49m\u001b[38;5;241;43m=\u001b[39;49m\u001b[43m \u001b[49m\u001b[43mopt\u001b[49m\u001b[43m,\u001b[49m\n\u001b[1;32m    385\u001b[0m \u001b[43m            \u001b[49m\u001b[43msimp\u001b[49m\u001b[38;5;241;43m=\u001b[39;49m\u001b[43msimp\u001b[49m\u001b[43m,\u001b[49m\n\u001b[1;32m    386\u001b[0m \u001b[43m            \u001b[49m\u001b[43mbackend\u001b[49m\u001b[43m \u001b[49m\u001b[38;5;241;43m=\u001b[39;49m\u001b[43m \u001b[49m\u001b[43mbackend\u001b[49m\n\u001b[1;32m    387\u001b[0m \u001b[43m        \u001b[49m\u001b[43m)\u001b[49m )\n\u001b[1;32m    388\u001b[0m exp_value \u001b[38;5;241m=\u001b[39m \u001b[38;5;28msum\u001b[39m([h_exp_vals[i]\u001b[38;5;241m*\u001b[39m\u001b[38;5;28mself\u001b[39m\u001b[38;5;241m.\u001b[39m_H\u001b[38;5;241m.\u001b[39mcoefs[i]\n\u001b[1;32m    389\u001b[0m                             \u001b[38;5;28;01mfor\u001b[39;00m i \u001b[38;5;129;01min\u001b[39;00m \u001b[38;5;28mrange\u001b[39m(\u001b[38;5;28mlen\u001b[39m(\u001b[38;5;28mself\u001b[39m\u001b[38;5;241m.\u001b[39m_H\u001b[38;5;241m.\u001b[39mcoefs))])\n\u001b[1;32m    391\u001b[0m \u001b[38;5;28;01mreturn\u001b[39;00m exp_value\n",
      "File \u001b[0;32m~/avqite-quimb/avqite_quimb.py:767\u001b[0m, in \u001b[0;36mp_str_exp_eval\u001b[0;34m(qc, pauli_str, opt, simp, backend)\u001b[0m\n\u001b[1;32m    765\u001b[0m \u001b[38;5;28;01mfor\u001b[39;00m i \u001b[38;5;129;01min\u001b[39;00m \u001b[38;5;28mrange\u001b[39m(\u001b[38;5;241m1\u001b[39m,\u001b[38;5;28mlen\u001b[39m(where)):\n\u001b[1;32m    766\u001b[0m     operator \u001b[38;5;241m=\u001b[39m operator \u001b[38;5;241m&\u001b[39m qu\u001b[38;5;241m.\u001b[39mpauli(paulis[i])\n\u001b[0;32m--> 767\u001b[0m exp_val \u001b[38;5;241m=\u001b[39m \u001b[43mqc\u001b[49m\u001b[38;5;241;43m.\u001b[39;49m\u001b[43mlocal_expectation\u001b[49m\u001b[43m(\u001b[49m\n\u001b[1;32m    768\u001b[0m \u001b[43m    \u001b[49m\u001b[43moperator\u001b[49m\u001b[43m,\u001b[49m\n\u001b[1;32m    769\u001b[0m \u001b[43m    \u001b[49m\u001b[43mwhere\u001b[49m\u001b[43m,\u001b[49m\n\u001b[1;32m    770\u001b[0m \u001b[43m    \u001b[49m\u001b[43moptimize\u001b[49m\u001b[38;5;241;43m=\u001b[39;49m\u001b[43mopt\u001b[49m\u001b[43m,\u001b[49m\n\u001b[1;32m    771\u001b[0m \u001b[43m    \u001b[49m\u001b[43msimplify_sequence\u001b[49m\u001b[38;5;241;43m=\u001b[39;49m\u001b[43msimp\u001b[49m\u001b[43m,\u001b[49m\n\u001b[1;32m    772\u001b[0m \u001b[43m    \u001b[49m\u001b[43mbackend\u001b[49m\u001b[38;5;241;43m=\u001b[39;49m\u001b[43mbackend\u001b[49m\n\u001b[1;32m    773\u001b[0m \u001b[43m\u001b[49m\u001b[43m)\u001b[49m\n\u001b[1;32m    774\u001b[0m \u001b[38;5;28;01mreturn\u001b[39;00m exp_val\n",
      "File \u001b[0;32m~/anaconda3/envs/adaptvqite-quimb/lib/python3.11/site-packages/quimb/tensor/circuit.py:2882\u001b[0m, in \u001b[0;36mCircuit.local_expectation\u001b[0;34m(self, G, where, optimize, simplify_sequence, simplify_atol, simplify_equalize_norms, backend, dtype, rehearse)\u001b[0m\n\u001b[1;32m   2874\u001b[0m     where \u001b[38;5;241m=\u001b[39m (where,)\n\u001b[1;32m   2876\u001b[0m fs_opts \u001b[38;5;241m=\u001b[39m {\n\u001b[1;32m   2877\u001b[0m     \u001b[38;5;124m\"\u001b[39m\u001b[38;5;124mseq\u001b[39m\u001b[38;5;124m\"\u001b[39m: simplify_sequence,\n\u001b[1;32m   2878\u001b[0m     \u001b[38;5;124m\"\u001b[39m\u001b[38;5;124matol\u001b[39m\u001b[38;5;124m\"\u001b[39m: simplify_atol,\n\u001b[1;32m   2879\u001b[0m     \u001b[38;5;124m\"\u001b[39m\u001b[38;5;124mequalize_norms\u001b[39m\u001b[38;5;124m\"\u001b[39m: simplify_equalize_norms,\n\u001b[1;32m   2880\u001b[0m }\n\u001b[0;32m-> 2882\u001b[0m rho \u001b[38;5;241m=\u001b[39m \u001b[38;5;28;43mself\u001b[39;49m\u001b[38;5;241;43m.\u001b[39;49m\u001b[43mget_rdm_lightcone_simplified\u001b[49m\u001b[43m(\u001b[49m\u001b[43mwhere\u001b[49m\u001b[38;5;241;43m=\u001b[39;49m\u001b[43mwhere\u001b[49m\u001b[43m,\u001b[49m\u001b[43m \u001b[49m\u001b[38;5;241;43m*\u001b[39;49m\u001b[38;5;241;43m*\u001b[39;49m\u001b[43mfs_opts\u001b[49m\u001b[43m)\u001b[49m\n\u001b[1;32m   2883\u001b[0m k_inds \u001b[38;5;241m=\u001b[39m \u001b[38;5;28mtuple\u001b[39m(\u001b[38;5;28mself\u001b[39m\u001b[38;5;241m.\u001b[39mket_site_ind(i) \u001b[38;5;28;01mfor\u001b[39;00m i \u001b[38;5;129;01min\u001b[39;00m where)\n\u001b[1;32m   2884\u001b[0m b_inds \u001b[38;5;241m=\u001b[39m \u001b[38;5;28mtuple\u001b[39m(\u001b[38;5;28mself\u001b[39m\u001b[38;5;241m.\u001b[39mbra_site_ind(i) \u001b[38;5;28;01mfor\u001b[39;00m i \u001b[38;5;129;01min\u001b[39;00m where)\n",
      "File \u001b[0;32m~/anaconda3/envs/adaptvqite-quimb/lib/python3.11/site-packages/quimb/tensor/circuit.py:2552\u001b[0m, in \u001b[0;36mCircuit.get_rdm_lightcone_simplified\u001b[0;34m(self, where, seq, atol, equalize_norms)\u001b[0m\n\u001b[1;32m   2549\u001b[0m k_inds \u001b[38;5;241m=\u001b[39m \u001b[38;5;28mtuple\u001b[39m(\u001b[38;5;28mmap\u001b[39m(\u001b[38;5;28mself\u001b[39m\u001b[38;5;241m.\u001b[39mket_site_ind, where))\n\u001b[1;32m   2550\u001b[0m b_inds \u001b[38;5;241m=\u001b[39m \u001b[38;5;28mtuple\u001b[39m(\u001b[38;5;28mmap\u001b[39m(\u001b[38;5;28mself\u001b[39m\u001b[38;5;241m.\u001b[39mbra_site_ind, where))\n\u001b[0;32m-> 2552\u001b[0m bra_lc \u001b[38;5;241m=\u001b[39m \u001b[43mket_lc\u001b[49m\u001b[38;5;241;43m.\u001b[39;49m\u001b[43mconj\u001b[49m\u001b[43m(\u001b[49m\u001b[43m)\u001b[49m\u001b[38;5;241;43m.\u001b[39;49m\u001b[43mreindex\u001b[49m\u001b[43m(\u001b[49m\u001b[38;5;28;43mdict\u001b[39;49m\u001b[43m(\u001b[49m\u001b[38;5;28;43mzip\u001b[39;49m\u001b[43m(\u001b[49m\u001b[43mk_inds\u001b[49m\u001b[43m,\u001b[49m\u001b[43m \u001b[49m\u001b[43mb_inds\u001b[49m\u001b[43m)\u001b[49m\u001b[43m)\u001b[49m\u001b[43m)\u001b[49m\n\u001b[1;32m   2553\u001b[0m rho_lc \u001b[38;5;241m=\u001b[39m bra_lc \u001b[38;5;241m|\u001b[39m ket_lc\n\u001b[1;32m   2555\u001b[0m \u001b[38;5;66;03m# don't want to simplify site indices in region away\u001b[39;00m\n",
      "File \u001b[0;32m~/anaconda3/envs/adaptvqite-quimb/lib/python3.11/site-packages/quimb/tensor/tensor_core.py:4134\u001b[0m, in \u001b[0;36mTensorNetwork.reindex\u001b[0;34m(self, index_map, inplace)\u001b[0m\n\u001b[1;32m   4126\u001b[0m \u001b[38;5;28;01mdef\u001b[39;00m \u001b[38;5;21mreindex\u001b[39m(\u001b[38;5;28mself\u001b[39m, index_map, inplace\u001b[38;5;241m=\u001b[39m\u001b[38;5;28;01mFalse\u001b[39;00m):\n\u001b[1;32m   4127\u001b[0m \u001b[38;5;250m    \u001b[39m\u001b[38;5;124;03m\"\"\"Rename indices for all tensors in this network, optionally in-place.\u001b[39;00m\n\u001b[1;32m   4128\u001b[0m \n\u001b[1;32m   4129\u001b[0m \u001b[38;5;124;03m    Parameters\u001b[39;00m\n\u001b[0;32m   (...)\u001b[0m\n\u001b[1;32m   4132\u001b[0m \u001b[38;5;124;03m        Mapping of pairs ``{old_ind: new_ind, ...}``.\u001b[39;00m\n\u001b[1;32m   4133\u001b[0m \u001b[38;5;124;03m    \"\"\"\u001b[39;00m\n\u001b[0;32m-> 4134\u001b[0m     tn \u001b[38;5;241m=\u001b[39m \u001b[38;5;28mself\u001b[39m \u001b[38;5;28;01mif\u001b[39;00m inplace \u001b[38;5;28;01melse\u001b[39;00m \u001b[38;5;28;43mself\u001b[39;49m\u001b[38;5;241;43m.\u001b[39;49m\u001b[43mcopy\u001b[49m\u001b[43m(\u001b[49m\u001b[43m)\u001b[49m\n\u001b[1;32m   4136\u001b[0m     tids \u001b[38;5;241m=\u001b[39m oset_union(tn\u001b[38;5;241m.\u001b[39mind_map\u001b[38;5;241m.\u001b[39mget(ix, oset()) \u001b[38;5;28;01mfor\u001b[39;00m ix \u001b[38;5;129;01min\u001b[39;00m index_map)\n\u001b[1;32m   4138\u001b[0m     \u001b[38;5;28;01mfor\u001b[39;00m tid \u001b[38;5;129;01min\u001b[39;00m tids:\n",
      "File \u001b[0;32m~/anaconda3/envs/adaptvqite-quimb/lib/python3.11/site-packages/quimb/tensor/tensor_core.py:3797\u001b[0m, in \u001b[0;36mTensorNetwork.copy\u001b[0;34m(self, virtual, deep)\u001b[0m\n\u001b[1;32m   3795\u001b[0m \u001b[38;5;28;01mif\u001b[39;00m deep:\n\u001b[1;32m   3796\u001b[0m     \u001b[38;5;28;01mreturn\u001b[39;00m copy\u001b[38;5;241m.\u001b[39mdeepcopy(\u001b[38;5;28mself\u001b[39m)\n\u001b[0;32m-> 3797\u001b[0m \u001b[38;5;28;01mreturn\u001b[39;00m \u001b[38;5;28;43mself\u001b[39;49m\u001b[38;5;241;43m.\u001b[39;49m\u001b[38;5;18;43m__class__\u001b[39;49m\u001b[43m(\u001b[49m\u001b[38;5;28;43mself\u001b[39;49m\u001b[43m,\u001b[49m\u001b[43m \u001b[49m\u001b[43mvirtual\u001b[49m\u001b[38;5;241;43m=\u001b[39;49m\u001b[43mvirtual\u001b[49m\u001b[43m)\u001b[49m\n",
      "File \u001b[0;32m~/anaconda3/envs/adaptvqite-quimb/lib/python3.11/site-packages/quimb/tensor/tensor_core.py:3647\u001b[0m, in \u001b[0;36mTensorNetwork.__init__\u001b[0;34m(self, ts, virtual, check_collisions)\u001b[0m\n\u001b[1;32m   3645\u001b[0m \u001b[38;5;28mself\u001b[39m\u001b[38;5;241m.\u001b[39mtensor_map \u001b[38;5;241m=\u001b[39m \u001b[38;5;28mdict\u001b[39m()\n\u001b[1;32m   3646\u001b[0m \u001b[38;5;28;01mfor\u001b[39;00m tid, t \u001b[38;5;129;01min\u001b[39;00m ts\u001b[38;5;241m.\u001b[39mtensor_map\u001b[38;5;241m.\u001b[39mitems():\n\u001b[0;32m-> 3647\u001b[0m     \u001b[38;5;28mself\u001b[39m\u001b[38;5;241m.\u001b[39mtensor_map[tid] \u001b[38;5;241m=\u001b[39m t \u001b[38;5;28;01mif\u001b[39;00m virtual \u001b[38;5;28;01melse\u001b[39;00m \u001b[43mt\u001b[49m\u001b[38;5;241;43m.\u001b[39;49m\u001b[43mcopy\u001b[49m\u001b[43m(\u001b[49m\u001b[43m)\u001b[49m\n\u001b[1;32m   3648\u001b[0m     \u001b[38;5;28mself\u001b[39m\u001b[38;5;241m.\u001b[39mtensor_map[tid]\u001b[38;5;241m.\u001b[39madd_owner(\u001b[38;5;28mself\u001b[39m, tid)\n\u001b[1;32m   3649\u001b[0m \u001b[38;5;28mself\u001b[39m\u001b[38;5;241m.\u001b[39m_inner_inds \u001b[38;5;241m=\u001b[39m ts\u001b[38;5;241m.\u001b[39m_inner_inds\u001b[38;5;241m.\u001b[39mcopy()\n",
      "File \u001b[0;32m~/anaconda3/envs/adaptvqite-quimb/lib/python3.11/site-packages/quimb/tensor/tensor_core.py:11191\u001b[0m, in \u001b[0;36mPTensor.copy\u001b[0;34m(self)\u001b[0m\n\u001b[1;32m  11188\u001b[0m \u001b[38;5;28;01mdef\u001b[39;00m \u001b[38;5;21mcopy\u001b[39m(\u001b[38;5;28mself\u001b[39m):\n\u001b[1;32m  11189\u001b[0m \u001b[38;5;250m    \u001b[39m\u001b[38;5;124;03m\"\"\"Copy this parametrized tensor.\"\"\"\u001b[39;00m\n\u001b[1;32m  11190\u001b[0m     \u001b[38;5;28;01mreturn\u001b[39;00m PTensor\u001b[38;5;241m.\u001b[39mfrom_parray(\n\u001b[0;32m> 11191\u001b[0m         \u001b[38;5;28;43mself\u001b[39;49m\u001b[38;5;241;43m.\u001b[39;49m\u001b[43m_data\u001b[49m\u001b[38;5;241;43m.\u001b[39;49m\u001b[43mcopy\u001b[49m\u001b[43m(\u001b[49m\u001b[43m)\u001b[49m,\n\u001b[1;32m  11192\u001b[0m         inds\u001b[38;5;241m=\u001b[39m\u001b[38;5;28mself\u001b[39m\u001b[38;5;241m.\u001b[39minds,\n\u001b[1;32m  11193\u001b[0m         tags\u001b[38;5;241m=\u001b[39m\u001b[38;5;28mself\u001b[39m\u001b[38;5;241m.\u001b[39mtags,\n\u001b[1;32m  11194\u001b[0m         left_inds\u001b[38;5;241m=\u001b[39m\u001b[38;5;28mself\u001b[39m\u001b[38;5;241m.\u001b[39mleft_inds,\n\u001b[1;32m  11195\u001b[0m     )\n",
      "File \u001b[0;32m~/anaconda3/envs/adaptvqite-quimb/lib/python3.11/site-packages/quimb/tensor/array_ops.py:536\u001b[0m, in \u001b[0;36mPArray.copy\u001b[0;34m(self)\u001b[0m\n\u001b[1;32m    535\u001b[0m \u001b[38;5;28;01mdef\u001b[39;00m \u001b[38;5;21mcopy\u001b[39m(\u001b[38;5;28mself\u001b[39m):\n\u001b[0;32m--> 536\u001b[0m     new \u001b[38;5;241m=\u001b[39m PArray(\u001b[38;5;28mself\u001b[39m\u001b[38;5;241m.\u001b[39mfn, \u001b[38;5;28mself\u001b[39m\u001b[38;5;241m.\u001b[39mparams, \u001b[38;5;28;43mself\u001b[39;49m\u001b[38;5;241;43m.\u001b[39;49m\u001b[43mshape\u001b[49m)\n\u001b[1;32m    537\u001b[0m     new\u001b[38;5;241m.\u001b[39m_data \u001b[38;5;241m=\u001b[39m \u001b[38;5;28mself\u001b[39m\u001b[38;5;241m.\u001b[39m_data  \u001b[38;5;66;03m# for efficiency\u001b[39;00m\n\u001b[1;32m    538\u001b[0m     \u001b[38;5;28;01mreturn\u001b[39;00m new\n",
      "File \u001b[0;32m~/anaconda3/envs/adaptvqite-quimb/lib/python3.11/site-packages/quimb/tensor/array_ops.py:569\u001b[0m, in \u001b[0;36mPArray.shape\u001b[0;34m(self)\u001b[0m\n\u001b[1;32m    567\u001b[0m _shape_fn_id \u001b[38;5;241m=\u001b[39m \u001b[38;5;28mid\u001b[39m(\u001b[38;5;28mself\u001b[39m\u001b[38;5;241m.\u001b[39mfn)\n\u001b[1;32m    568\u001b[0m \u001b[38;5;28;01mif\u001b[39;00m (\u001b[38;5;28mself\u001b[39m\u001b[38;5;241m.\u001b[39m_shape \u001b[38;5;129;01mis\u001b[39;00m \u001b[38;5;28;01mNone\u001b[39;00m) \u001b[38;5;129;01mor\u001b[39;00m (\u001b[38;5;28mself\u001b[39m\u001b[38;5;241m.\u001b[39m_shape_fn_id \u001b[38;5;241m!=\u001b[39m _shape_fn_id):\n\u001b[0;32m--> 569\u001b[0m     \u001b[38;5;28mself\u001b[39m\u001b[38;5;241m.\u001b[39m_shape \u001b[38;5;241m=\u001b[39m \u001b[38;5;28;43mself\u001b[39;49m\u001b[38;5;241;43m.\u001b[39;49m\u001b[43mdata\u001b[49m\u001b[38;5;241m.\u001b[39mshape\n\u001b[1;32m    570\u001b[0m     \u001b[38;5;28mself\u001b[39m\u001b[38;5;241m.\u001b[39m_shape_fn_id \u001b[38;5;241m=\u001b[39m _shape_fn_id\n\u001b[1;32m    571\u001b[0m \u001b[38;5;28;01mreturn\u001b[39;00m \u001b[38;5;28mself\u001b[39m\u001b[38;5;241m.\u001b[39m_shape\n",
      "File \u001b[0;32m~/anaconda3/envs/adaptvqite-quimb/lib/python3.11/site-packages/quimb/tensor/array_ops.py:561\u001b[0m, in \u001b[0;36mPArray.data\u001b[0;34m(self)\u001b[0m\n\u001b[1;32m    558\u001b[0m \u001b[38;5;129m@property\u001b[39m\n\u001b[1;32m    559\u001b[0m \u001b[38;5;28;01mdef\u001b[39;00m \u001b[38;5;21mdata\u001b[39m(\u001b[38;5;28mself\u001b[39m):\n\u001b[1;32m    560\u001b[0m     \u001b[38;5;28;01mif\u001b[39;00m \u001b[38;5;28mself\u001b[39m\u001b[38;5;241m.\u001b[39m_data \u001b[38;5;129;01mis\u001b[39;00m \u001b[38;5;28;01mNone\u001b[39;00m:\n\u001b[0;32m--> 561\u001b[0m         \u001b[38;5;28mself\u001b[39m\u001b[38;5;241m.\u001b[39m_data \u001b[38;5;241m=\u001b[39m \u001b[38;5;28;43mself\u001b[39;49m\u001b[38;5;241;43m.\u001b[39;49m\u001b[43m_fn\u001b[49m\u001b[43m(\u001b[49m\u001b[38;5;28;43mself\u001b[39;49m\u001b[38;5;241;43m.\u001b[39;49m\u001b[43m_params\u001b[49m\u001b[43m)\u001b[49m\n\u001b[1;32m    562\u001b[0m     \u001b[38;5;28;01mreturn\u001b[39;00m \u001b[38;5;28mself\u001b[39m\u001b[38;5;241m.\u001b[39m_data\n",
      "File \u001b[0;32m~/anaconda3/envs/adaptvqite-quimb/lib/python3.11/site-packages/cytoolz/functoolz.pyx:521\u001b[0m, in \u001b[0;36mcytoolz.functoolz.Compose.__call__\u001b[0;34m()\u001b[0m\n",
      "File \u001b[0;32m~/anaconda3/envs/adaptvqite-quimb/lib/python3.11/site-packages/cytoolz/functoolz.pyx:521\u001b[0m, in \u001b[0;36mcytoolz.functoolz.Compose.__call__\u001b[0;34m()\u001b[0m\n",
      "File \u001b[0;32m~/anaconda3/envs/adaptvqite-quimb/lib/python3.11/site-packages/quimb/tensor/circuit.py:476\u001b[0m, in \u001b[0;36mry_gate_param_gen\u001b[0;34m(params)\u001b[0m\n\u001b[1;32m    473\u001b[0m c \u001b[38;5;241m=\u001b[39m do(\u001b[38;5;124m\"\u001b[39m\u001b[38;5;124mcomplex\u001b[39m\u001b[38;5;124m\"\u001b[39m, do(\u001b[38;5;124m\"\u001b[39m\u001b[38;5;124mcos\u001b[39m\u001b[38;5;124m\"\u001b[39m, phi \u001b[38;5;241m/\u001b[39m \u001b[38;5;241m2\u001b[39m), zero)\n\u001b[1;32m    474\u001b[0m s \u001b[38;5;241m=\u001b[39m do(\u001b[38;5;124m\"\u001b[39m\u001b[38;5;124mcomplex\u001b[39m\u001b[38;5;124m\"\u001b[39m, do(\u001b[38;5;124m\"\u001b[39m\u001b[38;5;124msin\u001b[39m\u001b[38;5;124m\"\u001b[39m, phi \u001b[38;5;241m/\u001b[39m \u001b[38;5;241m2\u001b[39m), zero)\n\u001b[0;32m--> 476\u001b[0m \u001b[38;5;28;01mreturn\u001b[39;00m \u001b[43mrecursive_stack\u001b[49m\u001b[43m(\u001b[49m\u001b[43m(\u001b[49m\u001b[43m(\u001b[49m\u001b[43mc\u001b[49m\u001b[43m,\u001b[49m\u001b[43m \u001b[49m\u001b[38;5;241;43m-\u001b[39;49m\u001b[43ms\u001b[49m\u001b[43m)\u001b[49m\u001b[43m,\u001b[49m\u001b[43m \u001b[49m\u001b[43m(\u001b[49m\u001b[43ms\u001b[49m\u001b[43m,\u001b[49m\u001b[43m \u001b[49m\u001b[43mc\u001b[49m\u001b[43m)\u001b[49m\u001b[43m)\u001b[49m\u001b[43m)\u001b[49m\n",
      "File \u001b[0;32m~/anaconda3/envs/adaptvqite-quimb/lib/python3.11/site-packages/quimb/tensor/circuit.py:55\u001b[0m, in \u001b[0;36mrecursive_stack\u001b[0;34m(x)\u001b[0m\n\u001b[1;32m     53\u001b[0m \u001b[38;5;28;01mif\u001b[39;00m \u001b[38;5;129;01mnot\u001b[39;00m \u001b[38;5;28misinstance\u001b[39m(x, (\u001b[38;5;28mlist\u001b[39m, \u001b[38;5;28mtuple\u001b[39m)):\n\u001b[1;32m     54\u001b[0m     \u001b[38;5;28;01mreturn\u001b[39;00m x\n\u001b[0;32m---> 55\u001b[0m \u001b[38;5;28;01mreturn\u001b[39;00m do(\u001b[38;5;124m\"\u001b[39m\u001b[38;5;124mstack\u001b[39m\u001b[38;5;124m\"\u001b[39m, \u001b[38;5;28mtuple\u001b[39m(\u001b[38;5;28mmap\u001b[39m(recursive_stack, x)))\n",
      "File \u001b[0;32m~/anaconda3/envs/adaptvqite-quimb/lib/python3.11/site-packages/quimb/tensor/circuit.py:55\u001b[0m, in \u001b[0;36mrecursive_stack\u001b[0;34m(x)\u001b[0m\n\u001b[1;32m     53\u001b[0m \u001b[38;5;28;01mif\u001b[39;00m \u001b[38;5;129;01mnot\u001b[39;00m \u001b[38;5;28misinstance\u001b[39m(x, (\u001b[38;5;28mlist\u001b[39m, \u001b[38;5;28mtuple\u001b[39m)):\n\u001b[1;32m     54\u001b[0m     \u001b[38;5;28;01mreturn\u001b[39;00m x\n\u001b[0;32m---> 55\u001b[0m \u001b[38;5;28;01mreturn\u001b[39;00m \u001b[43mdo\u001b[49m\u001b[43m(\u001b[49m\u001b[38;5;124;43m\"\u001b[39;49m\u001b[38;5;124;43mstack\u001b[39;49m\u001b[38;5;124;43m\"\u001b[39;49m\u001b[43m,\u001b[49m\u001b[43m \u001b[49m\u001b[38;5;28;43mtuple\u001b[39;49m\u001b[43m(\u001b[49m\u001b[38;5;28;43mmap\u001b[39;49m\u001b[43m(\u001b[49m\u001b[43mrecursive_stack\u001b[49m\u001b[43m,\u001b[49m\u001b[43m \u001b[49m\u001b[43mx\u001b[49m\u001b[43m)\u001b[49m\u001b[43m)\u001b[49m\u001b[43m)\u001b[49m\n",
      "File \u001b[0;32m~/anaconda3/envs/adaptvqite-quimb/lib/python3.11/site-packages/autoray/autoray.py:81\u001b[0m, in \u001b[0;36mdo\u001b[0;34m(fn, like, *args, **kwargs)\u001b[0m\n\u001b[1;32m     79\u001b[0m backend \u001b[38;5;241m=\u001b[39m _choose_backend(fn, args, kwargs, like\u001b[38;5;241m=\u001b[39mlike)\n\u001b[1;32m     80\u001b[0m func \u001b[38;5;241m=\u001b[39m get_lib_fn(backend, fn)\n\u001b[0;32m---> 81\u001b[0m \u001b[38;5;28;01mreturn\u001b[39;00m \u001b[43mfunc\u001b[49m\u001b[43m(\u001b[49m\u001b[38;5;241;43m*\u001b[39;49m\u001b[43margs\u001b[49m\u001b[43m,\u001b[49m\u001b[43m \u001b[49m\u001b[38;5;241;43m*\u001b[39;49m\u001b[38;5;241;43m*\u001b[39;49m\u001b[43mkwargs\u001b[49m\u001b[43m)\u001b[49m\n",
      "File \u001b[0;32m<__array_function__ internals>:200\u001b[0m, in \u001b[0;36mstack\u001b[0;34m(*args, **kwargs)\u001b[0m\n",
      "File \u001b[0;32m~/.local/lib/python3.11/site-packages/numpy/core/shape_base.py:383\u001b[0m, in \u001b[0;36mstack\u001b[0;34m(arrays, axis, out, dtype, casting)\u001b[0m\n\u001b[1;32m    379\u001b[0m         arrays\u001b[38;5;241m.\u001b[39mappend(out)\n\u001b[1;32m    380\u001b[0m     \u001b[38;5;28;01mreturn\u001b[39;00m arrays\n\u001b[0;32m--> 383\u001b[0m \u001b[38;5;129m@array_function_dispatch\u001b[39m(_stack_dispatcher)\n\u001b[1;32m    384\u001b[0m \u001b[38;5;28;01mdef\u001b[39;00m \u001b[38;5;21mstack\u001b[39m(arrays, axis\u001b[38;5;241m=\u001b[39m\u001b[38;5;241m0\u001b[39m, out\u001b[38;5;241m=\u001b[39m\u001b[38;5;28;01mNone\u001b[39;00m, \u001b[38;5;241m*\u001b[39m, dtype\u001b[38;5;241m=\u001b[39m\u001b[38;5;28;01mNone\u001b[39;00m, casting\u001b[38;5;241m=\u001b[39m\u001b[38;5;124m\"\u001b[39m\u001b[38;5;124msame_kind\u001b[39m\u001b[38;5;124m\"\u001b[39m):\n\u001b[1;32m    385\u001b[0m \u001b[38;5;250m    \u001b[39m\u001b[38;5;124;03m\"\"\"\u001b[39;00m\n\u001b[1;32m    386\u001b[0m \u001b[38;5;124;03m    Join a sequence of arrays along a new axis.\u001b[39;00m\n\u001b[1;32m    387\u001b[0m \n\u001b[0;32m   (...)\u001b[0m\n\u001b[1;32m    452\u001b[0m \n\u001b[1;32m    453\u001b[0m \u001b[38;5;124;03m    \"\"\"\u001b[39;00m\n\u001b[1;32m    454\u001b[0m     \u001b[38;5;28;01mif\u001b[39;00m \u001b[38;5;129;01mnot\u001b[39;00m overrides\u001b[38;5;241m.\u001b[39mARRAY_FUNCTION_ENABLED:\n\u001b[1;32m    455\u001b[0m         \u001b[38;5;66;03m# raise warning if necessary\u001b[39;00m\n",
      "\u001b[0;31mKeyboardInterrupt\u001b[0m: "
     ]
    }
   ],
   "source": [
    "#keyboard interupted before the convergence\n",
    "\n",
    "test_obj.vqite(opt_m='greedy',opt_v='greedy',simp = 'CSR',backend=None)"
   ]
  },
  {
   "cell_type": "code",
   "execution_count": 62,
   "id": "d3beadcc-6fbb-4e88-924a-2fe6049cce28",
   "metadata": {},
   "outputs": [
    {
     "data": {
      "text/plain": [
       "(-12.027965997013792-2.1743225847773415e-17j)"
      ]
     },
     "execution_count": 62,
     "metadata": {},
     "output_type": "execute_result"
    }
   ],
   "source": [
    "test_obj._e"
   ]
  },
  {
   "cell_type": "code",
   "execution_count": 64,
   "id": "213e5730-1aab-4878-8ac6-12b3cabcdc6b",
   "metadata": {},
   "outputs": [
    {
     "data": {
      "text/plain": [
       "[0.038414113699854084,\n",
       " -0.040763566106183424,\n",
       " -0.01544379084281728,\n",
       " 0.03164284974650802,\n",
       " -0.05170276366495491,\n",
       " -0.012670955525406749,\n",
       " -0.041990768801594976,\n",
       " -0.03628308536683053,\n",
       " 0.00424098677985792,\n",
       " 0.012373369252577055,\n",
       " -0.0354104062341731,\n",
       " 0.006513312049466766,\n",
       " -0.015011728843354636,\n",
       " -0.0026730954720214297,\n",
       " -0.03879444623773709,\n",
       " -0.04089445358037718,\n",
       " -0.08434327582350343,\n",
       " -0.022005470046931885,\n",
       " -0.047677154209435975,\n",
       " 0.0008535065327011886,\n",
       " -0.07163920732909558]"
      ]
     },
     "execution_count": 64,
     "metadata": {},
     "output_type": "execute_result"
    }
   ],
   "source": [
    "test_obj.params"
   ]
  },
  {
   "cell_type": "markdown",
   "id": "e68f4fa0-012c-4c01-aec8-0fac40acb813",
   "metadata": {},
   "source": [
    "### Case without simplification and without the reuse of contraction paths"
   ]
  },
  {
   "cell_type": "code",
   "execution_count": 29,
   "id": "c3b1124c-7bd1-4fa3-8a68-25625c96e0ec",
   "metadata": {},
   "outputs": [
    {
     "data": {
      "text/plain": [
       "[-0.01224980318759239,\n",
       " 0.045427677427844926,\n",
       " -0.09637227231083034,\n",
       " -0.07993492547527344,\n",
       " -0.05684616057085639,\n",
       " -0.038030799199842626,\n",
       " 0.04130318127864335,\n",
       " -0.007034759077280545,\n",
       " 0.010757991639141415,\n",
       " 0.004846857647793162,\n",
       " -0.03804974210165984,\n",
       " 0.056176246420879095,\n",
       " 0.08174330839701646,\n",
       " 0.060995829383607314,\n",
       " -0.060980017587003735,\n",
       " -0.08110126516988475,\n",
       " 0.020199338242912465,\n",
       " -0.040928695261419804,\n",
       " 0.09673948466299154,\n",
       " -0.08206015445675768,\n",
       " -0.0604005705365261]"
      ]
     },
     "execution_count": 29,
     "metadata": {},
     "output_type": "execute_result"
    }
   ],
   "source": [
    "#randomize the initial parameters\n",
    "\n",
    "test_obj.params = [random.uniform(-0.1, 0.1) for i in range(len(test_obj._ansatz))]\n",
    "test_obj.params"
   ]
  },
  {
   "cell_type": "code",
   "execution_count": 30,
   "id": "c5e0c4fb-30d0-4753-a3bf-6a27001c6f49",
   "metadata": {
    "collapsed": true,
    "jupyter": {
     "outputs_hidden": true
    }
   },
   "outputs": [
    {
     "name": "stdout",
     "output_type": "stream",
     "text": [
      "iter:  0 , M matrix time:  4.025094270706177 , V vector time:  11.114246845245361 , Energy:  -11.970879879725969\n",
      "iter:  1 , M matrix time:  0.2812159061431885 , V vector time:  7.572968006134033 , Energy:  -11.979929087626658\n",
      "iter:  2 , M matrix time:  0.2737710475921631 , V vector time:  7.674231052398682 , Energy:  -11.987597214507069\n",
      "iter:  3 , M matrix time:  0.2567739486694336 , V vector time:  7.727376937866211 , Energy:  -11.994093419075224\n",
      "iter:  4 , M matrix time:  0.48529720306396484 , V vector time:  8.201535940170288 , Energy:  -11.999595601721811\n",
      "iter:  5 , M matrix time:  0.25864195823669434 , V vector time:  7.567933797836304 , Energy:  -12.004255012001224\n",
      "iter:  6 , M matrix time:  0.28742098808288574 , V vector time:  8.510320901870728 , Energy:  -12.00820016788663\n",
      "iter:  7 , M matrix time:  0.2552609443664551 , V vector time:  6.702510833740234 , Energy:  -12.011540199678592\n",
      "iter:  8 , M matrix time:  0.2660400867462158 , V vector time:  6.688395023345947 , Energy:  -12.014367708858515\n",
      "iter:  9 , M matrix time:  0.3634169101715088 , V vector time:  6.602081060409546 , Energy:  -12.016761218073336\n",
      "iter:  10 , M matrix time:  0.24557209014892578 , V vector time:  6.980024814605713 , Energy:  -12.018787273571515\n",
      "iter:  11 , M matrix time:  0.2616848945617676 , V vector time:  7.0674707889556885 , Energy:  -12.020502247916667\n",
      "iter:  12 , M matrix time:  0.2645587921142578 , V vector time:  7.190639972686768 , Energy:  -12.02195388172361\n",
      "iter:  13 , M matrix time:  0.27826619148254395 , V vector time:  7.412304878234863 , Energy:  -12.023182598143189\n",
      "iter:  14 , M matrix time:  0.3628849983215332 , V vector time:  7.500025987625122 , Energy:  -12.024222620688045\n",
      "iter:  15 , M matrix time:  0.48203420639038086 , V vector time:  8.276018857955933 , Energy:  -12.025102922120558\n",
      "iter:  16 , M matrix time:  0.264786958694458 , V vector time:  6.836507081985474 , Energy:  -12.02584802904487\n",
      "iter:  17 , M matrix time:  0.2526400089263916 , V vector time:  7.0912699699401855 , Energy:  -12.02647870369481\n",
      "iter:  18 , M matrix time:  0.3092470169067383 , V vector time:  8.764050960540771 , Energy:  -12.027012521423885\n",
      "iter:  19 , M matrix time:  0.39461493492126465 , V vector time:  9.325580835342407 , Energy:  -12.027464359719511\n",
      "iter:  20 , M matrix time:  0.2605562210083008 , V vector time:  8.534940719604492 , Energy:  -12.027846812220368\n",
      "iter:  21 , M matrix time:  0.37509822845458984 , V vector time:  10.29764699935913 , Energy:  -12.028170539197752\n",
      "iter:  22 , M matrix time:  0.266326904296875 , V vector time:  7.674232006072998 , Energy:  -12.02844456423365\n",
      "iter:  23 , M matrix time:  0.34714484214782715 , V vector time:  7.638324975967407 , Energy:  -12.028676525352818\n",
      "iter:  24 , M matrix time:  0.32842588424682617 , V vector time:  9.31359314918518 , Energy:  -12.028872887607221\n",
      "iter:  25 , M matrix time:  0.2509129047393799 , V vector time:  7.827970027923584 , Energy:  -12.02903912303941\n",
      "iter:  26 , M matrix time:  0.3971579074859619 , V vector time:  7.375335931777954 , Energy:  -12.02917986304048\n",
      "iter:  27 , M matrix time:  0.2670328617095947 , V vector time:  7.0344250202178955 , Energy:  -12.02929902734505\n",
      "iter:  28 , M matrix time:  0.25458788871765137 , V vector time:  7.1998610496521 , Energy:  -12.029399933251145\n",
      "iter:  29 , M matrix time:  0.26863574981689453 , V vector time:  6.92882513999939 , Energy:  -12.029485388099028\n",
      "iter:  30 , M matrix time:  0.24917101860046387 , V vector time:  7.435810089111328 , Energy:  -12.029557767575398\n",
      "iter:  31 , M matrix time:  0.24852299690246582 , V vector time:  6.863952875137329 , Energy:  -12.029619082014229\n",
      "iter:  32 , M matrix time:  0.3322029113769531 , V vector time:  7.565136194229126 , Energy:  -12.02967103253177\n",
      "iter:  33 , M matrix time:  0.2500617504119873 , V vector time:  7.718379020690918 , Energy:  -12.0297150585519\n",
      "iter:  34 , M matrix time:  0.29598093032836914 , V vector time:  10.98795223236084 , Energy:  -12.029752378039134\n",
      "iter:  35 , M matrix time:  0.2532467842102051 , V vector time:  6.995898246765137 , Energy:  -12.029784021555855\n",
      "iter:  36 , M matrix time:  0.24923968315124512 , V vector time:  7.786764144897461 , Energy:  -12.029810861089265\n",
      "iter:  37 , M matrix time:  0.3454320430755615 , V vector time:  9.543367862701416 , Energy:  -12.029833634449314\n",
      "iter:  38 , M matrix time:  0.33365797996520996 , V vector time:  7.617553949356079 , Energy:  -12.029852965916657\n",
      "iter:  39 , M matrix time:  0.25271081924438477 , V vector time:  10.437212228775024 , Energy:  -12.029869383715743\n",
      "iter:  40 , M matrix time:  0.28016185760498047 , V vector time:  7.102878093719482 , Energy:  -12.029883334800248\n",
      "iter:  41 , M matrix time:  0.26154208183288574 , V vector time:  7.011233806610107 , Energy:  -12.029895197363677\n",
      "iter:  42 , M matrix time:  0.33256006240844727 , V vector time:  7.035827159881592 , Energy:  -12.029905291424706\n",
      "iter:  43 , M matrix time:  0.25451231002807617 , V vector time:  6.966639041900635 , Energy:  -12.029913887783014\n",
      "iter:  44 , M matrix time:  0.2597520351409912 , V vector time:  7.629240036010742 , Energy:  -12.029921215596518\n",
      "iter:  45 , M matrix time:  0.27988696098327637 , V vector time:  6.89503812789917 , Energy:  -12.029927468791865\n",
      "iter:  46 , M matrix time:  0.2669229507446289 , V vector time:  6.934275150299072 , Energy:  -12.029932811487893\n",
      "iter:  47 , M matrix time:  0.3613560199737549 , V vector time:  6.759968042373657 , Energy:  -12.02993738258386\n",
      "iter:  48 , M matrix time:  0.2549922466278076 , V vector time:  6.968200922012329 , Energy:  -12.029941299641225\n",
      "iter:  49 , M matrix time:  0.26682424545288086 , V vector time:  7.090848922729492 , Energy:  -12.029944662167612\n",
      "iter:  50 , M matrix time:  0.25623202323913574 , V vector time:  6.817360162734985 , Energy:  -12.029947554395065\n",
      "iter:  51 , M matrix time:  0.2593059539794922 , V vector time:  7.024914979934692 , Energy:  -12.029950047630559\n",
      "iter:  52 , M matrix time:  0.4328336715698242 , V vector time:  6.890299081802368 , Energy:  -12.02995220224452\n",
      "iter:  53 , M matrix time:  0.2491159439086914 , V vector time:  6.78130578994751 , Energy:  -12.029954069353263\n",
      "iter:  54 , M matrix time:  0.26715898513793945 , V vector time:  6.807615041732788 , Energy:  -12.02995569224229\n"
     ]
    },
    {
     "ename": "KeyboardInterrupt",
     "evalue": "",
     "output_type": "error",
     "traceback": [
      "\u001b[0;31m---------------------------------------------------------------------------\u001b[0m",
      "\u001b[0;31mKeyboardInterrupt\u001b[0m                         Traceback (most recent call last)",
      "Cell \u001b[0;32mIn[30], line 3\u001b[0m\n\u001b[1;32m      1\u001b[0m \u001b[38;5;66;03m#keyboard interupted before the convergence\u001b[39;00m\n\u001b[0;32m----> 3\u001b[0m \u001b[43mtest_obj\u001b[49m\u001b[38;5;241;43m.\u001b[39;49m\u001b[43mvqite\u001b[49m\u001b[43m(\u001b[49m\u001b[43mopt_m\u001b[49m\u001b[38;5;241;43m=\u001b[39;49m\u001b[38;5;124;43m'\u001b[39;49m\u001b[38;5;124;43mgreedy\u001b[39;49m\u001b[38;5;124;43m'\u001b[39;49m\u001b[43m,\u001b[49m\u001b[43mopt_v\u001b[49m\u001b[38;5;241;43m=\u001b[39;49m\u001b[38;5;124;43m'\u001b[39;49m\u001b[38;5;124;43mgreedy\u001b[39;49m\u001b[38;5;124;43m'\u001b[39;49m\u001b[43m,\u001b[49m\u001b[43msimp\u001b[49m\u001b[43m \u001b[49m\u001b[38;5;241;43m=\u001b[39;49m\u001b[43m \u001b[49m\u001b[38;5;124;43m'\u001b[39;49m\u001b[38;5;124;43m'\u001b[39;49m\u001b[43m,\u001b[49m\u001b[43mbackend\u001b[49m\u001b[38;5;241;43m=\u001b[39;49m\u001b[38;5;28;43;01mNone\u001b[39;49;00m\u001b[43m)\u001b[49m\n",
      "File \u001b[0;32m~/avqite-quimb/avqite_quimb.py:323\u001b[0m, in \u001b[0;36mQuimb_vqite.vqite\u001b[0;34m(self, opt_m, opt_v, simp, backend)\u001b[0m\n\u001b[1;32m    316\u001b[0m     \u001b[38;5;28mself\u001b[39m\u001b[38;5;241m.\u001b[39mcompute_m(\n\u001b[1;32m    317\u001b[0m         opt\u001b[38;5;241m=\u001b[39mopt_m,\n\u001b[1;32m    318\u001b[0m         simp\u001b[38;5;241m=\u001b[39msimp,\n\u001b[1;32m    319\u001b[0m         backend \u001b[38;5;241m=\u001b[39m backend,\n\u001b[1;32m    320\u001b[0m         which_nonzero\u001b[38;5;241m=\u001b[39m\u001b[38;5;28mself\u001b[39m\u001b[38;5;241m.\u001b[39mwhich_nonzero\n\u001b[1;32m    321\u001b[0m     )\n\u001b[1;32m    322\u001b[0m t2 \u001b[38;5;241m=\u001b[39m time\u001b[38;5;241m.\u001b[39mtime()\n\u001b[0;32m--> 323\u001b[0m \u001b[38;5;28;43mself\u001b[39;49m\u001b[38;5;241;43m.\u001b[39;49m\u001b[43mcompute_v\u001b[49m\u001b[43m(\u001b[49m\u001b[43mopt\u001b[49m\u001b[38;5;241;43m=\u001b[39;49m\u001b[43mopt_v\u001b[49m\u001b[43m,\u001b[49m\u001b[43msimp\u001b[49m\u001b[38;5;241;43m=\u001b[39;49m\u001b[43msimp\u001b[49m\u001b[43m,\u001b[49m\u001b[43mbackend\u001b[49m\u001b[43m \u001b[49m\u001b[38;5;241;43m=\u001b[39;49m\u001b[43m \u001b[49m\u001b[43mbackend\u001b[49m\u001b[43m)\u001b[49m\n\u001b[1;32m    324\u001b[0m t3 \u001b[38;5;241m=\u001b[39m time\u001b[38;5;241m.\u001b[39mtime()\n\u001b[1;32m    325\u001b[0m dthdt \u001b[38;5;241m=\u001b[39m \u001b[38;5;28mself\u001b[39m\u001b[38;5;241m.\u001b[39mget_dthdt(delta \u001b[38;5;241m=\u001b[39m \u001b[38;5;241m1e-4\u001b[39m, m \u001b[38;5;241m=\u001b[39m \u001b[38;5;28mself\u001b[39m\u001b[38;5;241m.\u001b[39m_m, v\u001b[38;5;241m=\u001b[39m \u001b[38;5;28mself\u001b[39m\u001b[38;5;241m.\u001b[39m_v)\n",
      "File \u001b[0;32m~/avqite-quimb/avqite_quimb.py:280\u001b[0m, in \u001b[0;36mQuimb_vqite.compute_v\u001b[0;34m(self, opt, simp, backend)\u001b[0m\n\u001b[1;32m    271\u001b[0m params2 \u001b[38;5;241m=\u001b[39m \u001b[38;5;28mself\u001b[39m\u001b[38;5;241m.\u001b[39m_params\u001b[38;5;241m.\u001b[39mcopy()\n\u001b[1;32m    272\u001b[0m params2[mu] \u001b[38;5;241m=\u001b[39m params2[mu]\u001b[38;5;241m-\u001b[39mnp\u001b[38;5;241m.\u001b[39mpi\u001b[38;5;241m/\u001b[39m\u001b[38;5;241m2\u001b[39m\n\u001b[1;32m    273\u001b[0m \u001b[38;5;28mself\u001b[39m\u001b[38;5;241m.\u001b[39m_v[mu] \u001b[38;5;241m=\u001b[39m np\u001b[38;5;241m.\u001b[39mreal(\u001b[38;5;241m-\u001b[39m\u001b[38;5;241m1\u001b[39m\u001b[38;5;241m/\u001b[39m\u001b[38;5;241m2\u001b[39m\u001b[38;5;241m*\u001b[39m(\n\u001b[1;32m    274\u001b[0m     \u001b[38;5;28mself\u001b[39m\u001b[38;5;241m.\u001b[39mh_exp_val(\n\u001b[1;32m    275\u001b[0m         params \u001b[38;5;241m=\u001b[39m params1,\n\u001b[1;32m    276\u001b[0m         opt \u001b[38;5;241m=\u001b[39m opt,\n\u001b[1;32m    277\u001b[0m         simp\u001b[38;5;241m=\u001b[39msimp,\n\u001b[1;32m    278\u001b[0m         backend \u001b[38;5;241m=\u001b[39m backend\n\u001b[1;32m    279\u001b[0m     ) \u001b[38;5;241m-\u001b[39m\n\u001b[0;32m--> 280\u001b[0m     \u001b[38;5;28;43mself\u001b[39;49m\u001b[38;5;241;43m.\u001b[39;49m\u001b[43mh_exp_val\u001b[49m\u001b[43m(\u001b[49m\n\u001b[1;32m    281\u001b[0m \u001b[43m        \u001b[49m\u001b[43mparams\u001b[49m\u001b[43m \u001b[49m\u001b[38;5;241;43m=\u001b[39;49m\u001b[43m \u001b[49m\u001b[43mparams2\u001b[49m\u001b[43m,\u001b[49m\n\u001b[1;32m    282\u001b[0m \u001b[43m        \u001b[49m\u001b[43mopt\u001b[49m\u001b[43m \u001b[49m\u001b[38;5;241;43m=\u001b[39;49m\u001b[43m \u001b[49m\u001b[43mopt\u001b[49m\u001b[43m,\u001b[49m\n\u001b[1;32m    283\u001b[0m \u001b[43m        \u001b[49m\u001b[43msimp\u001b[49m\u001b[38;5;241;43m=\u001b[39;49m\u001b[43msimp\u001b[49m\u001b[43m,\u001b[49m\n\u001b[1;32m    284\u001b[0m \u001b[43m        \u001b[49m\u001b[43mbackend\u001b[49m\u001b[43m \u001b[49m\u001b[38;5;241;43m=\u001b[39;49m\u001b[43m \u001b[49m\u001b[43mbackend\u001b[49m\u001b[43m)\u001b[49m\n\u001b[1;32m    285\u001b[0m ) \u001b[38;5;241m/\u001b[39m \u001b[38;5;241m2\u001b[39m )\n",
      "File \u001b[0;32m~/avqite-quimb/avqite_quimb.py:391\u001b[0m, in \u001b[0;36mQuimb_vqite.h_exp_val\u001b[0;34m(self, params, opt, simp, backend)\u001b[0m\n\u001b[1;32m    389\u001b[0m         h_exp_vals\u001b[38;5;241m.\u001b[39mappend(exp_val)\n\u001b[1;32m    390\u001b[0m     \u001b[38;5;28;01melse\u001b[39;00m:\n\u001b[0;32m--> 391\u001b[0m         h_exp_vals\u001b[38;5;241m.\u001b[39mappend( \u001b[43mp_str_exp_eval\u001b[49m\u001b[43m(\u001b[49m\n\u001b[1;32m    392\u001b[0m \u001b[43m            \u001b[49m\u001b[43mqc\u001b[49m\u001b[38;5;241;43m=\u001b[39;49m\u001b[43mqc\u001b[49m\u001b[43m,\u001b[49m\n\u001b[1;32m    393\u001b[0m \u001b[43m            \u001b[49m\u001b[43mpauli_str\u001b[49m\u001b[38;5;241;43m=\u001b[39;49m\u001b[43mpauli_str\u001b[49m\u001b[43m,\u001b[49m\n\u001b[1;32m    394\u001b[0m \u001b[43m            \u001b[49m\u001b[43mopt\u001b[49m\u001b[43m \u001b[49m\u001b[38;5;241;43m=\u001b[39;49m\u001b[43m \u001b[49m\u001b[43mopt\u001b[49m\u001b[43m,\u001b[49m\n\u001b[1;32m    395\u001b[0m \u001b[43m            \u001b[49m\u001b[43msimp\u001b[49m\u001b[38;5;241;43m=\u001b[39;49m\u001b[43msimp\u001b[49m\u001b[43m,\u001b[49m\n\u001b[1;32m    396\u001b[0m \u001b[43m            \u001b[49m\u001b[43mbackend\u001b[49m\u001b[43m \u001b[49m\u001b[38;5;241;43m=\u001b[39;49m\u001b[43m \u001b[49m\u001b[43mbackend\u001b[49m\n\u001b[1;32m    397\u001b[0m \u001b[43m        \u001b[49m\u001b[43m)\u001b[49m )\n\u001b[1;32m    398\u001b[0m exp_value \u001b[38;5;241m=\u001b[39m \u001b[38;5;28msum\u001b[39m([h_exp_vals[i]\u001b[38;5;241m*\u001b[39m\u001b[38;5;28mself\u001b[39m\u001b[38;5;241m.\u001b[39m_H\u001b[38;5;241m.\u001b[39mcoefs[i]\n\u001b[1;32m    399\u001b[0m                             \u001b[38;5;28;01mfor\u001b[39;00m i \u001b[38;5;129;01min\u001b[39;00m \u001b[38;5;28mrange\u001b[39m(\u001b[38;5;28mlen\u001b[39m(\u001b[38;5;28mself\u001b[39m\u001b[38;5;241m.\u001b[39m_H\u001b[38;5;241m.\u001b[39mcoefs))])\n\u001b[1;32m    401\u001b[0m \u001b[38;5;28;01mreturn\u001b[39;00m exp_value\n",
      "File \u001b[0;32m~/avqite-quimb/avqite_quimb.py:777\u001b[0m, in \u001b[0;36mp_str_exp_eval\u001b[0;34m(qc, pauli_str, opt, simp, backend)\u001b[0m\n\u001b[1;32m    775\u001b[0m \u001b[38;5;28;01mfor\u001b[39;00m i \u001b[38;5;129;01min\u001b[39;00m \u001b[38;5;28mrange\u001b[39m(\u001b[38;5;241m1\u001b[39m,\u001b[38;5;28mlen\u001b[39m(where)):\n\u001b[1;32m    776\u001b[0m     operator \u001b[38;5;241m=\u001b[39m operator \u001b[38;5;241m&\u001b[39m qu\u001b[38;5;241m.\u001b[39mpauli(paulis[i])\n\u001b[0;32m--> 777\u001b[0m exp_val \u001b[38;5;241m=\u001b[39m \u001b[43mqc\u001b[49m\u001b[38;5;241;43m.\u001b[39;49m\u001b[43mlocal_expectation\u001b[49m\u001b[43m(\u001b[49m\n\u001b[1;32m    778\u001b[0m \u001b[43m    \u001b[49m\u001b[43moperator\u001b[49m\u001b[43m,\u001b[49m\n\u001b[1;32m    779\u001b[0m \u001b[43m    \u001b[49m\u001b[43mwhere\u001b[49m\u001b[43m,\u001b[49m\n\u001b[1;32m    780\u001b[0m \u001b[43m    \u001b[49m\u001b[43moptimize\u001b[49m\u001b[38;5;241;43m=\u001b[39;49m\u001b[43mopt\u001b[49m\u001b[43m,\u001b[49m\n\u001b[1;32m    781\u001b[0m \u001b[43m    \u001b[49m\u001b[43msimplify_sequence\u001b[49m\u001b[38;5;241;43m=\u001b[39;49m\u001b[43msimp\u001b[49m\u001b[43m,\u001b[49m\n\u001b[1;32m    782\u001b[0m \u001b[43m    \u001b[49m\u001b[43mbackend\u001b[49m\u001b[38;5;241;43m=\u001b[39;49m\u001b[43mbackend\u001b[49m\n\u001b[1;32m    783\u001b[0m \u001b[43m\u001b[49m\u001b[43m)\u001b[49m\n\u001b[1;32m    784\u001b[0m \u001b[38;5;28;01mreturn\u001b[39;00m exp_val\n",
      "File \u001b[0;32m~/anaconda3/envs/adaptvqite-quimb/lib/python3.11/site-packages/quimb/tensor/circuit.py:2901\u001b[0m, in \u001b[0;36mCircuit.local_expectation\u001b[0;34m(self, G, where, optimize, simplify_sequence, simplify_atol, simplify_equalize_norms, backend, dtype, rehearse)\u001b[0m\n\u001b[1;32m   2898\u001b[0m rhoG \u001b[38;5;241m=\u001b[39m rho \u001b[38;5;241m|\u001b[39m TG\n\u001b[1;32m   2900\u001b[0m rhoG\u001b[38;5;241m.\u001b[39mfull_simplify_(output_inds\u001b[38;5;241m=\u001b[39moutput_inds, \u001b[38;5;241m*\u001b[39m\u001b[38;5;241m*\u001b[39mfs_opts)\n\u001b[0;32m-> 2901\u001b[0m \u001b[43mrhoG\u001b[49m\u001b[38;5;241;43m.\u001b[39;49m\u001b[43mastype_\u001b[49m\u001b[43m(\u001b[49m\u001b[43mdtype\u001b[49m\u001b[43m)\u001b[49m\n\u001b[1;32m   2903\u001b[0m \u001b[38;5;28;01mif\u001b[39;00m rehearse \u001b[38;5;241m==\u001b[39m \u001b[38;5;124m\"\u001b[39m\u001b[38;5;124mtn\u001b[39m\u001b[38;5;124m\"\u001b[39m:\n\u001b[1;32m   2904\u001b[0m     \u001b[38;5;28;01mreturn\u001b[39;00m rhoG\n",
      "File \u001b[0;32m~/anaconda3/envs/adaptvqite-quimb/lib/python3.11/site-packages/quimb/tensor/tensor_core.py:10795\u001b[0m, in \u001b[0;36mTensorNetwork.astype\u001b[0;34m(self, dtype, inplace)\u001b[0m\n\u001b[1;32m  10793\u001b[0m TN \u001b[38;5;241m=\u001b[39m \u001b[38;5;28mself\u001b[39m \u001b[38;5;28;01mif\u001b[39;00m inplace \u001b[38;5;28;01melse\u001b[39;00m \u001b[38;5;28mself\u001b[39m\u001b[38;5;241m.\u001b[39mcopy()\n\u001b[1;32m  10794\u001b[0m \u001b[38;5;28;01mfor\u001b[39;00m t \u001b[38;5;129;01min\u001b[39;00m TN:\n\u001b[0;32m> 10795\u001b[0m     \u001b[43mt\u001b[49m\u001b[38;5;241;43m.\u001b[39;49m\u001b[43mastype\u001b[49m\u001b[43m(\u001b[49m\u001b[43mdtype\u001b[49m\u001b[43m,\u001b[49m\u001b[43m \u001b[49m\u001b[43minplace\u001b[49m\u001b[38;5;241;43m=\u001b[39;49m\u001b[38;5;28;43;01mTrue\u001b[39;49;00m\u001b[43m)\u001b[49m\n\u001b[1;32m  10796\u001b[0m \u001b[38;5;28;01mreturn\u001b[39;00m TN\n",
      "File \u001b[0;32m~/anaconda3/envs/adaptvqite-quimb/lib/python3.11/site-packages/quimb/tensor/tensor_core.py:1905\u001b[0m, in \u001b[0;36mTensor.astype\u001b[0;34m(self, dtype, inplace)\u001b[0m\n\u001b[1;32m   1903\u001b[0m T \u001b[38;5;241m=\u001b[39m \u001b[38;5;28mself\u001b[39m \u001b[38;5;28;01mif\u001b[39;00m inplace \u001b[38;5;28;01melse\u001b[39;00m \u001b[38;5;28mself\u001b[39m\u001b[38;5;241m.\u001b[39mcopy()\n\u001b[1;32m   1904\u001b[0m \u001b[38;5;28;01mif\u001b[39;00m T\u001b[38;5;241m.\u001b[39mdtype \u001b[38;5;241m!=\u001b[39m dtype:\n\u001b[0;32m-> 1905\u001b[0m     \u001b[43mT\u001b[49m\u001b[38;5;241;43m.\u001b[39;49m\u001b[43mmodify\u001b[49m\u001b[43m(\u001b[49m\u001b[43mapply\u001b[49m\u001b[38;5;241;43m=\u001b[39;49m\u001b[38;5;28;43;01mlambda\u001b[39;49;00m\u001b[43m \u001b[49m\u001b[43mdata\u001b[49m\u001b[43m:\u001b[49m\u001b[43m \u001b[49m\u001b[43mastype\u001b[49m\u001b[43m(\u001b[49m\u001b[43mdata\u001b[49m\u001b[43m,\u001b[49m\u001b[43m \u001b[49m\u001b[43mdtype\u001b[49m\u001b[43m)\u001b[49m\u001b[43m)\u001b[49m\n\u001b[1;32m   1906\u001b[0m \u001b[38;5;28;01mreturn\u001b[39;00m T\n",
      "File \u001b[0;32m~/anaconda3/envs/adaptvqite-quimb/lib/python3.11/site-packages/quimb/tensor/tensor_core.py:1569\u001b[0m, in \u001b[0;36mTensor.modify\u001b[0;34m(self, **kwargs)\u001b[0m\n\u001b[1;32m   1566\u001b[0m \u001b[38;5;28;01mif\u001b[39;00m kwargs:\n\u001b[1;32m   1567\u001b[0m     \u001b[38;5;28;01mraise\u001b[39;00m \u001b[38;5;167;01mValueError\u001b[39;00m(\u001b[38;5;124mf\u001b[39m\u001b[38;5;124m\"\u001b[39m\u001b[38;5;124mOption(s) \u001b[39m\u001b[38;5;132;01m{\u001b[39;00mkwargs\u001b[38;5;132;01m}\u001b[39;00m\u001b[38;5;124m not valid.\u001b[39m\u001b[38;5;124m\"\u001b[39m)\n\u001b[0;32m-> 1569\u001b[0m \u001b[38;5;28;01mif\u001b[39;00m \u001b[38;5;28mlen\u001b[39m(\u001b[38;5;28mself\u001b[39m\u001b[38;5;241m.\u001b[39minds) \u001b[38;5;241m!=\u001b[39m ndim(\u001b[38;5;28;43mself\u001b[39;49m\u001b[38;5;241;43m.\u001b[39;49m\u001b[43mdata\u001b[49m):\n\u001b[1;32m   1570\u001b[0m     \u001b[38;5;28;01mraise\u001b[39;00m \u001b[38;5;167;01mValueError\u001b[39;00m(\n\u001b[1;32m   1571\u001b[0m         \u001b[38;5;124m\"\u001b[39m\u001b[38;5;124mMismatch between number of data dimensions and \u001b[39m\u001b[38;5;124m\"\u001b[39m\n\u001b[1;32m   1572\u001b[0m         \u001b[38;5;124m\"\u001b[39m\u001b[38;5;124mnumber of indices supplied.\u001b[39m\u001b[38;5;124m\"\u001b[39m\n\u001b[1;32m   1573\u001b[0m     )\n\u001b[1;32m   1575\u001b[0m \u001b[38;5;28;01mif\u001b[39;00m \u001b[38;5;28mself\u001b[39m\u001b[38;5;241m.\u001b[39mleft_inds \u001b[38;5;129;01mand\u001b[39;00m \u001b[38;5;28many\u001b[39m(i \u001b[38;5;129;01mnot\u001b[39;00m \u001b[38;5;129;01min\u001b[39;00m \u001b[38;5;28mself\u001b[39m\u001b[38;5;241m.\u001b[39minds \u001b[38;5;28;01mfor\u001b[39;00m i \u001b[38;5;129;01min\u001b[39;00m \u001b[38;5;28mself\u001b[39m\u001b[38;5;241m.\u001b[39mleft_inds):\n",
      "File \u001b[0;32m~/anaconda3/envs/adaptvqite-quimb/lib/python3.11/site-packages/quimb/tensor/tensor_core.py:11210\u001b[0m, in \u001b[0;36mPTensor.data\u001b[0;34m(self)\u001b[0m\n\u001b[1;32m  11208\u001b[0m \u001b[38;5;129m@property\u001b[39m\n\u001b[1;32m  11209\u001b[0m \u001b[38;5;28;01mdef\u001b[39;00m \u001b[38;5;21mdata\u001b[39m(\u001b[38;5;28mself\u001b[39m):\n\u001b[0;32m> 11210\u001b[0m     \u001b[38;5;28;01mreturn\u001b[39;00m \u001b[38;5;28;43mself\u001b[39;49m\u001b[38;5;241;43m.\u001b[39;49m\u001b[43m_data\u001b[49m\u001b[38;5;241;43m.\u001b[39;49m\u001b[43mdata\u001b[49m\n",
      "File \u001b[0;32m~/anaconda3/envs/adaptvqite-quimb/lib/python3.11/site-packages/quimb/tensor/array_ops.py:561\u001b[0m, in \u001b[0;36mPArray.data\u001b[0;34m(self)\u001b[0m\n\u001b[1;32m    558\u001b[0m \u001b[38;5;129m@property\u001b[39m\n\u001b[1;32m    559\u001b[0m \u001b[38;5;28;01mdef\u001b[39;00m \u001b[38;5;21mdata\u001b[39m(\u001b[38;5;28mself\u001b[39m):\n\u001b[1;32m    560\u001b[0m     \u001b[38;5;28;01mif\u001b[39;00m \u001b[38;5;28mself\u001b[39m\u001b[38;5;241m.\u001b[39m_data \u001b[38;5;129;01mis\u001b[39;00m \u001b[38;5;28;01mNone\u001b[39;00m:\n\u001b[0;32m--> 561\u001b[0m         \u001b[38;5;28mself\u001b[39m\u001b[38;5;241m.\u001b[39m_data \u001b[38;5;241m=\u001b[39m \u001b[38;5;28;43mself\u001b[39;49m\u001b[38;5;241;43m.\u001b[39;49m\u001b[43m_fn\u001b[49m\u001b[43m(\u001b[49m\u001b[38;5;28;43mself\u001b[39;49m\u001b[38;5;241;43m.\u001b[39;49m\u001b[43m_params\u001b[49m\u001b[43m)\u001b[49m\n\u001b[1;32m    562\u001b[0m     \u001b[38;5;28;01mreturn\u001b[39;00m \u001b[38;5;28mself\u001b[39m\u001b[38;5;241m.\u001b[39m_data\n",
      "File \u001b[0;32m~/anaconda3/envs/adaptvqite-quimb/lib/python3.11/site-packages/cytoolz/functoolz.pyx:521\u001b[0m, in \u001b[0;36mcytoolz.functoolz.Compose.__call__\u001b[0;34m()\u001b[0m\n",
      "File \u001b[0;32m~/anaconda3/envs/adaptvqite-quimb/lib/python3.11/site-packages/cytoolz/functoolz.pyx:521\u001b[0m, in \u001b[0;36mcytoolz.functoolz.Compose.__call__\u001b[0;34m()\u001b[0m\n",
      "File \u001b[0;32m~/anaconda3/envs/adaptvqite-quimb/lib/python3.11/site-packages/cytoolz/functoolz.pyx:521\u001b[0m, in \u001b[0;36mcytoolz.functoolz.Compose.__call__\u001b[0;34m()\u001b[0m\n",
      "File \u001b[0;32m~/anaconda3/envs/adaptvqite-quimb/lib/python3.11/site-packages/quimb/tensor/circuit.py:902\u001b[0m, in \u001b[0;36mrzz_param_gen\u001b[0;34m(params)\u001b[0m\n\u001b[1;32m    895\u001b[0m zero \u001b[38;5;241m=\u001b[39m do(\u001b[38;5;124m\"\u001b[39m\u001b[38;5;124mcomplex\u001b[39m\u001b[38;5;124m\"\u001b[39m, zero, zero)\n\u001b[1;32m    897\u001b[0m data \u001b[38;5;241m=\u001b[39m (\n\u001b[1;32m    898\u001b[0m     (((c00, zero), (zero, zero)), ((zero, c01), (zero, zero))),\n\u001b[1;32m    899\u001b[0m     (((zero, zero), (c10, zero)), ((zero, zero), (zero, c11))),\n\u001b[1;32m    900\u001b[0m )\n\u001b[0;32m--> 902\u001b[0m \u001b[38;5;28;01mreturn\u001b[39;00m \u001b[43mrecursive_stack\u001b[49m\u001b[43m(\u001b[49m\u001b[43mdata\u001b[49m\u001b[43m)\u001b[49m\n",
      "File \u001b[0;32m~/anaconda3/envs/adaptvqite-quimb/lib/python3.11/site-packages/quimb/tensor/circuit.py:55\u001b[0m, in \u001b[0;36mrecursive_stack\u001b[0;34m(x)\u001b[0m\n\u001b[1;32m     53\u001b[0m \u001b[38;5;28;01mif\u001b[39;00m \u001b[38;5;129;01mnot\u001b[39;00m \u001b[38;5;28misinstance\u001b[39m(x, (\u001b[38;5;28mlist\u001b[39m, \u001b[38;5;28mtuple\u001b[39m)):\n\u001b[1;32m     54\u001b[0m     \u001b[38;5;28;01mreturn\u001b[39;00m x\n\u001b[0;32m---> 55\u001b[0m \u001b[38;5;28;01mreturn\u001b[39;00m do(\u001b[38;5;124m\"\u001b[39m\u001b[38;5;124mstack\u001b[39m\u001b[38;5;124m\"\u001b[39m, \u001b[38;5;28mtuple\u001b[39m(\u001b[38;5;28mmap\u001b[39m(recursive_stack, x)))\n",
      "File \u001b[0;32m~/anaconda3/envs/adaptvqite-quimb/lib/python3.11/site-packages/quimb/tensor/circuit.py:55\u001b[0m, in \u001b[0;36mrecursive_stack\u001b[0;34m(x)\u001b[0m\n\u001b[1;32m     53\u001b[0m \u001b[38;5;28;01mif\u001b[39;00m \u001b[38;5;129;01mnot\u001b[39;00m \u001b[38;5;28misinstance\u001b[39m(x, (\u001b[38;5;28mlist\u001b[39m, \u001b[38;5;28mtuple\u001b[39m)):\n\u001b[1;32m     54\u001b[0m     \u001b[38;5;28;01mreturn\u001b[39;00m x\n\u001b[0;32m---> 55\u001b[0m \u001b[38;5;28;01mreturn\u001b[39;00m do(\u001b[38;5;124m\"\u001b[39m\u001b[38;5;124mstack\u001b[39m\u001b[38;5;124m\"\u001b[39m, \u001b[38;5;28mtuple\u001b[39m(\u001b[38;5;28mmap\u001b[39m(recursive_stack, x)))\n",
      "    \u001b[0;31m[... skipping similar frames: recursive_stack at line 55 (1 times)]\u001b[0m\n",
      "File \u001b[0;32m~/anaconda3/envs/adaptvqite-quimb/lib/python3.11/site-packages/quimb/tensor/circuit.py:55\u001b[0m, in \u001b[0;36mrecursive_stack\u001b[0;34m(x)\u001b[0m\n\u001b[1;32m     53\u001b[0m \u001b[38;5;28;01mif\u001b[39;00m \u001b[38;5;129;01mnot\u001b[39;00m \u001b[38;5;28misinstance\u001b[39m(x, (\u001b[38;5;28mlist\u001b[39m, \u001b[38;5;28mtuple\u001b[39m)):\n\u001b[1;32m     54\u001b[0m     \u001b[38;5;28;01mreturn\u001b[39;00m x\n\u001b[0;32m---> 55\u001b[0m \u001b[38;5;28;01mreturn\u001b[39;00m \u001b[43mdo\u001b[49m\u001b[43m(\u001b[49m\u001b[38;5;124;43m\"\u001b[39;49m\u001b[38;5;124;43mstack\u001b[39;49m\u001b[38;5;124;43m\"\u001b[39;49m\u001b[43m,\u001b[49m\u001b[43m \u001b[49m\u001b[38;5;28;43mtuple\u001b[39;49m\u001b[43m(\u001b[49m\u001b[38;5;28;43mmap\u001b[39;49m\u001b[43m(\u001b[49m\u001b[43mrecursive_stack\u001b[49m\u001b[43m,\u001b[49m\u001b[43m \u001b[49m\u001b[43mx\u001b[49m\u001b[43m)\u001b[49m\u001b[43m)\u001b[49m\u001b[43m)\u001b[49m\n",
      "File \u001b[0;32m~/anaconda3/envs/adaptvqite-quimb/lib/python3.11/site-packages/autoray/autoray.py:81\u001b[0m, in \u001b[0;36mdo\u001b[0;34m(fn, like, *args, **kwargs)\u001b[0m\n\u001b[1;32m     79\u001b[0m backend \u001b[38;5;241m=\u001b[39m _choose_backend(fn, args, kwargs, like\u001b[38;5;241m=\u001b[39mlike)\n\u001b[1;32m     80\u001b[0m func \u001b[38;5;241m=\u001b[39m get_lib_fn(backend, fn)\n\u001b[0;32m---> 81\u001b[0m \u001b[38;5;28;01mreturn\u001b[39;00m \u001b[43mfunc\u001b[49m\u001b[43m(\u001b[49m\u001b[38;5;241;43m*\u001b[39;49m\u001b[43margs\u001b[49m\u001b[43m,\u001b[49m\u001b[43m \u001b[49m\u001b[38;5;241;43m*\u001b[39;49m\u001b[38;5;241;43m*\u001b[39;49m\u001b[43mkwargs\u001b[49m\u001b[43m)\u001b[49m\n",
      "File \u001b[0;32m<__array_function__ internals>:200\u001b[0m, in \u001b[0;36mstack\u001b[0;34m(*args, **kwargs)\u001b[0m\n",
      "File \u001b[0;32m~/.local/lib/python3.11/site-packages/numpy/core/shape_base.py:471\u001b[0m, in \u001b[0;36mstack\u001b[0;34m(arrays, axis, out, dtype, casting)\u001b[0m\n\u001b[1;32m    469\u001b[0m sl \u001b[38;5;241m=\u001b[39m (\u001b[38;5;28mslice\u001b[39m(\u001b[38;5;28;01mNone\u001b[39;00m),) \u001b[38;5;241m*\u001b[39m axis \u001b[38;5;241m+\u001b[39m (_nx\u001b[38;5;241m.\u001b[39mnewaxis,)\n\u001b[1;32m    470\u001b[0m expanded_arrays \u001b[38;5;241m=\u001b[39m [arr[sl] \u001b[38;5;28;01mfor\u001b[39;00m arr \u001b[38;5;129;01min\u001b[39;00m arrays]\n\u001b[0;32m--> 471\u001b[0m \u001b[38;5;28;01mreturn\u001b[39;00m \u001b[43m_nx\u001b[49m\u001b[38;5;241;43m.\u001b[39;49m\u001b[43mconcatenate\u001b[49m\u001b[43m(\u001b[49m\u001b[43mexpanded_arrays\u001b[49m\u001b[43m,\u001b[49m\u001b[43m \u001b[49m\u001b[43maxis\u001b[49m\u001b[38;5;241;43m=\u001b[39;49m\u001b[43maxis\u001b[49m\u001b[43m,\u001b[49m\u001b[43m \u001b[49m\u001b[43mout\u001b[49m\u001b[38;5;241;43m=\u001b[39;49m\u001b[43mout\u001b[49m\u001b[43m,\u001b[49m\n\u001b[1;32m    472\u001b[0m \u001b[43m                       \u001b[49m\u001b[43mdtype\u001b[49m\u001b[38;5;241;43m=\u001b[39;49m\u001b[43mdtype\u001b[49m\u001b[43m,\u001b[49m\u001b[43m \u001b[49m\u001b[43mcasting\u001b[49m\u001b[38;5;241;43m=\u001b[39;49m\u001b[43mcasting\u001b[49m\u001b[43m)\u001b[49m\n",
      "File \u001b[0;32m<__array_function__ internals>:180\u001b[0m, in \u001b[0;36mconcatenate\u001b[0;34m(*args, **kwargs)\u001b[0m\n",
      "File \u001b[0;32m~/.local/lib/python3.11/site-packages/numpy/core/multiarray.py:152\u001b[0m, in \u001b[0;36mconcatenate\u001b[0;34m(arrays, axis, out, dtype, casting)\u001b[0m\n\u001b[1;32m     86\u001b[0m \u001b[38;5;250m    \u001b[39m\u001b[38;5;124;03m\"\"\"\u001b[39;00m\n\u001b[1;32m     87\u001b[0m \u001b[38;5;124;03m    empty_like(prototype, dtype=None, order='K', subok=True, shape=None)\u001b[39;00m\n\u001b[1;32m     88\u001b[0m \n\u001b[0;32m   (...)\u001b[0m\n\u001b[1;32m    147\u001b[0m \n\u001b[1;32m    148\u001b[0m \u001b[38;5;124;03m    \"\"\"\u001b[39;00m\n\u001b[1;32m    149\u001b[0m     \u001b[38;5;28;01mreturn\u001b[39;00m (prototype,)\n\u001b[0;32m--> 152\u001b[0m \u001b[38;5;129m@array_function_from_c_func_and_dispatcher\u001b[39m(_multiarray_umath\u001b[38;5;241m.\u001b[39mconcatenate)\n\u001b[1;32m    153\u001b[0m \u001b[38;5;28;01mdef\u001b[39;00m \u001b[38;5;21mconcatenate\u001b[39m(arrays, axis\u001b[38;5;241m=\u001b[39m\u001b[38;5;28;01mNone\u001b[39;00m, out\u001b[38;5;241m=\u001b[39m\u001b[38;5;28;01mNone\u001b[39;00m, \u001b[38;5;241m*\u001b[39m, dtype\u001b[38;5;241m=\u001b[39m\u001b[38;5;28;01mNone\u001b[39;00m, casting\u001b[38;5;241m=\u001b[39m\u001b[38;5;28;01mNone\u001b[39;00m):\n\u001b[1;32m    154\u001b[0m \u001b[38;5;250m    \u001b[39m\u001b[38;5;124;03m\"\"\"\u001b[39;00m\n\u001b[1;32m    155\u001b[0m \u001b[38;5;124;03m    concatenate((a1, a2, ...), axis=0, out=None, dtype=None, casting=\"same_kind\")\u001b[39;00m\n\u001b[1;32m    156\u001b[0m \n\u001b[0;32m   (...)\u001b[0m\n\u001b[1;32m    244\u001b[0m \n\u001b[1;32m    245\u001b[0m \u001b[38;5;124;03m    \"\"\"\u001b[39;00m\n\u001b[1;32m    246\u001b[0m     \u001b[38;5;28;01mif\u001b[39;00m out \u001b[38;5;129;01mis\u001b[39;00m \u001b[38;5;129;01mnot\u001b[39;00m \u001b[38;5;28;01mNone\u001b[39;00m:\n\u001b[1;32m    247\u001b[0m         \u001b[38;5;66;03m# optimize for the typical case where only arrays is provided\u001b[39;00m\n",
      "\u001b[0;31mKeyboardInterrupt\u001b[0m: "
     ]
    }
   ],
   "source": [
    "#keyboard interupted before the convergence\n",
    "\n",
    "test_obj.vqite(opt_m='greedy',opt_v='greedy',simp = '',backend=None)"
   ]
  },
  {
   "cell_type": "code",
   "execution_count": 31,
   "id": "cbc7651d-bf76-4ab5-9c2f-2d9ecccbff73",
   "metadata": {},
   "outputs": [
    {
     "data": {
      "text/plain": [
       "-12.02995569224229"
      ]
     },
     "execution_count": 31,
     "metadata": {},
     "output_type": "execute_result"
    }
   ],
   "source": [
    "test_obj._e"
   ]
  },
  {
   "cell_type": "code",
   "execution_count": 32,
   "id": "d66eec3d-0c7a-430b-b7e8-f65da09fdf41",
   "metadata": {},
   "outputs": [
    {
     "data": {
      "text/plain": [
       "[-0.051471829417030705,\n",
       " 0.008157055068986006,\n",
       " -0.0495288528505856,\n",
       " -0.0351949852112204,\n",
       " -0.049907607862966115,\n",
       " -0.04774784494866127,\n",
       " -0.04766869862661765,\n",
       " -0.04947210087147564,\n",
       " -0.01846077330009564,\n",
       " -0.029133018711819145,\n",
       " -0.04989316032620704,\n",
       " 0.0004821966508280904,\n",
       " -0.001305610681893454,\n",
       " -0.000528537580595995,\n",
       " -0.04994710582833047,\n",
       " -0.03167863984784603,\n",
       " 0.0020734209584274627,\n",
       " -0.0013749408389596154,\n",
       " -0.01937186388761233,\n",
       " -0.057960610201029834,\n",
       " -0.015660630272113615]"
      ]
     },
     "execution_count": 32,
     "metadata": {},
     "output_type": "execute_result"
    }
   ],
   "source": [
    "test_obj.params"
   ]
  },
  {
   "cell_type": "markdown",
   "id": "457f80cc-31fa-40f2-85af-0e9d32ba2d03",
   "metadata": {},
   "source": [
    "### Case without simplification and with the reuse of contraction paths"
   ]
  },
  {
   "cell_type": "code",
   "execution_count": 40,
   "id": "4fecb46b-c806-4721-a86d-29e25f35a334",
   "metadata": {},
   "outputs": [
    {
     "data": {
      "text/plain": [
       "[-0.019277598458635192,\n",
       " 0.07689124818738238,\n",
       " 0.005955650382946404,\n",
       " 0.061816034991148405,\n",
       " -0.0202227202407044,\n",
       " 0.062389300755609445,\n",
       " -0.0717377414571176,\n",
       " -0.013282200478595824,\n",
       " 0.035650970055066955,\n",
       " -0.04917888471886065,\n",
       " -0.06318671743849416,\n",
       " -0.03885782603150052,\n",
       " -0.04991468165514186,\n",
       " -0.05407667342194993,\n",
       " -0.09065050284629739,\n",
       " 0.04540089573141656,\n",
       " 0.025386260735921706,\n",
       " -0.015010579890457815,\n",
       " 0.023915435557685938,\n",
       " 0.0858878822492434,\n",
       " 0.019553508694456156]"
      ]
     },
     "execution_count": 40,
     "metadata": {},
     "output_type": "execute_result"
    }
   ],
   "source": [
    "#randomize the initial parameters\n",
    "\n",
    "test_obj.params = [random.uniform(-0.1, 0.1) for i in range(len(test_obj._ansatz))]\n",
    "test_obj.params"
   ]
  },
  {
   "cell_type": "code",
   "execution_count": 41,
   "id": "6a2f3c9a-75af-4fa6-99ea-6094ebe5e2e4",
   "metadata": {
    "collapsed": true,
    "jupyter": {
     "outputs_hidden": true
    }
   },
   "outputs": [
    {
     "name": "stdout",
     "output_type": "stream",
     "text": [
      "iter:  0 , M matrix time:  3.0265262126922607 , V vector time:  5.519259929656982 , Energy:  -11.953799534174168\n",
      "iter:  1 , M matrix time:  0.2781209945678711 , V vector time:  5.476759910583496 , Energy:  -11.965420267806374\n",
      "iter:  2 , M matrix time:  0.2868022918701172 , V vector time:  5.70359992980957 , Energy:  -11.975279261828305\n",
      "iter:  3 , M matrix time:  0.2849879264831543 , V vector time:  5.612170934677124 , Energy:  -11.983640220257366\n",
      "iter:  4 , M matrix time:  0.2889900207519531 , V vector time:  5.55063009262085 , Energy:  -11.99072835914953\n",
      "iter:  5 , M matrix time:  0.28196096420288086 , V vector time:  5.4417197704315186 , Energy:  -11.99673571912855\n",
      "iter:  6 , M matrix time:  0.27967309951782227 , V vector time:  5.69266676902771 , Energy:  -12.001825878446535\n",
      "iter:  7 , M matrix time:  0.29668092727661133 , V vector time:  5.57877516746521 , Energy:  -12.006138013956875\n",
      "iter:  8 , M matrix time:  0.28507304191589355 , V vector time:  5.49671196937561 , Energy:  -12.00979044301274\n",
      "iter:  9 , M matrix time:  0.24663901329040527 , V vector time:  5.571138858795166 , Energy:  -12.012883673263268\n",
      "iter:  10 , M matrix time:  0.28919196128845215 , V vector time:  6.086918115615845 , Energy:  -12.015503031696321\n",
      "iter:  11 , M matrix time:  0.33922290802001953 , V vector time:  5.458580255508423 , Energy:  -12.01772091874383\n",
      "iter:  12 , M matrix time:  0.28075528144836426 , V vector time:  5.456387758255005 , Energy:  -12.019598738936613\n",
      "iter:  13 , M matrix time:  0.24577116966247559 , V vector time:  5.439612865447998 , Energy:  -12.021188550683489\n",
      "iter:  14 , M matrix time:  0.2870478630065918 , V vector time:  5.437931060791016 , Energy:  -12.02253447440721\n",
      "iter:  15 , M matrix time:  0.350372314453125 , V vector time:  5.452353000640869 , Energy:  -12.023673892785188\n",
      "iter:  16 , M matrix time:  0.2835681438446045 , V vector time:  5.444163084030151 , Energy:  -12.024638472666688\n",
      "iter:  17 , M matrix time:  0.24587273597717285 , V vector time:  5.41970419883728 , Energy:  -12.025455034236627\n",
      "iter:  18 , M matrix time:  0.2850382328033447 , V vector time:  5.52375602722168 , Energy:  -12.026146289578188\n",
      "iter:  19 , M matrix time:  0.3540060520172119 , V vector time:  5.469660997390747 , Energy:  -12.026731469757808\n",
      "iter:  20 , M matrix time:  0.27584385871887207 , V vector time:  5.429085969924927 , Energy:  -12.027226856908406\n",
      "iter:  21 , M matrix time:  0.24599504470825195 , V vector time:  5.567936897277832 , Energy:  -12.027646235463767\n",
      "iter:  22 , M matrix time:  0.2754631042480469 , V vector time:  5.521199941635132 , Energy:  -12.028001274668796\n",
      "iter:  23 , M matrix time:  0.3653590679168701 , V vector time:  5.655011892318726 , Energy:  -12.028301852726473\n",
      "iter:  24 , M matrix time:  0.260648250579834 , V vector time:  5.650239944458008 , Energy:  -12.028556331416256\n",
      "iter:  25 , M matrix time:  0.2621171474456787 , V vector time:  5.563653945922852 , Energy:  -12.02877178870509\n",
      "iter:  26 , M matrix time:  0.28180384635925293 , V vector time:  5.6201841831207275 , Energy:  -12.028954215745008\n"
     ]
    },
    {
     "ename": "KeyboardInterrupt",
     "evalue": "",
     "output_type": "error",
     "traceback": [
      "\u001b[0;31m---------------------------------------------------------------------------\u001b[0m",
      "\u001b[0;31mKeyboardInterrupt\u001b[0m                         Traceback (most recent call last)",
      "Cell \u001b[0;32mIn[41], line 3\u001b[0m\n\u001b[1;32m      1\u001b[0m \u001b[38;5;66;03m#keyboard interupted before the convergence\u001b[39;00m\n\u001b[0;32m----> 3\u001b[0m \u001b[43mtest_obj\u001b[49m\u001b[38;5;241;43m.\u001b[39;49m\u001b[43mvqite\u001b[49m\u001b[43m(\u001b[49m\u001b[43mopt_m\u001b[49m\u001b[38;5;241;43m=\u001b[39;49m\u001b[38;5;124;43m'\u001b[39;49m\u001b[38;5;124;43mgreedy\u001b[39;49m\u001b[38;5;124;43m'\u001b[39;49m\u001b[43m,\u001b[49m\u001b[43mopt_v\u001b[49m\u001b[38;5;241;43m=\u001b[39;49m\u001b[43mtest_obj\u001b[49m\u001b[38;5;241;43m.\u001b[39;49m\u001b[43mopt_dict\u001b[49m\u001b[43m,\u001b[49m\u001b[43msimp\u001b[49m\u001b[43m \u001b[49m\u001b[38;5;241;43m=\u001b[39;49m\u001b[43m \u001b[49m\u001b[38;5;124;43m'\u001b[39;49m\u001b[38;5;124;43m'\u001b[39;49m\u001b[43m,\u001b[49m\u001b[43mbackend\u001b[49m\u001b[38;5;241;43m=\u001b[39;49m\u001b[38;5;28;43;01mNone\u001b[39;49;00m\u001b[43m)\u001b[49m\n",
      "File \u001b[0;32m~/avqite-quimb/avqite_quimb.py:299\u001b[0m, in \u001b[0;36mvqite\u001b[0;34m(self, opt_m, opt_v, simp, backend)\u001b[0m\n\u001b[1;32m    291\u001b[0m     \u001b[38;5;28mself\u001b[39m\u001b[38;5;241m.\u001b[39mcompute_m(\n\u001b[1;32m    292\u001b[0m         opt\u001b[38;5;241m=\u001b[39mopt_m,\n\u001b[1;32m    293\u001b[0m         simp\u001b[38;5;241m=\u001b[39msimp,\n\u001b[1;32m    294\u001b[0m         backend \u001b[38;5;241m=\u001b[39m backend,\n\u001b[1;32m    295\u001b[0m         which_nonzero\u001b[38;5;241m=\u001b[39m\u001b[38;5;28;01mNone\u001b[39;00m\n\u001b[1;32m    296\u001b[0m     )\n\u001b[1;32m    297\u001b[0m     non_zero_els \u001b[38;5;241m=\u001b[39m np\u001b[38;5;241m.\u001b[39mwhere((np\u001b[38;5;241m.\u001b[39mabs(\u001b[38;5;28mself\u001b[39m\u001b[38;5;241m.\u001b[39m_m)\u001b[38;5;241m>\u001b[39m\u001b[38;5;241m1e-14\u001b[39m) \u001b[38;5;241m==\u001b[39m \u001b[38;5;28;01mTrue\u001b[39;00m)\n\u001b[1;32m    298\u001b[0m     \u001b[38;5;28mself\u001b[39m\u001b[38;5;241m.\u001b[39mwhich_nonzero \u001b[38;5;241m=\u001b[39m [(non_zero_els[\u001b[38;5;241m0\u001b[39m][i],non_zero_els[\u001b[38;5;241m1\u001b[39m][i])\n\u001b[0;32m--> 299\u001b[0m                         \u001b[38;5;28;01mfor\u001b[39;00m i \u001b[38;5;129;01min\u001b[39;00m \u001b[38;5;28mrange\u001b[39m(\u001b[38;5;28mlen\u001b[39m(non_zero_els[\u001b[38;5;241m0\u001b[39m]))\n\u001b[1;32m    300\u001b[0m                         \u001b[38;5;28;01mif\u001b[39;00m non_zero_els[\u001b[38;5;241m0\u001b[39m][i]\u001b[38;5;241m<\u001b[39m\u001b[38;5;241m=\u001b[39mnon_zero_els[\u001b[38;5;241m1\u001b[39m][i]]\n\u001b[1;32m    301\u001b[0m \u001b[38;5;28;01melse\u001b[39;00m:\n\u001b[1;32m    302\u001b[0m     \u001b[38;5;28mself\u001b[39m\u001b[38;5;241m.\u001b[39mcompute_m(\n\u001b[1;32m    303\u001b[0m         opt\u001b[38;5;241m=\u001b[39mopt_m,\n\u001b[1;32m    304\u001b[0m         simp\u001b[38;5;241m=\u001b[39msimp,\n\u001b[1;32m    305\u001b[0m         backend \u001b[38;5;241m=\u001b[39m backend,\n\u001b[1;32m    306\u001b[0m         which_nonzero\u001b[38;5;241m=\u001b[39m\u001b[38;5;28mself\u001b[39m\u001b[38;5;241m.\u001b[39mwhich_nonzero\n\u001b[1;32m    307\u001b[0m     )\n",
      "File \u001b[0;32m~/avqite-quimb/avqite_quimb.py:217\u001b[0m, in \u001b[0;36mcompute_m\u001b[0;34m(self, opt, simp, backend, which_nonzero)\u001b[0m\n\u001b[1;32m    215\u001b[0m             self._m_width[nu,mu] = self._m_width[mu,nu]\n\u001b[1;32m    216\u001b[0m             self._m_cost[nu,mu] = self._m_cost[mu,nu]\n\u001b[0;32m--> 217\u001b[0m else:\n\u001b[1;32m    218\u001b[0m     self._m = np.zeros((len(self._ansatz),len(self._ansatz)))\n\u001b[1;32m    219\u001b[0m     for mu,nu in which_nonzero:\n",
      "File \u001b[0;32m~/avqite-quimb/avqite_quimb.py:450\u001b[0m, in \u001b[0;36mavqite_contr1_est\u001b[0;34m(self, mu, nu, opt, simp, backend)\u001b[0m\n\u001b[1;32m    445\u001b[0m     \u001b[38;5;28;01mraise\u001b[39;00m \u001b[38;5;167;01mValueError\u001b[39;00m(\u001b[38;5;124m\"\u001b[39m\u001b[38;5;124mit is assumed here that mu<=nu\u001b[39m\u001b[38;5;124m\"\u001b[39m)\n\u001b[1;32m    446\u001b[0m \u001b[38;5;28;01mif\u001b[39;00m mu\u001b[38;5;241m<\u001b[39mnu:\n\u001b[1;32m    447\u001b[0m     qc \u001b[38;5;241m=\u001b[39m \u001b[38;5;28mself\u001b[39m\u001b[38;5;241m.\u001b[39mcircuit_1(\n\u001b[1;32m    448\u001b[0m         mu,\n\u001b[1;32m    449\u001b[0m         nu,\n\u001b[0;32m--> 450\u001b[0m         A_mu \u001b[38;5;241m=\u001b[39m \u001b[38;5;28mself\u001b[39m\u001b[38;5;241m.\u001b[39m_ansatz[mu],\n\u001b[1;32m    451\u001b[0m         A_nu \u001b[38;5;241m=\u001b[39m \u001b[38;5;28mself\u001b[39m\u001b[38;5;241m.\u001b[39m_ansatz[nu]\n\u001b[1;32m    452\u001b[0m     )\n\u001b[1;32m    453\u001b[0m     reh \u001b[38;5;241m=\u001b[39m qc\u001b[38;5;241m.\u001b[39mamplitude_rehearse(\n\u001b[1;32m    454\u001b[0m         \u001b[38;5;124m'\u001b[39m\u001b[38;5;124m0\u001b[39m\u001b[38;5;124m'\u001b[39m\u001b[38;5;241m*\u001b[39m\u001b[38;5;28mself\u001b[39m\u001b[38;5;241m.\u001b[39m_num_qubits,\n\u001b[1;32m    455\u001b[0m         optimize\u001b[38;5;241m=\u001b[39mopt,\n\u001b[1;32m    456\u001b[0m         simplify_sequence\u001b[38;5;241m=\u001b[39msimp\n\u001b[1;32m    457\u001b[0m     )\n\u001b[1;32m    458\u001b[0m     width, cost \u001b[38;5;241m=\u001b[39m reh[\u001b[38;5;124m'\u001b[39m\u001b[38;5;124mW\u001b[39m\u001b[38;5;124m'\u001b[39m], reh[\u001b[38;5;124m'\u001b[39m\u001b[38;5;124mC\u001b[39m\u001b[38;5;124m'\u001b[39m]\n",
      "File \u001b[0;32m~/anaconda3/envs/adaptvqite-quimb/lib/python3.11/site-packages/quimb/tensor/circuit.py:2704\u001b[0m, in \u001b[0;36mCircuit.amplitude_rehearse\u001b[0;34m(self, b, simplify_sequence, simplify_atol, simplify_equalize_norms, optimize, dtype, rehearse)\u001b[0m\n\u001b[1;32m   2700\u001b[0m     \u001b[38;5;28;01mimport\u001b[39;00m \u001b[38;5;21;01mrandom\u001b[39;00m\n\u001b[1;32m   2702\u001b[0m     b \u001b[38;5;241m=\u001b[39m [random\u001b[38;5;241m.\u001b[39mchoice(\u001b[38;5;124m\"\u001b[39m\u001b[38;5;124m01\u001b[39m\u001b[38;5;124m\"\u001b[39m) \u001b[38;5;28;01mfor\u001b[39;00m _ \u001b[38;5;129;01min\u001b[39;00m \u001b[38;5;28mrange\u001b[39m(\u001b[38;5;28mself\u001b[39m\u001b[38;5;241m.\u001b[39mN)]\n\u001b[0;32m-> 2704\u001b[0m \u001b[38;5;28;01mreturn\u001b[39;00m \u001b[38;5;28;43mself\u001b[39;49m\u001b[38;5;241;43m.\u001b[39;49m\u001b[43mamplitude\u001b[49m\u001b[43m(\u001b[49m\n\u001b[1;32m   2705\u001b[0m \u001b[43m    \u001b[49m\u001b[43mb\u001b[49m\u001b[38;5;241;43m=\u001b[39;49m\u001b[43mb\u001b[49m\u001b[43m,\u001b[49m\n\u001b[1;32m   2706\u001b[0m \u001b[43m    \u001b[49m\u001b[43moptimize\u001b[49m\u001b[38;5;241;43m=\u001b[39;49m\u001b[43moptimize\u001b[49m\u001b[43m,\u001b[49m\n\u001b[1;32m   2707\u001b[0m \u001b[43m    \u001b[49m\u001b[43mdtype\u001b[49m\u001b[38;5;241;43m=\u001b[39;49m\u001b[43mdtype\u001b[49m\u001b[43m,\u001b[49m\n\u001b[1;32m   2708\u001b[0m \u001b[43m    \u001b[49m\u001b[43mrehearse\u001b[49m\u001b[38;5;241;43m=\u001b[39;49m\u001b[43mrehearse\u001b[49m\u001b[43m,\u001b[49m\n\u001b[1;32m   2709\u001b[0m \u001b[43m    \u001b[49m\u001b[43msimplify_sequence\u001b[49m\u001b[38;5;241;43m=\u001b[39;49m\u001b[43msimplify_sequence\u001b[49m\u001b[43m,\u001b[49m\n\u001b[1;32m   2710\u001b[0m \u001b[43m    \u001b[49m\u001b[43msimplify_atol\u001b[49m\u001b[38;5;241;43m=\u001b[39;49m\u001b[43msimplify_atol\u001b[49m\u001b[43m,\u001b[49m\n\u001b[1;32m   2711\u001b[0m \u001b[43m    \u001b[49m\u001b[43msimplify_equalize_norms\u001b[49m\u001b[38;5;241;43m=\u001b[39;49m\u001b[43msimplify_equalize_norms\u001b[49m\u001b[43m,\u001b[49m\n\u001b[1;32m   2712\u001b[0m \u001b[43m\u001b[49m\u001b[43m)\u001b[49m\n",
      "File \u001b[0;32m~/anaconda3/envs/adaptvqite-quimb/lib/python3.11/site-packages/quimb/tensor/circuit.py:2639\u001b[0m, in \u001b[0;36mCircuit.amplitude\u001b[0;34m(self, b, optimize, simplify_sequence, simplify_atol, simplify_equalize_norms, backend, dtype, rehearse)\u001b[0m\n\u001b[1;32m   2637\u001b[0m \u001b[38;5;66;03m# perform a final simplification and cast\u001b[39;00m\n\u001b[1;32m   2638\u001b[0m psi_b\u001b[38;5;241m.\u001b[39mfull_simplify_(\u001b[38;5;241m*\u001b[39m\u001b[38;5;241m*\u001b[39mfs_opts)\n\u001b[0;32m-> 2639\u001b[0m \u001b[43mpsi_b\u001b[49m\u001b[38;5;241;43m.\u001b[39;49m\u001b[43mastype_\u001b[49m\u001b[43m(\u001b[49m\u001b[43mdtype\u001b[49m\u001b[43m)\u001b[49m\n\u001b[1;32m   2641\u001b[0m \u001b[38;5;28;01mif\u001b[39;00m rehearse \u001b[38;5;241m==\u001b[39m \u001b[38;5;124m\"\u001b[39m\u001b[38;5;124mtn\u001b[39m\u001b[38;5;124m\"\u001b[39m:\n\u001b[1;32m   2642\u001b[0m     \u001b[38;5;28;01mreturn\u001b[39;00m psi_b\n",
      "File \u001b[0;32m~/anaconda3/envs/adaptvqite-quimb/lib/python3.11/site-packages/quimb/tensor/tensor_core.py:10795\u001b[0m, in \u001b[0;36mTensorNetwork.astype\u001b[0;34m(self, dtype, inplace)\u001b[0m\n\u001b[1;32m  10793\u001b[0m TN \u001b[38;5;241m=\u001b[39m \u001b[38;5;28mself\u001b[39m \u001b[38;5;28;01mif\u001b[39;00m inplace \u001b[38;5;28;01melse\u001b[39;00m \u001b[38;5;28mself\u001b[39m\u001b[38;5;241m.\u001b[39mcopy()\n\u001b[1;32m  10794\u001b[0m \u001b[38;5;28;01mfor\u001b[39;00m t \u001b[38;5;129;01min\u001b[39;00m TN:\n\u001b[0;32m> 10795\u001b[0m     \u001b[43mt\u001b[49m\u001b[38;5;241;43m.\u001b[39;49m\u001b[43mastype\u001b[49m\u001b[43m(\u001b[49m\u001b[43mdtype\u001b[49m\u001b[43m,\u001b[49m\u001b[43m \u001b[49m\u001b[43minplace\u001b[49m\u001b[38;5;241;43m=\u001b[39;49m\u001b[38;5;28;43;01mTrue\u001b[39;49;00m\u001b[43m)\u001b[49m\n\u001b[1;32m  10796\u001b[0m \u001b[38;5;28;01mreturn\u001b[39;00m TN\n",
      "File \u001b[0;32m~/anaconda3/envs/adaptvqite-quimb/lib/python3.11/site-packages/quimb/tensor/tensor_core.py:1905\u001b[0m, in \u001b[0;36mTensor.astype\u001b[0;34m(self, dtype, inplace)\u001b[0m\n\u001b[1;32m   1903\u001b[0m T \u001b[38;5;241m=\u001b[39m \u001b[38;5;28mself\u001b[39m \u001b[38;5;28;01mif\u001b[39;00m inplace \u001b[38;5;28;01melse\u001b[39;00m \u001b[38;5;28mself\u001b[39m\u001b[38;5;241m.\u001b[39mcopy()\n\u001b[1;32m   1904\u001b[0m \u001b[38;5;28;01mif\u001b[39;00m T\u001b[38;5;241m.\u001b[39mdtype \u001b[38;5;241m!=\u001b[39m dtype:\n\u001b[0;32m-> 1905\u001b[0m     \u001b[43mT\u001b[49m\u001b[38;5;241;43m.\u001b[39;49m\u001b[43mmodify\u001b[49m\u001b[43m(\u001b[49m\u001b[43mapply\u001b[49m\u001b[38;5;241;43m=\u001b[39;49m\u001b[38;5;28;43;01mlambda\u001b[39;49;00m\u001b[43m \u001b[49m\u001b[43mdata\u001b[49m\u001b[43m:\u001b[49m\u001b[43m \u001b[49m\u001b[43mastype\u001b[49m\u001b[43m(\u001b[49m\u001b[43mdata\u001b[49m\u001b[43m,\u001b[49m\u001b[43m \u001b[49m\u001b[43mdtype\u001b[49m\u001b[43m)\u001b[49m\u001b[43m)\u001b[49m\n\u001b[1;32m   1906\u001b[0m \u001b[38;5;28;01mreturn\u001b[39;00m T\n",
      "File \u001b[0;32m~/anaconda3/envs/adaptvqite-quimb/lib/python3.11/site-packages/quimb/tensor/tensor_core.py:1569\u001b[0m, in \u001b[0;36mTensor.modify\u001b[0;34m(self, **kwargs)\u001b[0m\n\u001b[1;32m   1566\u001b[0m \u001b[38;5;28;01mif\u001b[39;00m kwargs:\n\u001b[1;32m   1567\u001b[0m     \u001b[38;5;28;01mraise\u001b[39;00m \u001b[38;5;167;01mValueError\u001b[39;00m(\u001b[38;5;124mf\u001b[39m\u001b[38;5;124m\"\u001b[39m\u001b[38;5;124mOption(s) \u001b[39m\u001b[38;5;132;01m{\u001b[39;00mkwargs\u001b[38;5;132;01m}\u001b[39;00m\u001b[38;5;124m not valid.\u001b[39m\u001b[38;5;124m\"\u001b[39m)\n\u001b[0;32m-> 1569\u001b[0m \u001b[38;5;28;01mif\u001b[39;00m \u001b[38;5;28mlen\u001b[39m(\u001b[38;5;28mself\u001b[39m\u001b[38;5;241m.\u001b[39minds) \u001b[38;5;241m!=\u001b[39m ndim(\u001b[38;5;28;43mself\u001b[39;49m\u001b[38;5;241;43m.\u001b[39;49m\u001b[43mdata\u001b[49m):\n\u001b[1;32m   1570\u001b[0m     \u001b[38;5;28;01mraise\u001b[39;00m \u001b[38;5;167;01mValueError\u001b[39;00m(\n\u001b[1;32m   1571\u001b[0m         \u001b[38;5;124m\"\u001b[39m\u001b[38;5;124mMismatch between number of data dimensions and \u001b[39m\u001b[38;5;124m\"\u001b[39m\n\u001b[1;32m   1572\u001b[0m         \u001b[38;5;124m\"\u001b[39m\u001b[38;5;124mnumber of indices supplied.\u001b[39m\u001b[38;5;124m\"\u001b[39m\n\u001b[1;32m   1573\u001b[0m     )\n\u001b[1;32m   1575\u001b[0m \u001b[38;5;28;01mif\u001b[39;00m \u001b[38;5;28mself\u001b[39m\u001b[38;5;241m.\u001b[39mleft_inds \u001b[38;5;129;01mand\u001b[39;00m \u001b[38;5;28many\u001b[39m(i \u001b[38;5;129;01mnot\u001b[39;00m \u001b[38;5;129;01min\u001b[39;00m \u001b[38;5;28mself\u001b[39m\u001b[38;5;241m.\u001b[39minds \u001b[38;5;28;01mfor\u001b[39;00m i \u001b[38;5;129;01min\u001b[39;00m \u001b[38;5;28mself\u001b[39m\u001b[38;5;241m.\u001b[39mleft_inds):\n",
      "File \u001b[0;32m~/anaconda3/envs/adaptvqite-quimb/lib/python3.11/site-packages/quimb/tensor/tensor_core.py:11210\u001b[0m, in \u001b[0;36mPTensor.data\u001b[0;34m(self)\u001b[0m\n\u001b[1;32m  11208\u001b[0m \u001b[38;5;129m@property\u001b[39m\n\u001b[1;32m  11209\u001b[0m \u001b[38;5;28;01mdef\u001b[39;00m \u001b[38;5;21mdata\u001b[39m(\u001b[38;5;28mself\u001b[39m):\n\u001b[0;32m> 11210\u001b[0m     \u001b[38;5;28;01mreturn\u001b[39;00m \u001b[38;5;28;43mself\u001b[39;49m\u001b[38;5;241;43m.\u001b[39;49m\u001b[43m_data\u001b[49m\u001b[38;5;241;43m.\u001b[39;49m\u001b[43mdata\u001b[49m\n",
      "File \u001b[0;32m~/anaconda3/envs/adaptvqite-quimb/lib/python3.11/site-packages/quimb/tensor/array_ops.py:561\u001b[0m, in \u001b[0;36mPArray.data\u001b[0;34m(self)\u001b[0m\n\u001b[1;32m    558\u001b[0m \u001b[38;5;129m@property\u001b[39m\n\u001b[1;32m    559\u001b[0m \u001b[38;5;28;01mdef\u001b[39;00m \u001b[38;5;21mdata\u001b[39m(\u001b[38;5;28mself\u001b[39m):\n\u001b[1;32m    560\u001b[0m     \u001b[38;5;28;01mif\u001b[39;00m \u001b[38;5;28mself\u001b[39m\u001b[38;5;241m.\u001b[39m_data \u001b[38;5;129;01mis\u001b[39;00m \u001b[38;5;28;01mNone\u001b[39;00m:\n\u001b[0;32m--> 561\u001b[0m         \u001b[38;5;28mself\u001b[39m\u001b[38;5;241m.\u001b[39m_data \u001b[38;5;241m=\u001b[39m \u001b[38;5;28;43mself\u001b[39;49m\u001b[38;5;241;43m.\u001b[39;49m\u001b[43m_fn\u001b[49m\u001b[43m(\u001b[49m\u001b[38;5;28;43mself\u001b[39;49m\u001b[38;5;241;43m.\u001b[39;49m\u001b[43m_params\u001b[49m\u001b[43m)\u001b[49m\n\u001b[1;32m    562\u001b[0m     \u001b[38;5;28;01mreturn\u001b[39;00m \u001b[38;5;28mself\u001b[39m\u001b[38;5;241m.\u001b[39m_data\n",
      "File \u001b[0;32m~/anaconda3/envs/adaptvqite-quimb/lib/python3.11/site-packages/cytoolz/functoolz.pyx:521\u001b[0m, in \u001b[0;36mcytoolz.functoolz.Compose.__call__\u001b[0;34m()\u001b[0m\n",
      "File \u001b[0;32m~/anaconda3/envs/adaptvqite-quimb/lib/python3.11/site-packages/cytoolz/functoolz.pyx:521\u001b[0m, in \u001b[0;36mcytoolz.functoolz.Compose.__call__\u001b[0;34m()\u001b[0m\n",
      "File \u001b[0;32m~/anaconda3/envs/adaptvqite-quimb/lib/python3.11/site-packages/quimb/tensor/circuit.py:902\u001b[0m, in \u001b[0;36mrzz_param_gen\u001b[0;34m(params)\u001b[0m\n\u001b[1;32m    895\u001b[0m zero \u001b[38;5;241m=\u001b[39m do(\u001b[38;5;124m\"\u001b[39m\u001b[38;5;124mcomplex\u001b[39m\u001b[38;5;124m\"\u001b[39m, zero, zero)\n\u001b[1;32m    897\u001b[0m data \u001b[38;5;241m=\u001b[39m (\n\u001b[1;32m    898\u001b[0m     (((c00, zero), (zero, zero)), ((zero, c01), (zero, zero))),\n\u001b[1;32m    899\u001b[0m     (((zero, zero), (c10, zero)), ((zero, zero), (zero, c11))),\n\u001b[1;32m    900\u001b[0m )\n\u001b[0;32m--> 902\u001b[0m \u001b[38;5;28;01mreturn\u001b[39;00m \u001b[43mrecursive_stack\u001b[49m\u001b[43m(\u001b[49m\u001b[43mdata\u001b[49m\u001b[43m)\u001b[49m\n",
      "File \u001b[0;32m~/anaconda3/envs/adaptvqite-quimb/lib/python3.11/site-packages/quimb/tensor/circuit.py:55\u001b[0m, in \u001b[0;36mrecursive_stack\u001b[0;34m(x)\u001b[0m\n\u001b[1;32m     53\u001b[0m \u001b[38;5;28;01mif\u001b[39;00m \u001b[38;5;129;01mnot\u001b[39;00m \u001b[38;5;28misinstance\u001b[39m(x, (\u001b[38;5;28mlist\u001b[39m, \u001b[38;5;28mtuple\u001b[39m)):\n\u001b[1;32m     54\u001b[0m     \u001b[38;5;28;01mreturn\u001b[39;00m x\n\u001b[0;32m---> 55\u001b[0m \u001b[38;5;28;01mreturn\u001b[39;00m do(\u001b[38;5;124m\"\u001b[39m\u001b[38;5;124mstack\u001b[39m\u001b[38;5;124m\"\u001b[39m, \u001b[38;5;28mtuple\u001b[39m(\u001b[38;5;28mmap\u001b[39m(recursive_stack, x)))\n",
      "File \u001b[0;32m~/anaconda3/envs/adaptvqite-quimb/lib/python3.11/site-packages/quimb/tensor/circuit.py:55\u001b[0m, in \u001b[0;36mrecursive_stack\u001b[0;34m(x)\u001b[0m\n\u001b[1;32m     53\u001b[0m \u001b[38;5;28;01mif\u001b[39;00m \u001b[38;5;129;01mnot\u001b[39;00m \u001b[38;5;28misinstance\u001b[39m(x, (\u001b[38;5;28mlist\u001b[39m, \u001b[38;5;28mtuple\u001b[39m)):\n\u001b[1;32m     54\u001b[0m     \u001b[38;5;28;01mreturn\u001b[39;00m x\n\u001b[0;32m---> 55\u001b[0m \u001b[38;5;28;01mreturn\u001b[39;00m do(\u001b[38;5;124m\"\u001b[39m\u001b[38;5;124mstack\u001b[39m\u001b[38;5;124m\"\u001b[39m, \u001b[38;5;28mtuple\u001b[39m(\u001b[38;5;28mmap\u001b[39m(recursive_stack, x)))\n",
      "    \u001b[0;31m[... skipping similar frames: recursive_stack at line 55 (1 times)]\u001b[0m\n",
      "File \u001b[0;32m~/anaconda3/envs/adaptvqite-quimb/lib/python3.11/site-packages/quimb/tensor/circuit.py:55\u001b[0m, in \u001b[0;36mrecursive_stack\u001b[0;34m(x)\u001b[0m\n\u001b[1;32m     53\u001b[0m \u001b[38;5;28;01mif\u001b[39;00m \u001b[38;5;129;01mnot\u001b[39;00m \u001b[38;5;28misinstance\u001b[39m(x, (\u001b[38;5;28mlist\u001b[39m, \u001b[38;5;28mtuple\u001b[39m)):\n\u001b[1;32m     54\u001b[0m     \u001b[38;5;28;01mreturn\u001b[39;00m x\n\u001b[0;32m---> 55\u001b[0m \u001b[38;5;28;01mreturn\u001b[39;00m \u001b[43mdo\u001b[49m\u001b[43m(\u001b[49m\u001b[38;5;124;43m\"\u001b[39;49m\u001b[38;5;124;43mstack\u001b[39;49m\u001b[38;5;124;43m\"\u001b[39;49m\u001b[43m,\u001b[49m\u001b[43m \u001b[49m\u001b[38;5;28;43mtuple\u001b[39;49m\u001b[43m(\u001b[49m\u001b[38;5;28;43mmap\u001b[39;49m\u001b[43m(\u001b[49m\u001b[43mrecursive_stack\u001b[49m\u001b[43m,\u001b[49m\u001b[43m \u001b[49m\u001b[43mx\u001b[49m\u001b[43m)\u001b[49m\u001b[43m)\u001b[49m\u001b[43m)\u001b[49m\n",
      "File \u001b[0;32m~/anaconda3/envs/adaptvqite-quimb/lib/python3.11/site-packages/autoray/autoray.py:81\u001b[0m, in \u001b[0;36mdo\u001b[0;34m(fn, like, *args, **kwargs)\u001b[0m\n\u001b[1;32m     79\u001b[0m backend \u001b[38;5;241m=\u001b[39m _choose_backend(fn, args, kwargs, like\u001b[38;5;241m=\u001b[39mlike)\n\u001b[1;32m     80\u001b[0m func \u001b[38;5;241m=\u001b[39m get_lib_fn(backend, fn)\n\u001b[0;32m---> 81\u001b[0m \u001b[38;5;28;01mreturn\u001b[39;00m \u001b[43mfunc\u001b[49m\u001b[43m(\u001b[49m\u001b[38;5;241;43m*\u001b[39;49m\u001b[43margs\u001b[49m\u001b[43m,\u001b[49m\u001b[43m \u001b[49m\u001b[38;5;241;43m*\u001b[39;49m\u001b[38;5;241;43m*\u001b[39;49m\u001b[43mkwargs\u001b[49m\u001b[43m)\u001b[49m\n",
      "File \u001b[0;32m<__array_function__ internals>:200\u001b[0m, in \u001b[0;36mstack\u001b[0;34m(*args, **kwargs)\u001b[0m\n",
      "File \u001b[0;32m~/.local/lib/python3.11/site-packages/numpy/core/shape_base.py:471\u001b[0m, in \u001b[0;36mstack\u001b[0;34m(arrays, axis, out, dtype, casting)\u001b[0m\n\u001b[1;32m    469\u001b[0m sl \u001b[38;5;241m=\u001b[39m (\u001b[38;5;28mslice\u001b[39m(\u001b[38;5;28;01mNone\u001b[39;00m),) \u001b[38;5;241m*\u001b[39m axis \u001b[38;5;241m+\u001b[39m (_nx\u001b[38;5;241m.\u001b[39mnewaxis,)\n\u001b[1;32m    470\u001b[0m expanded_arrays \u001b[38;5;241m=\u001b[39m [arr[sl] \u001b[38;5;28;01mfor\u001b[39;00m arr \u001b[38;5;129;01min\u001b[39;00m arrays]\n\u001b[0;32m--> 471\u001b[0m \u001b[38;5;28;01mreturn\u001b[39;00m \u001b[43m_nx\u001b[49m\u001b[38;5;241;43m.\u001b[39;49m\u001b[43mconcatenate\u001b[49m\u001b[43m(\u001b[49m\u001b[43mexpanded_arrays\u001b[49m\u001b[43m,\u001b[49m\u001b[43m \u001b[49m\u001b[43maxis\u001b[49m\u001b[38;5;241;43m=\u001b[39;49m\u001b[43maxis\u001b[49m\u001b[43m,\u001b[49m\u001b[43m \u001b[49m\u001b[43mout\u001b[49m\u001b[38;5;241;43m=\u001b[39;49m\u001b[43mout\u001b[49m\u001b[43m,\u001b[49m\n\u001b[1;32m    472\u001b[0m \u001b[43m                       \u001b[49m\u001b[43mdtype\u001b[49m\u001b[38;5;241;43m=\u001b[39;49m\u001b[43mdtype\u001b[49m\u001b[43m,\u001b[49m\u001b[43m \u001b[49m\u001b[43mcasting\u001b[49m\u001b[38;5;241;43m=\u001b[39;49m\u001b[43mcasting\u001b[49m\u001b[43m)\u001b[49m\n",
      "File \u001b[0;32m<__array_function__ internals>:200\u001b[0m, in \u001b[0;36mconcatenate\u001b[0;34m(*args, **kwargs)\u001b[0m\n",
      "\u001b[0;31mKeyboardInterrupt\u001b[0m: "
     ]
    }
   ],
   "source": [
    "#keyboard interupted before the convergence\n",
    "\n",
    "test_obj.vqite(opt_m='greedy',opt_v=test_obj.opt_dict,simp = '',backend=None)"
   ]
  },
  {
   "cell_type": "code",
   "execution_count": 42,
   "id": "0f16de6c-1be1-45fb-b0b0-031a13f18bd5",
   "metadata": {},
   "outputs": [
    {
     "data": {
      "text/plain": [
       "-12.028954215745008"
      ]
     },
     "execution_count": 42,
     "metadata": {},
     "output_type": "execute_result"
    }
   ],
   "source": [
    "test_obj._e"
   ]
  },
  {
   "cell_type": "code",
   "execution_count": 36,
   "id": "8499e65a-d0e0-4f17-8ce6-3beffdea264c",
   "metadata": {},
   "outputs": [
    {
     "data": {
      "text/plain": [
       "[-0.003193788627411708,\n",
       " 0.01583520260418678,\n",
       " -0.020757635887551668,\n",
       " -0.09264601742526374,\n",
       " -0.05079171298658073,\n",
       " -0.0019396842774154581,\n",
       " -0.04595016717669471,\n",
       " -0.048442493762900087,\n",
       " -0.06255368820764731,\n",
       " -0.010592916660924422,\n",
       " -0.048099810983786004,\n",
       " 0.0004591512638604529,\n",
       " -0.04393497495432116,\n",
       " -0.0005630347431243515,\n",
       " -0.04887048720787112,\n",
       " 0.011672678665910709,\n",
       " -0.04587297823160454,\n",
       " -0.028292594236495903,\n",
       " -0.03612819167759684,\n",
       " -0.0654342266196342,\n",
       " 0.04214942711006408]"
      ]
     },
     "execution_count": 36,
     "metadata": {},
     "output_type": "execute_result"
    }
   ],
   "source": [
    "test_obj.params"
   ]
  },
  {
   "cell_type": "code",
   "execution_count": null,
   "id": "082dd742-681a-489f-94fd-9afedd212c5a",
   "metadata": {},
   "outputs": [],
   "source": []
  }
 ],
 "metadata": {
  "kernelspec": {
   "display_name": "Python 3 (ipykernel)",
   "language": "python",
   "name": "python3"
  },
  "language_info": {
   "codemirror_mode": {
    "name": "ipython",
    "version": 3
   },
   "file_extension": ".py",
   "mimetype": "text/x-python",
   "name": "python",
   "nbconvert_exporter": "python",
   "pygments_lexer": "ipython3",
   "version": "3.11.10"
  }
 },
 "nbformat": 4,
 "nbformat_minor": 5
}
